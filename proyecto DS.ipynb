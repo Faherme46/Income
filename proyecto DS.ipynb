{
  "cells": [
    {
      "cell_type": "code",
      "execution_count": 2,
      "id": "11927825-46da-44c5-91e9-dec58215ad7c",
      "metadata": {
        "tags": [],
        "id": "11927825-46da-44c5-91e9-dec58215ad7c"
      },
      "outputs": [],
      "source": [
        "\n",
        "\n",
        "\n",
        "import pandas as pd\n",
        "import numpy as np\n",
        "import csv\n",
        "import matplotlib.pyplot as plt\n",
        "import seaborn as sns\n",
        "import xgboost as xgb\n",
        "\n",
        "import warnings, requests, zipfile, io\n",
        "warnings.simplefilter('ignore')\n",
        "from scipy.io import arff\n",
        "\n",
        "\n",
        "#importo los modelos\n",
        "from sklearn import tree\n",
        "from sklearn.naive_bayes import GaussianNB\n",
        "from sklearn.model_selection import train_test_split\n",
        "from sklearn.tree import DecisionTreeClassifier\n",
        "from sklearn.ensemble import RandomForestClassifier\n",
        "from sklearn.preprocessing import LabelEncoder\n",
        "from sklearn.model_selection import ParameterGrid\n",
        "from sklearn.preprocessing import  RobustScaler\n",
        "from IPython.display import display\n",
        "from joblib import dump, load\n",
        "from xgboost import XGBClassifier\n",
        "\n",
        "#importo las métricas\n",
        "\n",
        "from sklearn.metrics import confusion_matrix\n",
        "from sklearn.metrics import ConfusionMatrixDisplay\n",
        "from sklearn.metrics import classification_report\n",
        "from sklearn.metrics import roc_curve,auc\n",
        "from sklearn.metrics import accuracy_score\n",
        "\n",
        "#Librerias de validacion cruzada\n",
        "from sklearn.model_selection import KFold\n",
        "from sklearn.model_selection import cross_val_score\n",
        "from sklearn.model_selection import cross_val_predict"
      ]
    },
    {
      "cell_type": "code",
      "execution_count": 3,
      "id": "256beaaf-99cf-4037-9a3c-f256d1259c0f",
      "metadata": {
        "tags": [],
        "id": "256beaaf-99cf-4037-9a3c-f256d1259c0f"
      },
      "outputs": [],
      "source": [
        "f_zip = 'https://github.com/adiacla/bigdata/raw/master/adult.csv.zip'\n",
        "r = requests.get(f_zip, stream=True)\n",
        "adults_zip = zipfile.ZipFile(io.BytesIO(r.content))\n",
        "adults_zip.extractall()"
      ]
    },
    {
      "cell_type": "code",
      "execution_count": null,
      "id": "4738945b-67e8-4fd8-ae29-71b5e2ed6252",
      "metadata": {
        "tags": [],
        "id": "4738945b-67e8-4fd8-ae29-71b5e2ed6252"
      },
      "outputs": [],
      "source": [
        "data = pd.read_csv('adult.csv')\n",
        "df = pd.DataFrame(data)\n",
        "df"
      ]
    },
    {
      "cell_type": "markdown",
      "source": [
        "#Data Cleaning and preprocessing\n",
        "\n"
      ],
      "metadata": {
        "id": "I4tWasYFw-NX"
      },
      "id": "I4tWasYFw-NX"
    },
    {
      "cell_type": "markdown",
      "source": [
        "Se ajusta el ingreso para facilitar el trabajo. Se asigna el valor 0 si es igual o inferior a 50 000 y se asigna el valor 1 si es superior a 50 000."
      ],
      "metadata": {
        "id": "kOm0gs_R7l-e"
      },
      "id": "kOm0gs_R7l-e"
    },
    {
      "cell_type": "code",
      "execution_count": 5,
      "id": "3228700a-b22c-4147-8bee-9994c1ff6313",
      "metadata": {
        "tags": [],
        "id": "3228700a-b22c-4147-8bee-9994c1ff6313"
      },
      "outputs": [],
      "source": [
        "df.loc[df['income'] == '<=50K', ['income']] = 0\n",
        "df.loc[df['income'] == '>50K',['income']] = 1\n",
        "df.to_csv('adult2.csv', index = False)\n",
        "df['income'].value_counts()\n",
        "df['income']=df['income'].astype(int)"
      ]
    },
    {
      "cell_type": "markdown",
      "source": [
        "Se ajusta el sexo para facilitar el trabajo. Se asigna el valor 1 para hombres y el valor 0 para mujeres."
      ],
      "metadata": {
        "id": "3soGlz_A7rQe"
      },
      "id": "3soGlz_A7rQe"
    },
    {
      "cell_type": "code",
      "execution_count": 6,
      "id": "43e02c0d-bb42-4b13-a12c-1e50ef8bd564",
      "metadata": {
        "tags": [],
        "id": "43e02c0d-bb42-4b13-a12c-1e50ef8bd564",
        "colab": {
          "base_uri": "https://localhost:8080/"
        },
        "outputId": "8a4665a9-5128-4ae0-eeec-3dfb66339b46"
      },
      "outputs": [
        {
          "output_type": "execute_result",
          "data": {
            "text/plain": [
              "Male      21790\n",
              "Female    10771\n",
              "Name: sex, dtype: int64"
            ]
          },
          "metadata": {},
          "execution_count": 6
        }
      ],
      "source": [
        "df.sex.value_counts()"
      ]
    },
    {
      "cell_type": "code",
      "execution_count": 7,
      "id": "f4d7f324-9976-4354-8ad1-cda7579fefbc",
      "metadata": {
        "tags": [],
        "id": "f4d7f324-9976-4354-8ad1-cda7579fefbc",
        "colab": {
          "base_uri": "https://localhost:8080/"
        },
        "outputId": "8bca9649-2a1d-4b19-cbf4-d2f004497e5c"
      },
      "outputs": [
        {
          "output_type": "execute_result",
          "data": {
            "text/plain": [
              "1    21790\n",
              "0    10771\n",
              "Name: sex, dtype: int64"
            ]
          },
          "metadata": {},
          "execution_count": 7
        }
      ],
      "source": [
        "df.loc[df['sex'] == 'Female', ['sex']] = 0\n",
        "df.loc[df['sex'] == 'Male',['sex']] = 1\n",
        "df.to_csv('adult2.csv', index = False)\n",
        "\n",
        "df['sex']=df['sex'].astype(int)\n",
        "df['sex'].value_counts()"
      ]
    },
    {
      "cell_type": "markdown",
      "source": [
        "\"Education\" y \"education.num\" describen lo mismo, excepto que \"education.num\" lo cuantifica. Por esta razón, eliminaremos ambas columnas.\n",
        "\n",
        "\"Fnlwgt\" no aporta valor al modelo, por lo tanto, también puede ser eliminado.\n",
        "'RELATIONSHIP' tampoco aporta valor a modelo"
      ],
      "metadata": {
        "id": "RB08WWq07zTn"
      },
      "id": "RB08WWq07zTn"
    },
    {
      "cell_type": "code",
      "source": [
        "df=df.drop(['fnlwgt','education','relationship'],axis=1)"
      ],
      "metadata": {
        "id": "DE-eoHeZ0ujP"
      },
      "id": "DE-eoHeZ0ujP",
      "execution_count": 8,
      "outputs": []
    },
    {
      "cell_type": "markdown",
      "source": [
        "La función clasifica los estados civiles en 'single', 'married' o 'divorced'\n",
        "basándose en ciertos criterios. Luego, cuenta las ocurrencias de cada categoría en la columna 'marital.status' del DataFrame."
      ],
      "metadata": {
        "id": "yK-A06L375K4"
      },
      "id": "yK-A06L375K4"
    },
    {
      "cell_type": "code",
      "source": [
        "df['marital.status'].value_counts()"
      ],
      "metadata": {
        "id": "OtZAfMkmx639",
        "colab": {
          "base_uri": "https://localhost:8080/"
        },
        "outputId": "ab3980e3-3188-43c2-9403-036516c1ba0b"
      },
      "id": "OtZAfMkmx639",
      "execution_count": 9,
      "outputs": [
        {
          "output_type": "execute_result",
          "data": {
            "text/plain": [
              "Married-civ-spouse       14976\n",
              "Never-married            10683\n",
              "Divorced                  4443\n",
              "Separated                 1025\n",
              "Widowed                    993\n",
              "Married-spouse-absent      418\n",
              "Married-AF-spouse           23\n",
              "Name: marital.status, dtype: int64"
            ]
          },
          "metadata": {},
          "execution_count": 9
        }
      ]
    },
    {
      "cell_type": "code",
      "execution_count": 10,
      "id": "765f03cf-012b-4809-bd87-a6667d4250bb",
      "metadata": {
        "tags": [],
        "id": "765f03cf-012b-4809-bd87-a6667d4250bb",
        "colab": {
          "base_uri": "https://localhost:8080/"
        },
        "outputId": "6b6d937f-06ed-4be2-dc15-7dc8288149e7"
      },
      "outputs": [
        {
          "output_type": "execute_result",
          "data": {
            "text/plain": [
              "married     15417\n",
              "single      12701\n",
              "divorced     4443\n",
              "Name: marital.status, dtype: int64"
            ]
          },
          "metadata": {},
          "execution_count": 10
        }
      ],
      "source": [
        "#definiremos unicamente 3 estados civiles: soltero, casado, separado\n",
        "def cambiar_estado_civil(e):\n",
        "    if e in ['Never-married', 'Separated', 'Widowed']:\n",
        "        return 'single'\n",
        "    elif e in ['Married-civ-spouse', 'Married-spouse-absent', 'Married-AF-spouse']:\n",
        "        return 'married'\n",
        "    else:\n",
        "        return 'divorced'\n",
        "\n",
        "df['marital.status'] = df['marital.status'].apply(cambiar_estado_civil)\n",
        "\n",
        "df['marital.status'].value_counts()\n"
      ]
    },
    {
      "cell_type": "code",
      "source": [
        "cate_columns = [col for col in df.columns if df[col].dtype == \"O\"]\n",
        "cate_columns"
      ],
      "metadata": {
        "id": "iF7aTcGPkFDV",
        "colab": {
          "base_uri": "https://localhost:8080/"
        },
        "outputId": "7b712df1-1f0a-43bb-82b2-81eb8d79fc47"
      },
      "id": "iF7aTcGPkFDV",
      "execution_count": 11,
      "outputs": [
        {
          "output_type": "execute_result",
          "data": {
            "text/plain": [
              "['workclass', 'marital.status', 'occupation', 'race', 'native.country']"
            ]
          },
          "metadata": {},
          "execution_count": 11
        }
      ]
    },
    {
      "cell_type": "code",
      "source": [
        "df[\"workclass\"].mode()[0]"
      ],
      "metadata": {
        "id": "4USUrHSNkPrV",
        "colab": {
          "base_uri": "https://localhost:8080/",
          "height": 0
        },
        "outputId": "b7dfc412-f527-46b5-bda0-93e40dec42e8"
      },
      "id": "4USUrHSNkPrV",
      "execution_count": 12,
      "outputs": [
        {
          "output_type": "execute_result",
          "data": {
            "text/plain": [
              "'Private'"
            ],
            "application/vnd.google.colaboratory.intrinsic+json": {
              "type": "string"
            }
          },
          "metadata": {},
          "execution_count": 12
        }
      ]
    },
    {
      "cell_type": "code",
      "source": [
        "#buscar valores con ? y reemplazarlos con NaN\n",
        "\n",
        "def reemplazarNan(data,column):\n",
        "  data[column] = data[column].replace('?', np.nan)\n",
        "  return data\n",
        "\n",
        "df = reemplazarNan(df, 'workclass')\n",
        "df = reemplazarNan(df, 'occupation')\n",
        "df = reemplazarNan(df, 'native.country')"
      ],
      "metadata": {
        "id": "RerA-Dr31-ft"
      },
      "id": "RerA-Dr31-ft",
      "execution_count": 13,
      "outputs": []
    },
    {
      "cell_type": "code",
      "source": [
        "df['workclass'].isnull().sum()"
      ],
      "metadata": {
        "id": "neUYpnzM1-Vl",
        "colab": {
          "base_uri": "https://localhost:8080/"
        },
        "outputId": "174edad6-f42c-4af2-93a0-08cd4c36fed0"
      },
      "id": "neUYpnzM1-Vl",
      "execution_count": 14,
      "outputs": [
        {
          "output_type": "execute_result",
          "data": {
            "text/plain": [
              "1836"
            ]
          },
          "metadata": {},
          "execution_count": 14
        }
      ]
    },
    {
      "cell_type": "code",
      "execution_count": 15,
      "id": "2f9951e2-8e1a-43fc-a6f0-3cfdfc380d67",
      "metadata": {
        "id": "2f9951e2-8e1a-43fc-a6f0-3cfdfc380d67",
        "colab": {
          "base_uri": "https://localhost:8080/",
          "height": 0
        },
        "outputId": "82e06f69-9826-40fe-ddee-1523983bb182"
      },
      "outputs": [
        {
          "output_type": "display_data",
          "data": {
            "text/plain": [
              "<Figure size 1500x800 with 9 Axes>"
            ],
            "image/png": "[encoded data removed]"
          },
          "metadata": {}
        }
      ],
      "source": [
        "df.hist(figsize=(15, 8),bins = 50)\n",
        "plt.show()"
      ]
    },
    {
      "cell_type": "markdown",
      "source": [
        "Matriz de correlacion"
      ],
      "metadata": {
        "id": "mTyhNEkr8tjq"
      },
      "id": "mTyhNEkr8tjq"
    },
    {
      "cell_type": "code",
      "source": [
        "plt.figure(figsize=(5, 2))\n",
        "numeric_columns = df.select_dtypes(include=['float64', 'int64'])\n",
        "correlation_matrix = numeric_columns.corr()\n",
        "plt.figure(figsize=(12, 10))\n",
        "sns.heatmap(correlation_matrix, annot=True, )\n",
        "plt.show()"
      ],
      "metadata": {
        "id": "_BrOOCXX42KO",
        "colab": {
          "base_uri": "https://localhost:8080/",
          "height": 0
        },
        "outputId": "c1898d97-33c6-4a9f-f9b3-6fbd487d385c"
      },
      "id": "_BrOOCXX42KO",
      "execution_count": 16,
      "outputs": [
        {
          "output_type": "display_data",
          "data": {
            "text/plain": [
              "<Figure size 500x200 with 0 Axes>"
            ]
          },
          "metadata": {}
        },
        {
          "output_type": "display_data",
          "data": {
            "text/plain": [
              "<Figure size 1200x1000 with 2 Axes>"
            ],
            "image/png": "[encoded data removed]"
          },
          "metadata": {}
        }
      ]
    },
    {
      "cell_type": "code",
      "source": [
        "#no tendremos en cuenta la columna capital.loss porque es la que mas baja correlacion presenta en el modelo\n",
        "df=df.drop(['capital.loss'],axis=1)\n"
      ],
      "metadata": {
        "id": "VqzrdXqO5YvJ"
      },
      "id": "VqzrdXqO5YvJ",
      "execution_count": 17,
      "outputs": []
    },
    {
      "cell_type": "code",
      "source": [
        "df.head()"
      ],
      "metadata": {
        "id": "TRYHxousmZdy",
        "colab": {
          "base_uri": "https://localhost:8080/",
          "height": 0
        },
        "outputId": "8769d461-5cc9-436f-b243-be2c31dcbe01"
      },
      "id": "TRYHxousmZdy",
      "execution_count": 18,
      "outputs": [
        {
          "output_type": "execute_result",
          "data": {
            "text/plain": [
              "   age workclass  education.num marital.status         occupation   race  sex  \\\n",
              "0   90       NaN              9         single                NaN  White    0   \n",
              "1   82   Private              9         single    Exec-managerial  White    0   \n",
              "2   66       NaN             10         single                NaN  Black    0   \n",
              "3   54   Private              4       divorced  Machine-op-inspct  White    0   \n",
              "4   41   Private             10         single     Prof-specialty  White    0   \n",
              "\n",
              "   capital.gain  hours.per.week native.country  income  \n",
              "0             0              40  United-States       0  \n",
              "1             0              18  United-States       0  \n",
              "2             0              40  United-States       0  \n",
              "3             0              40  United-States       0  \n",
              "4             0              40  United-States       0  "
            ],
            "text/html": [
              "\n",
              "  <div id=\"df-6e6c87ba-284a-4946-ace9-ce7960e37861\" class=\"colab-df-container\">\n",
              "    <div>\n",
              "<style scoped>\n",
              "    .dataframe tbody tr th:only-of-type {\n",
              "        vertical-align: middle;\n",
              "    }\n",
              "\n",
              "    .dataframe tbody tr th {\n",
              "        vertical-align: top;\n",
              "    }\n",
              "\n",
              "    .dataframe thead th {\n",
              "        text-align: right;\n",
              "    }\n",
              "</style>\n",
              "<table border=\"1\" class=\"dataframe\">\n",
              "  <thead>\n",
              "    <tr style=\"text-align: right;\">\n",
              "      <th></th>\n",
              "      <th>age</th>\n",
              "      <th>workclass</th>\n",
              "      <th>education.num</th>\n",
              "      <th>marital.status</th>\n",
              "      <th>occupation</th>\n",
              "      <th>race</th>\n",
              "      <th>sex</th>\n",
              "      <th>capital.gain</th>\n",
              "      <th>hours.per.week</th>\n",
              "      <th>native.country</th>\n",
              "      <th>income</th>\n",
              "    </tr>\n",
              "  </thead>\n",
              "  <tbody>\n",
              "    <tr>\n",
              "      <th>0</th>\n",
              "      <td>90</td>\n",
              "      <td>NaN</td>\n",
              "      <td>9</td>\n",
              "      <td>single</td>\n",
              "      <td>NaN</td>\n",
              "      <td>White</td>\n",
              "      <td>0</td>\n",
              "      <td>0</td>\n",
              "      <td>40</td>\n",
              "      <td>United-States</td>\n",
              "      <td>0</td>\n",
              "    </tr>\n",
              "    <tr>\n",
              "      <th>1</th>\n",
              "      <td>82</td>\n",
              "      <td>Private</td>\n",
              "      <td>9</td>\n",
              "      <td>single</td>\n",
              "      <td>Exec-managerial</td>\n",
              "      <td>White</td>\n",
              "      <td>0</td>\n",
              "      <td>0</td>\n",
              "      <td>18</td>\n",
              "      <td>United-States</td>\n",
              "      <td>0</td>\n",
              "    </tr>\n",
              "    <tr>\n",
              "      <th>2</th>\n",
              "      <td>66</td>\n",
              "      <td>NaN</td>\n",
              "      <td>10</td>\n",
              "      <td>single</td>\n",
              "      <td>NaN</td>\n",
              "      <td>Black</td>\n",
              "      <td>0</td>\n",
              "      <td>0</td>\n",
              "      <td>40</td>\n",
              "      <td>United-States</td>\n",
              "      <td>0</td>\n",
              "    </tr>\n",
              "    <tr>\n",
              "      <th>3</th>\n",
              "      <td>54</td>\n",
              "      <td>Private</td>\n",
              "      <td>4</td>\n",
              "      <td>divorced</td>\n",
              "      <td>Machine-op-inspct</td>\n",
              "      <td>White</td>\n",
              "      <td>0</td>\n",
              "      <td>0</td>\n",
              "      <td>40</td>\n",
              "      <td>United-States</td>\n",
              "      <td>0</td>\n",
              "    </tr>\n",
              "    <tr>\n",
              "      <th>4</th>\n",
              "      <td>41</td>\n",
              "      <td>Private</td>\n",
              "      <td>10</td>\n",
              "      <td>single</td>\n",
              "      <td>Prof-specialty</td>\n",
              "      <td>White</td>\n",
              "      <td>0</td>\n",
              "      <td>0</td>\n",
              "      <td>40</td>\n",
              "      <td>United-States</td>\n",
              "      <td>0</td>\n",
              "    </tr>\n",
              "  </tbody>\n",
              "</table>\n",
              "</div>\n",
              "    <div class=\"colab-df-buttons\">\n",
              "\n",
              "  <div class=\"colab-df-container\">\n",
              "    <button class=\"colab-df-convert\" onclick=\"convertToInteractive('df-6e6c87ba-284a-4946-ace9-ce7960e37861')\"\n",
              "            title=\"Convert this dataframe to an interactive table.\"\n",
              "            style=\"display:none;\">\n",
              "\n",
              "  <svg xmlns=\"http://www.w3.org/2000/svg\" height=\"24px\" viewBox=\"0 -960 960 960\">\n",
              "    <path d=\"M120-120v-720h720v720H120Zm60-500h600v-160H180v160Zm220 220h160v-160H400v160Zm0 220h160v-160H400v160ZM180-400h160v-160H180v160Zm440 0h160v-160H620v160ZM180-180h160v-160H180v160Zm440 0h160v-160H620v160Z\"/>\n",
              "  </svg>\n",
              "    </button>\n",
              "\n",
              "  <style>\n",
              "    .colab-df-container {\n",
              "      display:flex;\n",
              "      gap: 12px;\n",
              "    }\n",
              "\n",
              "    .colab-df-convert {\n",
              "      background-color: #E8F0FE;\n",
              "      border: none;\n",
              "      border-radius: 50%;\n",
              "      cursor: pointer;\n",
              "      display: none;\n",
              "      fill: #1967D2;\n",
              "      height: 32px;\n",
              "      padding: 0 0 0 0;\n",
              "      width: 32px;\n",
              "    }\n",
              "\n",
              "    .colab-df-convert:hover {\n",
              "      background-color: #E2EBFA;\n",
              "      box-shadow: 0px 1px 2px rgba(60, 64, 67, 0.3), 0px 1px 3px 1px rgba(60, 64, 67, 0.15);\n",
              "      fill: #174EA6;\n",
              "    }\n",
              "\n",
              "    .colab-df-buttons div {\n",
              "      margin-bottom: 4px;\n",
              "    }\n",
              "\n",
              "    [theme=dark] .colab-df-convert {\n",
              "      background-color: #3B4455;\n",
              "      fill: #D2E3FC;\n",
              "    }\n",
              "\n",
              "    [theme=dark] .colab-df-convert:hover {\n",
              "      background-color: #434B5C;\n",
              "      box-shadow: 0px 1px 3px 1px rgba(0, 0, 0, 0.15);\n",
              "      filter: drop-shadow(0px 1px 2px rgba(0, 0, 0, 0.3));\n",
              "      fill: #FFFFFF;\n",
              "    }\n",
              "  </style>\n",
              "\n",
              "    <script>\n",
              "      const buttonEl =\n",
              "        document.querySelector('#df-6e6c87ba-284a-4946-ace9-ce7960e37861 button.colab-df-convert');\n",
              "      buttonEl.style.display =\n",
              "        google.colab.kernel.accessAllowed ? 'block' : 'none';\n",
              "\n",
              "      async function convertToInteractive(key) {\n",
              "        const element = document.querySelector('#df-6e6c87ba-284a-4946-ace9-ce7960e37861');\n",
              "        const dataTable =\n",
              "          await google.colab.kernel.invokeFunction('convertToInteractive',\n",
              "                                                    [key], {});\n",
              "        if (!dataTable) return;\n",
              "\n",
              "        const docLinkHtml = 'Like what you see? Visit the ' +\n",
              "          '<a target=\"_blank\" href=https://colab.research.google.com/notebooks/data_table.ipynb>data table notebook</a>'\n",
              "          + ' to learn more about interactive tables.';\n",
              "        element.innerHTML = '';\n",
              "        dataTable['output_type'] = 'display_data';\n",
              "        await google.colab.output.renderOutput(dataTable, element);\n",
              "        const docLink = document.createElement('div');\n",
              "        docLink.innerHTML = docLinkHtml;\n",
              "        element.appendChild(docLink);\n",
              "      }\n",
              "    </script>\n",
              "  </div>\n",
              "\n",
              "\n",
              "<div id=\"df-7df1ea54-adaa-4d76-98b7-08793b004fa7\">\n",
              "  <button class=\"colab-df-quickchart\" onclick=\"quickchart('df-7df1ea54-adaa-4d76-98b7-08793b004fa7')\"\n",
              "            title=\"Suggest charts\"\n",
              "            style=\"display:none;\">\n",
              "\n",
              "<svg xmlns=\"http://www.w3.org/2000/svg\" height=\"24px\"viewBox=\"0 0 24 24\"\n",
              "     width=\"24px\">\n",
              "    <g>\n",
              "        <path d=\"M19 3H5c-1.1 0-2 .9-2 2v14c0 1.1.9 2 2 2h14c1.1 0 2-.9 2-2V5c0-1.1-.9-2-2-2zM9 17H7v-7h2v7zm4 0h-2V7h2v10zm4 0h-2v-4h2v4z\"/>\n",
              "    </g>\n",
              "</svg>\n",
              "  </button>\n",
              "\n",
              "<style>\n",
              "  .colab-df-quickchart {\n",
              "      --bg-color: #E8F0FE;\n",
              "      --fill-color: #1967D2;\n",
              "      --hover-bg-color: #E2EBFA;\n",
              "      --hover-fill-color: #174EA6;\n",
              "      --disabled-fill-color: #AAA;\n",
              "      --disabled-bg-color: #DDD;\n",
              "  }\n",
              "\n",
              "  [theme=dark] .colab-df-quickchart {\n",
              "      --bg-color: #3B4455;\n",
              "      --fill-color: #D2E3FC;\n",
              "      --hover-bg-color: #434B5C;\n",
              "      --hover-fill-color: #FFFFFF;\n",
              "      --disabled-bg-color: #3B4455;\n",
              "      --disabled-fill-color: #666;\n",
              "  }\n",
              "\n",
              "  .colab-df-quickchart {\n",
              "    background-color: var(--bg-color);\n",
              "    border: none;\n",
              "    border-radius: 50%;\n",
              "    cursor: pointer;\n",
              "    display: none;\n",
              "    fill: var(--fill-color);\n",
              "    height: 32px;\n",
              "    padding: 0;\n",
              "    width: 32px;\n",
              "  }\n",
              "\n",
              "  .colab-df-quickchart:hover {\n",
              "    background-color: var(--hover-bg-color);\n",
              "    box-shadow: 0 1px 2px rgba(60, 64, 67, 0.3), 0 1px 3px 1px rgba(60, 64, 67, 0.15);\n",
              "    fill: var(--button-hover-fill-color);\n",
              "  }\n",
              "\n",
              "  .colab-df-quickchart-complete:disabled,\n",
              "  .colab-df-quickchart-complete:disabled:hover {\n",
              "    background-color: var(--disabled-bg-color);\n",
              "    fill: var(--disabled-fill-color);\n",
              "    box-shadow: none;\n",
              "  }\n",
              "\n",
              "  .colab-df-spinner {\n",
              "    border: 2px solid var(--fill-color);\n",
              "    border-color: transparent;\n",
              "    border-bottom-color: var(--fill-color);\n",
              "    animation:\n",
              "      spin 1s steps(1) infinite;\n",
              "  }\n",
              "\n",
              "  @keyframes spin {\n",
              "    0% {\n",
              "      border-color: transparent;\n",
              "      border-bottom-color: var(--fill-color);\n",
              "      border-left-color: var(--fill-color);\n",
              "    }\n",
              "    20% {\n",
              "      border-color: transparent;\n",
              "      border-left-color: var(--fill-color);\n",
              "      border-top-color: var(--fill-color);\n",
              "    }\n",
              "    30% {\n",
              "      border-color: transparent;\n",
              "      border-left-color: var(--fill-color);\n",
              "      border-top-color: var(--fill-color);\n",
              "      border-right-color: var(--fill-color);\n",
              "    }\n",
              "    40% {\n",
              "      border-color: transparent;\n",
              "      border-right-color: var(--fill-color);\n",
              "      border-top-color: var(--fill-color);\n",
              "    }\n",
              "    60% {\n",
              "      border-color: transparent;\n",
              "      border-right-color: var(--fill-color);\n",
              "    }\n",
              "    80% {\n",
              "      border-color: transparent;\n",
              "      border-right-color: var(--fill-color);\n",
              "      border-bottom-color: var(--fill-color);\n",
              "    }\n",
              "    90% {\n",
              "      border-color: transparent;\n",
              "      border-bottom-color: var(--fill-color);\n",
              "    }\n",
              "  }\n",
              "</style>\n",
              "\n",
              "  <script>\n",
              "    async function quickchart(key) {\n",
              "      const quickchartButtonEl =\n",
              "        document.querySelector('#' + key + ' button');\n",
              "      quickchartButtonEl.disabled = true;  // To prevent multiple clicks.\n",
              "      quickchartButtonEl.classList.add('colab-df-spinner');\n",
              "      try {\n",
              "        const charts = await google.colab.kernel.invokeFunction(\n",
              "            'suggestCharts', [key], {});\n",
              "      } catch (error) {\n",
              "        console.error('Error during call to suggestCharts:', error);\n",
              "      }\n",
              "      quickchartButtonEl.classList.remove('colab-df-spinner');\n",
              "      quickchartButtonEl.classList.add('colab-df-quickchart-complete');\n",
              "    }\n",
              "    (() => {\n",
              "      let quickchartButtonEl =\n",
              "        document.querySelector('#df-7df1ea54-adaa-4d76-98b7-08793b004fa7 button');\n",
              "      quickchartButtonEl.style.display =\n",
              "        google.colab.kernel.accessAllowed ? 'block' : 'none';\n",
              "    })();\n",
              "  </script>\n",
              "</div>\n",
              "    </div>\n",
              "  </div>\n"
            ],
            "application/vnd.google.colaboratory.intrinsic+json": {
              "type": "dataframe",
              "variable_name": "df",
              "summary": "{\n  \"name\": \"df\",\n  \"rows\": 32561,\n  \"fields\": [\n    {\n      \"column\": \"age\",\n      \"properties\": {\n        \"dtype\": \"number\",\n        \"std\": 13,\n        \"min\": 17,\n        \"max\": 90,\n        \"num_unique_values\": 73,\n        \"samples\": [\n          41,\n          80,\n          61\n        ],\n        \"semantic_type\": \"\",\n        \"description\": \"\"\n      }\n    },\n    {\n      \"column\": \"workclass\",\n      \"properties\": {\n        \"dtype\": \"category\",\n        \"num_unique_values\": 8,\n        \"samples\": [\n          \"State-gov\",\n          \"Local-gov\",\n          \"Private\"\n        ],\n        \"semantic_type\": \"\",\n        \"description\": \"\"\n      }\n    },\n    {\n      \"column\": \"education.num\",\n      \"properties\": {\n        \"dtype\": \"number\",\n        \"std\": 2,\n        \"min\": 1,\n        \"max\": 16,\n        \"num_unique_values\": 16,\n        \"samples\": [\n          9,\n          10,\n          15\n        ],\n        \"semantic_type\": \"\",\n        \"description\": \"\"\n      }\n    },\n    {\n      \"column\": \"marital.status\",\n      \"properties\": {\n        \"dtype\": \"category\",\n        \"num_unique_values\": 3,\n        \"samples\": [\n          \"single\",\n          \"divorced\",\n          \"married\"\n        ],\n        \"semantic_type\": \"\",\n        \"description\": \"\"\n      }\n    },\n    {\n      \"column\": \"occupation\",\n      \"properties\": {\n        \"dtype\": \"category\",\n        \"num_unique_values\": 14,\n        \"samples\": [\n          \"Farming-fishing\",\n          \"Protective-serv\",\n          \"Exec-managerial\"\n        ],\n        \"semantic_type\": \"\",\n        \"description\": \"\"\n      }\n    },\n    {\n      \"column\": \"race\",\n      \"properties\": {\n        \"dtype\": \"category\",\n        \"num_unique_values\": 5,\n        \"samples\": [\n          \"Black\",\n          \"Amer-Indian-Eskimo\",\n          \"Asian-Pac-Islander\"\n        ],\n        \"semantic_type\": \"\",\n        \"description\": \"\"\n      }\n    },\n    {\n      \"column\": \"sex\",\n      \"properties\": {\n        \"dtype\": \"number\",\n        \"std\": 0,\n        \"min\": 0,\n        \"max\": 1,\n        \"num_unique_values\": 2,\n        \"samples\": [\n          1,\n          0\n        ],\n        \"semantic_type\": \"\",\n        \"description\": \"\"\n      }\n    },\n    {\n      \"column\": \"capital.gain\",\n      \"properties\": {\n        \"dtype\": \"number\",\n        \"std\": 7385,\n        \"min\": 0,\n        \"max\": 99999,\n        \"num_unique_values\": 119,\n        \"samples\": [\n          3887,\n          2329\n        ],\n        \"semantic_type\": \"\",\n        \"description\": \"\"\n      }\n    },\n    {\n      \"column\": \"hours.per.week\",\n      \"properties\": {\n        \"dtype\": \"number\",\n        \"std\": 12,\n        \"min\": 1,\n        \"max\": 99,\n        \"num_unique_values\": 94,\n        \"samples\": [\n          34,\n          80\n        ],\n        \"semantic_type\": \"\",\n        \"description\": \"\"\n      }\n    },\n    {\n      \"column\": \"native.country\",\n      \"properties\": {\n        \"dtype\": \"category\",\n        \"num_unique_values\": 41,\n        \"samples\": [\n          \"Peru\",\n          \"Poland\"\n        ],\n        \"semantic_type\": \"\",\n        \"description\": \"\"\n      }\n    },\n    {\n      \"column\": \"income\",\n      \"properties\": {\n        \"dtype\": \"number\",\n        \"std\": 0,\n        \"min\": 0,\n        \"max\": 1,\n        \"num_unique_values\": 2,\n        \"samples\": [\n          1,\n          0\n        ],\n        \"semantic_type\": \"\",\n        \"description\": \"\"\n      }\n    }\n  ]\n}"
            }
          },
          "metadata": {},
          "execution_count": 18
        }
      ]
    },
    {
      "cell_type": "markdown",
      "source": [
        "HAY QUE CODIFICAR TODAS LAS VARIABLES NOMINALES"
      ],
      "metadata": {
        "id": "Ahu6o5AAmufY"
      },
      "id": "Ahu6o5AAmufY"
    },
    {
      "cell_type": "code",
      "source": [
        "label_encoder=LabelEncoder()\n",
        "feature_list=['workclass', 'marital.status', 'occupation', 'race', 'native.country']\n",
        "for i in feature_list:\n",
        "    df[i] = label_encoder.fit_transform(df[i])\n",
        "df.head()"
      ],
      "metadata": {
        "id": "CJp5gJhRmcya",
        "colab": {
          "base_uri": "https://localhost:8080/",
          "height": 0
        },
        "outputId": "f0550e46-78ed-4131-da56-8d4bc37d9a8a"
      },
      "id": "CJp5gJhRmcya",
      "execution_count": 19,
      "outputs": [
        {
          "output_type": "execute_result",
          "data": {
            "text/plain": [
              "   age  workclass  education.num  marital.status  occupation  race  sex  \\\n",
              "0   90          8              9               2          14     4    0   \n",
              "1   82          3              9               2           3     4    0   \n",
              "2   66          8             10               2          14     2    0   \n",
              "3   54          3              4               0           6     4    0   \n",
              "4   41          3             10               2           9     4    0   \n",
              "\n",
              "   capital.gain  hours.per.week  native.country  income  \n",
              "0             0              40              38       0  \n",
              "1             0              18              38       0  \n",
              "2             0              40              38       0  \n",
              "3             0              40              38       0  \n",
              "4             0              40              38       0  "
            ],
            "text/html": [
              "\n",
              "  <div id=\"df-24eb164e-6856-4361-8287-1feb39415c96\" class=\"colab-df-container\">\n",
              "    <div>\n",
              "<style scoped>\n",
              "    .dataframe tbody tr th:only-of-type {\n",
              "        vertical-align: middle;\n",
              "    }\n",
              "\n",
              "    .dataframe tbody tr th {\n",
              "        vertical-align: top;\n",
              "    }\n",
              "\n",
              "    .dataframe thead th {\n",
              "        text-align: right;\n",
              "    }\n",
              "</style>\n",
              "<table border=\"1\" class=\"dataframe\">\n",
              "  <thead>\n",
              "    <tr style=\"text-align: right;\">\n",
              "      <th></th>\n",
              "      <th>age</th>\n",
              "      <th>workclass</th>\n",
              "      <th>education.num</th>\n",
              "      <th>marital.status</th>\n",
              "      <th>occupation</th>\n",
              "      <th>race</th>\n",
              "      <th>sex</th>\n",
              "      <th>capital.gain</th>\n",
              "      <th>hours.per.week</th>\n",
              "      <th>native.country</th>\n",
              "      <th>income</th>\n",
              "    </tr>\n",
              "  </thead>\n",
              "  <tbody>\n",
              "    <tr>\n",
              "      <th>0</th>\n",
              "      <td>90</td>\n",
              "      <td>8</td>\n",
              "      <td>9</td>\n",
              "      <td>2</td>\n",
              "      <td>14</td>\n",
              "      <td>4</td>\n",
              "      <td>0</td>\n",
              "      <td>0</td>\n",
              "      <td>40</td>\n",
              "      <td>38</td>\n",
              "      <td>0</td>\n",
              "    </tr>\n",
              "    <tr>\n",
              "      <th>1</th>\n",
              "      <td>82</td>\n",
              "      <td>3</td>\n",
              "      <td>9</td>\n",
              "      <td>2</td>\n",
              "      <td>3</td>\n",
              "      <td>4</td>\n",
              "      <td>0</td>\n",
              "      <td>0</td>\n",
              "      <td>18</td>\n",
              "      <td>38</td>\n",
              "      <td>0</td>\n",
              "    </tr>\n",
              "    <tr>\n",
              "      <th>2</th>\n",
              "      <td>66</td>\n",
              "      <td>8</td>\n",
              "      <td>10</td>\n",
              "      <td>2</td>\n",
              "      <td>14</td>\n",
              "      <td>2</td>\n",
              "      <td>0</td>\n",
              "      <td>0</td>\n",
              "      <td>40</td>\n",
              "      <td>38</td>\n",
              "      <td>0</td>\n",
              "    </tr>\n",
              "    <tr>\n",
              "      <th>3</th>\n",
              "      <td>54</td>\n",
              "      <td>3</td>\n",
              "      <td>4</td>\n",
              "      <td>0</td>\n",
              "      <td>6</td>\n",
              "      <td>4</td>\n",
              "      <td>0</td>\n",
              "      <td>0</td>\n",
              "      <td>40</td>\n",
              "      <td>38</td>\n",
              "      <td>0</td>\n",
              "    </tr>\n",
              "    <tr>\n",
              "      <th>4</th>\n",
              "      <td>41</td>\n",
              "      <td>3</td>\n",
              "      <td>10</td>\n",
              "      <td>2</td>\n",
              "      <td>9</td>\n",
              "      <td>4</td>\n",
              "      <td>0</td>\n",
              "      <td>0</td>\n",
              "      <td>40</td>\n",
              "      <td>38</td>\n",
              "      <td>0</td>\n",
              "    </tr>\n",
              "  </tbody>\n",
              "</table>\n",
              "</div>\n",
              "    <div class=\"colab-df-buttons\">\n",
              "\n",
              "  <div class=\"colab-df-container\">\n",
              "    <button class=\"colab-df-convert\" onclick=\"convertToInteractive('df-24eb164e-6856-4361-8287-1feb39415c96')\"\n",
              "            title=\"Convert this dataframe to an interactive table.\"\n",
              "            style=\"display:none;\">\n",
              "\n",
              "  <svg xmlns=\"http://www.w3.org/2000/svg\" height=\"24px\" viewBox=\"0 -960 960 960\">\n",
              "    <path d=\"M120-120v-720h720v720H120Zm60-500h600v-160H180v160Zm220 220h160v-160H400v160Zm0 220h160v-160H400v160ZM180-400h160v-160H180v160Zm440 0h160v-160H620v160ZM180-180h160v-160H180v160Zm440 0h160v-160H620v160Z\"/>\n",
              "  </svg>\n",
              "    </button>\n",
              "\n",
              "  <style>\n",
              "    .colab-df-container {\n",
              "      display:flex;\n",
              "      gap: 12px;\n",
              "    }\n",
              "\n",
              "    .colab-df-convert {\n",
              "      background-color: #E8F0FE;\n",
              "      border: none;\n",
              "      border-radius: 50%;\n",
              "      cursor: pointer;\n",
              "      display: none;\n",
              "      fill: #1967D2;\n",
              "      height: 32px;\n",
              "      padding: 0 0 0 0;\n",
              "      width: 32px;\n",
              "    }\n",
              "\n",
              "    .colab-df-convert:hover {\n",
              "      background-color: #E2EBFA;\n",
              "      box-shadow: 0px 1px 2px rgba(60, 64, 67, 0.3), 0px 1px 3px 1px rgba(60, 64, 67, 0.15);\n",
              "      fill: #174EA6;\n",
              "    }\n",
              "\n",
              "    .colab-df-buttons div {\n",
              "      margin-bottom: 4px;\n",
              "    }\n",
              "\n",
              "    [theme=dark] .colab-df-convert {\n",
              "      background-color: #3B4455;\n",
              "      fill: #D2E3FC;\n",
              "    }\n",
              "\n",
              "    [theme=dark] .colab-df-convert:hover {\n",
              "      background-color: #434B5C;\n",
              "      box-shadow: 0px 1px 3px 1px rgba(0, 0, 0, 0.15);\n",
              "      filter: drop-shadow(0px 1px 2px rgba(0, 0, 0, 0.3));\n",
              "      fill: #FFFFFF;\n",
              "    }\n",
              "  </style>\n",
              "\n",
              "    <script>\n",
              "      const buttonEl =\n",
              "        document.querySelector('#df-24eb164e-6856-4361-8287-1feb39415c96 button.colab-df-convert');\n",
              "      buttonEl.style.display =\n",
              "        google.colab.kernel.accessAllowed ? 'block' : 'none';\n",
              "\n",
              "      async function convertToInteractive(key) {\n",
              "        const element = document.querySelector('#df-24eb164e-6856-4361-8287-1feb39415c96');\n",
              "        const dataTable =\n",
              "          await google.colab.kernel.invokeFunction('convertToInteractive',\n",
              "                                                    [key], {});\n",
              "        if (!dataTable) return;\n",
              "\n",
              "        const docLinkHtml = 'Like what you see? Visit the ' +\n",
              "          '<a target=\"_blank\" href=https://colab.research.google.com/notebooks/data_table.ipynb>data table notebook</a>'\n",
              "          + ' to learn more about interactive tables.';\n",
              "        element.innerHTML = '';\n",
              "        dataTable['output_type'] = 'display_data';\n",
              "        await google.colab.output.renderOutput(dataTable, element);\n",
              "        const docLink = document.createElement('div');\n",
              "        docLink.innerHTML = docLinkHtml;\n",
              "        element.appendChild(docLink);\n",
              "      }\n",
              "    </script>\n",
              "  </div>\n",
              "\n",
              "\n",
              "<div id=\"df-56326cf4-ff90-47e7-a8a7-f38fabc2f78f\">\n",
              "  <button class=\"colab-df-quickchart\" onclick=\"quickchart('df-56326cf4-ff90-47e7-a8a7-f38fabc2f78f')\"\n",
              "            title=\"Suggest charts\"\n",
              "            style=\"display:none;\">\n",
              "\n",
              "<svg xmlns=\"http://www.w3.org/2000/svg\" height=\"24px\"viewBox=\"0 0 24 24\"\n",
              "     width=\"24px\">\n",
              "    <g>\n",
              "        <path d=\"M19 3H5c-1.1 0-2 .9-2 2v14c0 1.1.9 2 2 2h14c1.1 0 2-.9 2-2V5c0-1.1-.9-2-2-2zM9 17H7v-7h2v7zm4 0h-2V7h2v10zm4 0h-2v-4h2v4z\"/>\n",
              "    </g>\n",
              "</svg>\n",
              "  </button>\n",
              "\n",
              "<style>\n",
              "  .colab-df-quickchart {\n",
              "      --bg-color: #E8F0FE;\n",
              "      --fill-color: #1967D2;\n",
              "      --hover-bg-color: #E2EBFA;\n",
              "      --hover-fill-color: #174EA6;\n",
              "      --disabled-fill-color: #AAA;\n",
              "      --disabled-bg-color: #DDD;\n",
              "  }\n",
              "\n",
              "  [theme=dark] .colab-df-quickchart {\n",
              "      --bg-color: #3B4455;\n",
              "      --fill-color: #D2E3FC;\n",
              "      --hover-bg-color: #434B5C;\n",
              "      --hover-fill-color: #FFFFFF;\n",
              "      --disabled-bg-color: #3B4455;\n",
              "      --disabled-fill-color: #666;\n",
              "  }\n",
              "\n",
              "  .colab-df-quickchart {\n",
              "    background-color: var(--bg-color);\n",
              "    border: none;\n",
              "    border-radius: 50%;\n",
              "    cursor: pointer;\n",
              "    display: none;\n",
              "    fill: var(--fill-color);\n",
              "    height: 32px;\n",
              "    padding: 0;\n",
              "    width: 32px;\n",
              "  }\n",
              "\n",
              "  .colab-df-quickchart:hover {\n",
              "    background-color: var(--hover-bg-color);\n",
              "    box-shadow: 0 1px 2px rgba(60, 64, 67, 0.3), 0 1px 3px 1px rgba(60, 64, 67, 0.15);\n",
              "    fill: var(--button-hover-fill-color);\n",
              "  }\n",
              "\n",
              "  .colab-df-quickchart-complete:disabled,\n",
              "  .colab-df-quickchart-complete:disabled:hover {\n",
              "    background-color: var(--disabled-bg-color);\n",
              "    fill: var(--disabled-fill-color);\n",
              "    box-shadow: none;\n",
              "  }\n",
              "\n",
              "  .colab-df-spinner {\n",
              "    border: 2px solid var(--fill-color);\n",
              "    border-color: transparent;\n",
              "    border-bottom-color: var(--fill-color);\n",
              "    animation:\n",
              "      spin 1s steps(1) infinite;\n",
              "  }\n",
              "\n",
              "  @keyframes spin {\n",
              "    0% {\n",
              "      border-color: transparent;\n",
              "      border-bottom-color: var(--fill-color);\n",
              "      border-left-color: var(--fill-color);\n",
              "    }\n",
              "    20% {\n",
              "      border-color: transparent;\n",
              "      border-left-color: var(--fill-color);\n",
              "      border-top-color: var(--fill-color);\n",
              "    }\n",
              "    30% {\n",
              "      border-color: transparent;\n",
              "      border-left-color: var(--fill-color);\n",
              "      border-top-color: var(--fill-color);\n",
              "      border-right-color: var(--fill-color);\n",
              "    }\n",
              "    40% {\n",
              "      border-color: transparent;\n",
              "      border-right-color: var(--fill-color);\n",
              "      border-top-color: var(--fill-color);\n",
              "    }\n",
              "    60% {\n",
              "      border-color: transparent;\n",
              "      border-right-color: var(--fill-color);\n",
              "    }\n",
              "    80% {\n",
              "      border-color: transparent;\n",
              "      border-right-color: var(--fill-color);\n",
              "      border-bottom-color: var(--fill-color);\n",
              "    }\n",
              "    90% {\n",
              "      border-color: transparent;\n",
              "      border-bottom-color: var(--fill-color);\n",
              "    }\n",
              "  }\n",
              "</style>\n",
              "\n",
              "  <script>\n",
              "    async function quickchart(key) {\n",
              "      const quickchartButtonEl =\n",
              "        document.querySelector('#' + key + ' button');\n",
              "      quickchartButtonEl.disabled = true;  // To prevent multiple clicks.\n",
              "      quickchartButtonEl.classList.add('colab-df-spinner');\n",
              "      try {\n",
              "        const charts = await google.colab.kernel.invokeFunction(\n",
              "            'suggestCharts', [key], {});\n",
              "      } catch (error) {\n",
              "        console.error('Error during call to suggestCharts:', error);\n",
              "      }\n",
              "      quickchartButtonEl.classList.remove('colab-df-spinner');\n",
              "      quickchartButtonEl.classList.add('colab-df-quickchart-complete');\n",
              "    }\n",
              "    (() => {\n",
              "      let quickchartButtonEl =\n",
              "        document.querySelector('#df-56326cf4-ff90-47e7-a8a7-f38fabc2f78f button');\n",
              "      quickchartButtonEl.style.display =\n",
              "        google.colab.kernel.accessAllowed ? 'block' : 'none';\n",
              "    })();\n",
              "  </script>\n",
              "</div>\n",
              "    </div>\n",
              "  </div>\n"
            ],
            "application/vnd.google.colaboratory.intrinsic+json": {
              "type": "dataframe",
              "variable_name": "df",
              "summary": "{\n  \"name\": \"df\",\n  \"rows\": 32561,\n  \"fields\": [\n    {\n      \"column\": \"age\",\n      \"properties\": {\n        \"dtype\": \"number\",\n        \"std\": 13,\n        \"min\": 17,\n        \"max\": 90,\n        \"num_unique_values\": 73,\n        \"samples\": [\n          41,\n          80,\n          61\n        ],\n        \"semantic_type\": \"\",\n        \"description\": \"\"\n      }\n    },\n    {\n      \"column\": \"workclass\",\n      \"properties\": {\n        \"dtype\": \"number\",\n        \"std\": 1,\n        \"min\": 0,\n        \"max\": 8,\n        \"num_unique_values\": 9,\n        \"samples\": [\n          7,\n          3,\n          4\n        ],\n        \"semantic_type\": \"\",\n        \"description\": \"\"\n      }\n    },\n    {\n      \"column\": \"education.num\",\n      \"properties\": {\n        \"dtype\": \"number\",\n        \"std\": 2,\n        \"min\": 1,\n        \"max\": 16,\n        \"num_unique_values\": 16,\n        \"samples\": [\n          9,\n          10,\n          15\n        ],\n        \"semantic_type\": \"\",\n        \"description\": \"\"\n      }\n    },\n    {\n      \"column\": \"marital.status\",\n      \"properties\": {\n        \"dtype\": \"number\",\n        \"std\": 0,\n        \"min\": 0,\n        \"max\": 2,\n        \"num_unique_values\": 3,\n        \"samples\": [\n          2,\n          0,\n          1\n        ],\n        \"semantic_type\": \"\",\n        \"description\": \"\"\n      }\n    },\n    {\n      \"column\": \"occupation\",\n      \"properties\": {\n        \"dtype\": \"number\",\n        \"std\": 4,\n        \"min\": 0,\n        \"max\": 14,\n        \"num_unique_values\": 15,\n        \"samples\": [\n          11,\n          12,\n          14\n        ],\n        \"semantic_type\": \"\",\n        \"description\": \"\"\n      }\n    },\n    {\n      \"column\": \"race\",\n      \"properties\": {\n        \"dtype\": \"number\",\n        \"std\": 0,\n        \"min\": 0,\n        \"max\": 4,\n        \"num_unique_values\": 5,\n        \"samples\": [\n          2,\n          0,\n          1\n        ],\n        \"semantic_type\": \"\",\n        \"description\": \"\"\n      }\n    },\n    {\n      \"column\": \"sex\",\n      \"properties\": {\n        \"dtype\": \"number\",\n        \"std\": 0,\n        \"min\": 0,\n        \"max\": 1,\n        \"num_unique_values\": 2,\n        \"samples\": [\n          1,\n          0\n        ],\n        \"semantic_type\": \"\",\n        \"description\": \"\"\n      }\n    },\n    {\n      \"column\": \"capital.gain\",\n      \"properties\": {\n        \"dtype\": \"number\",\n        \"std\": 7385,\n        \"min\": 0,\n        \"max\": 99999,\n        \"num_unique_values\": 119,\n        \"samples\": [\n          3887,\n          2329\n        ],\n        \"semantic_type\": \"\",\n        \"description\": \"\"\n      }\n    },\n    {\n      \"column\": \"hours.per.week\",\n      \"properties\": {\n        \"dtype\": \"number\",\n        \"std\": 12,\n        \"min\": 1,\n        \"max\": 99,\n        \"num_unique_values\": 94,\n        \"samples\": [\n          34,\n          80\n        ],\n        \"semantic_type\": \"\",\n        \"description\": \"\"\n      }\n    },\n    {\n      \"column\": \"native.country\",\n      \"properties\": {\n        \"dtype\": \"number\",\n        \"std\": 6,\n        \"min\": 0,\n        \"max\": 41,\n        \"num_unique_values\": 42,\n        \"samples\": [\n          28,\n          32\n        ],\n        \"semantic_type\": \"\",\n        \"description\": \"\"\n      }\n    },\n    {\n      \"column\": \"income\",\n      \"properties\": {\n        \"dtype\": \"number\",\n        \"std\": 0,\n        \"min\": 0,\n        \"max\": 1,\n        \"num_unique_values\": 2,\n        \"samples\": [\n          1,\n          0\n        ],\n        \"semantic_type\": \"\",\n        \"description\": \"\"\n      }\n    }\n  ]\n}"
            }
          },
          "metadata": {},
          "execution_count": 19
        }
      ]
    },
    {
      "cell_type": "markdown",
      "source": [
        "#Crear modelo de Machine Learning"
      ],
      "metadata": {
        "id": "im0Vb2oB7FVv"
      },
      "id": "im0Vb2oB7FVv"
    },
    {
      "cell_type": "code",
      "source": [
        "df.info()\n"
      ],
      "metadata": {
        "colab": {
          "base_uri": "https://localhost:8080/"
        },
        "id": "anXcteWn7EG-",
        "outputId": "373ca7cb-6aff-46f3-b0c3-07a9a0e7ee58"
      },
      "id": "anXcteWn7EG-",
      "execution_count": 20,
      "outputs": [
        {
          "output_type": "stream",
          "name": "stdout",
          "text": [
            "<class 'pandas.core.frame.DataFrame'>\n",
            "RangeIndex: 32561 entries, 0 to 32560\n",
            "Data columns (total 11 columns):\n",
            " #   Column          Non-Null Count  Dtype\n",
            "---  ------          --------------  -----\n",
            " 0   age             32561 non-null  int64\n",
            " 1   workclass       32561 non-null  int64\n",
            " 2   education.num   32561 non-null  int64\n",
            " 3   marital.status  32561 non-null  int64\n",
            " 4   occupation      32561 non-null  int64\n",
            " 5   race            32561 non-null  int64\n",
            " 6   sex             32561 non-null  int64\n",
            " 7   capital.gain    32561 non-null  int64\n",
            " 8   hours.per.week  32561 non-null  int64\n",
            " 9   native.country  32561 non-null  int64\n",
            " 10  income          32561 non-null  int64\n",
            "dtypes: int64(11)\n",
            "memory usage: 2.7 MB\n"
          ]
        }
      ]
    },
    {
      "cell_type": "code",
      "source": [
        "#Datos de prueba y los datos entrenamiento con un división 80%\n",
        "X=df.drop(\"income\", axis=1) #selecciono las caracteristicas\n",
        "y=df[\"income\"]#selecciono la columna target"
      ],
      "metadata": {
        "id": "Chb4fuYV7PzO"
      },
      "id": "Chb4fuYV7PzO",
      "execution_count": 21,
      "outputs": []
    },
    {
      "cell_type": "code",
      "source": [
        "X_train,X_test,y_train,y_test=train_test_split(X,y,train_size=0.8,random_state=454, stratify=df.income) #o test_size=0.2"
      ],
      "metadata": {
        "id": "3pGNz6DC7MHf"
      },
      "id": "3pGNz6DC7MHf",
      "execution_count": 22,
      "outputs": []
    },
    {
      "cell_type": "markdown",
      "source": [
        "#Naive Bayes"
      ],
      "metadata": {
        "id": "rJJLf5mJ84aO"
      },
      "id": "rJJLf5mJ84aO"
    },
    {
      "cell_type": "code",
      "source": [
        "X = df.drop(columns = [\"income\"] )\n",
        "y = df[\"income\"]\n",
        "X_train,X_test,y_train , y_test =train_test_split(X,y,test_size = 0.3, random_state = 43)\n",
        "print(X_train.shape, X_test.shape)"
      ],
      "metadata": {
        "colab": {
          "base_uri": "https://localhost:8080/"
        },
        "id": "rQ0Q5yu6eaqm",
        "outputId": "53eca80f-5df3-426d-cab0-f62c952adb3d"
      },
      "id": "rQ0Q5yu6eaqm",
      "execution_count": 33,
      "outputs": [
        {
          "output_type": "stream",
          "name": "stdout",
          "text": [
            "(22792, 10) (9769, 10)\n"
          ]
        }
      ]
    },
    {
      "cell_type": "code",
      "source": [
        "model_scale = RobustScaler()\n",
        "model_scale.fit(X_train)\n",
        "X_train_scale =model_scale.transform(X_train)\n",
        "X_test_scale =model_scale.transform(X_test)\n",
        "print(X_train_scale)"
      ],
      "metadata": {
        "colab": {
          "base_uri": "https://localhost:8080/"
        },
        "id": "8ya1kE_NkYHg",
        "outputId": "3463cfe7-5649-49bd-aa42-c7b457c8965e"
      },
      "id": "8ya1kE_NkYHg",
      "execution_count": 34,
      "outputs": [
        {
          "output_type": "stream",
          "name": "stdout",
          "text": [
            "[[  0.7          3.           1.33333333 ...   0.           0.\n",
            "    0.        ]\n",
            " [ -0.05         0.           1.         ...   0.           3.\n",
            "    0.        ]\n",
            " [ -0.35         0.           1.         ...   0.           3.\n",
            "    0.        ]\n",
            " ...\n",
            " [ -0.2          3.           1.         ...   0.           4.\n",
            "    0.        ]\n",
            " [  1.           0.          -0.33333333 ...   0.           0.\n",
            "  -13.        ]\n",
            " [ -0.8          0.          -0.33333333 ...   0.          -2.\n",
            "    0.        ]]\n"
          ]
        }
      ]
    },
    {
      "cell_type": "code",
      "source": [
        "model = GaussianNB()\n",
        "model.fit(X_train, y_train)"
      ],
      "metadata": {
        "colab": {
          "base_uri": "https://localhost:8080/",
          "height": 74
        },
        "id": "-jQZNBafdhTb",
        "outputId": "7c735059-c6ba-4e64-c97a-ddfccd2cc321"
      },
      "id": "-jQZNBafdhTb",
      "execution_count": 35,
      "outputs": [
        {
          "output_type": "execute_result",
          "data": {
            "text/plain": [
              "GaussianNB()"
            ],
            "text/html": [
              "<style>#sk-container-id-3 {color: black;background-color: white;}#sk-container-id-3 pre{padding: 0;}#sk-container-id-3 div.sk-toggleable {background-color: white;}#sk-container-id-3 label.sk-toggleable__label {cursor: pointer;display: block;width: 100%;margin-bottom: 0;padding: 0.3em;box-sizing: border-box;text-align: center;}#sk-container-id-3 label.sk-toggleable__label-arrow:before {content: \"▸\";float: left;margin-right: 0.25em;color: #696969;}#sk-container-id-3 label.sk-toggleable__label-arrow:hover:before {color: black;}#sk-container-id-3 div.sk-estimator:hover label.sk-toggleable__label-arrow:before {color: black;}#sk-container-id-3 div.sk-toggleable__content {max-height: 0;max-width: 0;overflow: hidden;text-align: left;background-color: #f0f8ff;}#sk-container-id-3 div.sk-toggleable__content pre {margin: 0.2em;color: black;border-radius: 0.25em;background-color: #f0f8ff;}#sk-container-id-3 input.sk-toggleable__control:checked~div.sk-toggleable__content {max-height: 200px;max-width: 100%;overflow: auto;}#sk-container-id-3 input.sk-toggleable__control:checked~label.sk-toggleable__label-arrow:before {content: \"▾\";}#sk-container-id-3 div.sk-estimator input.sk-toggleable__control:checked~label.sk-toggleable__label {background-color: #d4ebff;}#sk-container-id-3 div.sk-label input.sk-toggleable__control:checked~label.sk-toggleable__label {background-color: #d4ebff;}#sk-container-id-3 input.sk-hidden--visually {border: 0;clip: rect(1px 1px 1px 1px);clip: rect(1px, 1px, 1px, 1px);height: 1px;margin: -1px;overflow: hidden;padding: 0;position: absolute;width: 1px;}#sk-container-id-3 div.sk-estimator {font-family: monospace;background-color: #f0f8ff;border: 1px dotted black;border-radius: 0.25em;box-sizing: border-box;margin-bottom: 0.5em;}#sk-container-id-3 div.sk-estimator:hover {background-color: #d4ebff;}#sk-container-id-3 div.sk-parallel-item::after {content: \"\";width: 100%;border-bottom: 1px solid gray;flex-grow: 1;}#sk-container-id-3 div.sk-label:hover label.sk-toggleable__label {background-color: #d4ebff;}#sk-container-id-3 div.sk-serial::before {content: \"\";position: absolute;border-left: 1px solid gray;box-sizing: border-box;top: 0;bottom: 0;left: 50%;z-index: 0;}#sk-container-id-3 div.sk-serial {display: flex;flex-direction: column;align-items: center;background-color: white;padding-right: 0.2em;padding-left: 0.2em;position: relative;}#sk-container-id-3 div.sk-item {position: relative;z-index: 1;}#sk-container-id-3 div.sk-parallel {display: flex;align-items: stretch;justify-content: center;background-color: white;position: relative;}#sk-container-id-3 div.sk-item::before, #sk-container-id-3 div.sk-parallel-item::before {content: \"\";position: absolute;border-left: 1px solid gray;box-sizing: border-box;top: 0;bottom: 0;left: 50%;z-index: -1;}#sk-container-id-3 div.sk-parallel-item {display: flex;flex-direction: column;z-index: 1;position: relative;background-color: white;}#sk-container-id-3 div.sk-parallel-item:first-child::after {align-self: flex-end;width: 50%;}#sk-container-id-3 div.sk-parallel-item:last-child::after {align-self: flex-start;width: 50%;}#sk-container-id-3 div.sk-parallel-item:only-child::after {width: 0;}#sk-container-id-3 div.sk-dashed-wrapped {border: 1px dashed gray;margin: 0 0.4em 0.5em 0.4em;box-sizing: border-box;padding-bottom: 0.4em;background-color: white;}#sk-container-id-3 div.sk-label label {font-family: monospace;font-weight: bold;display: inline-block;line-height: 1.2em;}#sk-container-id-3 div.sk-label-container {text-align: center;}#sk-container-id-3 div.sk-container {/* jupyter's `normalize.less` sets `[hidden] { display: none; }` but bootstrap.min.css set `[hidden] { display: none !important; }` so we also need the `!important` here to be able to override the default hidden behavior on the sphinx rendered scikit-learn.org. See: https://github.com/scikit-learn/scikit-learn/issues/21755 */display: inline-block !important;position: relative;}#sk-container-id-3 div.sk-text-repr-fallback {display: none;}</style><div id=\"sk-container-id-3\" class=\"sk-top-container\"><div class=\"sk-text-repr-fallback\"><pre>GaussianNB()</pre><b>In a Jupyter environment, please rerun this cell to show the HTML representation or trust the notebook. <br />On GitHub, the HTML representation is unable to render, please try loading this page with nbviewer.org.</b></div><div class=\"sk-container\" hidden><div class=\"sk-item\"><div class=\"sk-estimator sk-toggleable\"><input class=\"sk-toggleable__control sk-hidden--visually\" id=\"sk-estimator-id-3\" type=\"checkbox\" checked><label for=\"sk-estimator-id-3\" class=\"sk-toggleable__label sk-toggleable__label-arrow\">GaussianNB</label><div class=\"sk-toggleable__content\"><pre>GaussianNB()</pre></div></div></div></div></div>"
            ]
          },
          "metadata": {},
          "execution_count": 35
        }
      ]
    },
    {
      "cell_type": "code",
      "source": [
        "from sklearn.metrics import accuracy_score, precision_score, recall_score, f1_score\n",
        "\n",
        "y_pred=model.predict(X_test)\n",
        "\n",
        "score =accuracy_score(y_test, y_pred)\n",
        "print(\"Accuracy: \",round(score*100,2))\n",
        "\n",
        "p_score = round(precision_score(y_test,  y_pred)*100,2)\n",
        "r_score = round(recall_score(y_test,  y_pred)*100,2)\n",
        "f_score = round(f1_score(y_test, y_pred)*100,2)\n",
        "print(\"Precision: {} Recall: {} F1 Score: {}\".format(p_score,r_score,f_score))"
      ],
      "metadata": {
        "colab": {
          "base_uri": "https://localhost:8080/"
        },
        "id": "1IMF8ZjgdjEf",
        "outputId": "cdb47c82-2f78-4c9b-b334-6d7f9aafba46"
      },
      "id": "1IMF8ZjgdjEf",
      "execution_count": 36,
      "outputs": [
        {
          "output_type": "stream",
          "name": "stdout",
          "text": [
            "Accuracy:  79.75\n",
            "Precision: 73.43 Recall: 23.62 F1 Score: 35.74\n"
          ]
        }
      ]
    },
    {
      "cell_type": "code",
      "source": [
        "test_residual= y_test - y_pred"
      ],
      "metadata": {
        "id": "uhs85sjxe9WL"
      },
      "id": "uhs85sjxe9WL",
      "execution_count": 37,
      "outputs": []
    },
    {
      "cell_type": "code",
      "source": [
        "A = pd.DataFrame({'Actual': y_test, 'Predicted': y_pred, 'diff':(abs(y_test-y_pred))})\n",
        "A"
      ],
      "metadata": {
        "colab": {
          "base_uri": "https://localhost:8080/",
          "height": 423
        },
        "id": "W1bO2_mzfEyz",
        "outputId": "76855e1c-aadb-484a-bb5c-d5f196641993"
      },
      "id": "W1bO2_mzfEyz",
      "execution_count": 38,
      "outputs": [
        {
          "output_type": "execute_result",
          "data": {
            "text/plain": [
              "       Actual  Predicted  diff\n",
              "23468       0          0     0\n",
              "17285       0          0     0\n",
              "21182       0          0     0\n",
              "27732       0          0     0\n",
              "29745       0          0     0\n",
              "...       ...        ...   ...\n",
              "30372       0          0     0\n",
              "27116       0          0     0\n",
              "24609       1          0     1\n",
              "27874       1          0     1\n",
              "19074       0          0     0\n",
              "\n",
              "[9769 rows x 3 columns]"
            ],
            "text/html": [
              "\n",
              "  <div id=\"df-0a1dec72-7c59-471f-9390-52cf92dbad27\" class=\"colab-df-container\">\n",
              "    <div>\n",
              "<style scoped>\n",
              "    .dataframe tbody tr th:only-of-type {\n",
              "        vertical-align: middle;\n",
              "    }\n",
              "\n",
              "    .dataframe tbody tr th {\n",
              "        vertical-align: top;\n",
              "    }\n",
              "\n",
              "    .dataframe thead th {\n",
              "        text-align: right;\n",
              "    }\n",
              "</style>\n",
              "<table border=\"1\" class=\"dataframe\">\n",
              "  <thead>\n",
              "    <tr style=\"text-align: right;\">\n",
              "      <th></th>\n",
              "      <th>Actual</th>\n",
              "      <th>Predicted</th>\n",
              "      <th>diff</th>\n",
              "    </tr>\n",
              "  </thead>\n",
              "  <tbody>\n",
              "    <tr>\n",
              "      <th>23468</th>\n",
              "      <td>0</td>\n",
              "      <td>0</td>\n",
              "      <td>0</td>\n",
              "    </tr>\n",
              "    <tr>\n",
              "      <th>17285</th>\n",
              "      <td>0</td>\n",
              "      <td>0</td>\n",
              "      <td>0</td>\n",
              "    </tr>\n",
              "    <tr>\n",
              "      <th>21182</th>\n",
              "      <td>0</td>\n",
              "      <td>0</td>\n",
              "      <td>0</td>\n",
              "    </tr>\n",
              "    <tr>\n",
              "      <th>27732</th>\n",
              "      <td>0</td>\n",
              "      <td>0</td>\n",
              "      <td>0</td>\n",
              "    </tr>\n",
              "    <tr>\n",
              "      <th>29745</th>\n",
              "      <td>0</td>\n",
              "      <td>0</td>\n",
              "      <td>0</td>\n",
              "    </tr>\n",
              "    <tr>\n",
              "      <th>...</th>\n",
              "      <td>...</td>\n",
              "      <td>...</td>\n",
              "      <td>...</td>\n",
              "    </tr>\n",
              "    <tr>\n",
              "      <th>30372</th>\n",
              "      <td>0</td>\n",
              "      <td>0</td>\n",
              "      <td>0</td>\n",
              "    </tr>\n",
              "    <tr>\n",
              "      <th>27116</th>\n",
              "      <td>0</td>\n",
              "      <td>0</td>\n",
              "      <td>0</td>\n",
              "    </tr>\n",
              "    <tr>\n",
              "      <th>24609</th>\n",
              "      <td>1</td>\n",
              "      <td>0</td>\n",
              "      <td>1</td>\n",
              "    </tr>\n",
              "    <tr>\n",
              "      <th>27874</th>\n",
              "      <td>1</td>\n",
              "      <td>0</td>\n",
              "      <td>1</td>\n",
              "    </tr>\n",
              "    <tr>\n",
              "      <th>19074</th>\n",
              "      <td>0</td>\n",
              "      <td>0</td>\n",
              "      <td>0</td>\n",
              "    </tr>\n",
              "  </tbody>\n",
              "</table>\n",
              "<p>9769 rows × 3 columns</p>\n",
              "</div>\n",
              "    <div class=\"colab-df-buttons\">\n",
              "\n",
              "  <div class=\"colab-df-container\">\n",
              "    <button class=\"colab-df-convert\" onclick=\"convertToInteractive('df-0a1dec72-7c59-471f-9390-52cf92dbad27')\"\n",
              "            title=\"Convert this dataframe to an interactive table.\"\n",
              "            style=\"display:none;\">\n",
              "\n",
              "  <svg xmlns=\"http://www.w3.org/2000/svg\" height=\"24px\" viewBox=\"0 -960 960 960\">\n",
              "    <path d=\"M120-120v-720h720v720H120Zm60-500h600v-160H180v160Zm220 220h160v-160H400v160Zm0 220h160v-160H400v160ZM180-400h160v-160H180v160Zm440 0h160v-160H620v160ZM180-180h160v-160H180v160Zm440 0h160v-160H620v160Z\"/>\n",
              "  </svg>\n",
              "    </button>\n",
              "\n",
              "  <style>\n",
              "    .colab-df-container {\n",
              "      display:flex;\n",
              "      gap: 12px;\n",
              "    }\n",
              "\n",
              "    .colab-df-convert {\n",
              "      background-color: #E8F0FE;\n",
              "      border: none;\n",
              "      border-radius: 50%;\n",
              "      cursor: pointer;\n",
              "      display: none;\n",
              "      fill: #1967D2;\n",
              "      height: 32px;\n",
              "      padding: 0 0 0 0;\n",
              "      width: 32px;\n",
              "    }\n",
              "\n",
              "    .colab-df-convert:hover {\n",
              "      background-color: #E2EBFA;\n",
              "      box-shadow: 0px 1px 2px rgba(60, 64, 67, 0.3), 0px 1px 3px 1px rgba(60, 64, 67, 0.15);\n",
              "      fill: #174EA6;\n",
              "    }\n",
              "\n",
              "    .colab-df-buttons div {\n",
              "      margin-bottom: 4px;\n",
              "    }\n",
              "\n",
              "    [theme=dark] .colab-df-convert {\n",
              "      background-color: #3B4455;\n",
              "      fill: #D2E3FC;\n",
              "    }\n",
              "\n",
              "    [theme=dark] .colab-df-convert:hover {\n",
              "      background-color: #434B5C;\n",
              "      box-shadow: 0px 1px 3px 1px rgba(0, 0, 0, 0.15);\n",
              "      filter: drop-shadow(0px 1px 2px rgba(0, 0, 0, 0.3));\n",
              "      fill: #FFFFFF;\n",
              "    }\n",
              "  </style>\n",
              "\n",
              "    <script>\n",
              "      const buttonEl =\n",
              "        document.querySelector('#df-0a1dec72-7c59-471f-9390-52cf92dbad27 button.colab-df-convert');\n",
              "      buttonEl.style.display =\n",
              "        google.colab.kernel.accessAllowed ? 'block' : 'none';\n",
              "\n",
              "      async function convertToInteractive(key) {\n",
              "        const element = document.querySelector('#df-0a1dec72-7c59-471f-9390-52cf92dbad27');\n",
              "        const dataTable =\n",
              "          await google.colab.kernel.invokeFunction('convertToInteractive',\n",
              "                                                    [key], {});\n",
              "        if (!dataTable) return;\n",
              "\n",
              "        const docLinkHtml = 'Like what you see? Visit the ' +\n",
              "          '<a target=\"_blank\" href=https://colab.research.google.com/notebooks/data_table.ipynb>data table notebook</a>'\n",
              "          + ' to learn more about interactive tables.';\n",
              "        element.innerHTML = '';\n",
              "        dataTable['output_type'] = 'display_data';\n",
              "        await google.colab.output.renderOutput(dataTable, element);\n",
              "        const docLink = document.createElement('div');\n",
              "        docLink.innerHTML = docLinkHtml;\n",
              "        element.appendChild(docLink);\n",
              "      }\n",
              "    </script>\n",
              "  </div>\n",
              "\n",
              "\n",
              "<div id=\"df-2e010c29-8e90-4e36-97f0-f8ec49754e00\">\n",
              "  <button class=\"colab-df-quickchart\" onclick=\"quickchart('df-2e010c29-8e90-4e36-97f0-f8ec49754e00')\"\n",
              "            title=\"Suggest charts\"\n",
              "            style=\"display:none;\">\n",
              "\n",
              "<svg xmlns=\"http://www.w3.org/2000/svg\" height=\"24px\"viewBox=\"0 0 24 24\"\n",
              "     width=\"24px\">\n",
              "    <g>\n",
              "        <path d=\"M19 3H5c-1.1 0-2 .9-2 2v14c0 1.1.9 2 2 2h14c1.1 0 2-.9 2-2V5c0-1.1-.9-2-2-2zM9 17H7v-7h2v7zm4 0h-2V7h2v10zm4 0h-2v-4h2v4z\"/>\n",
              "    </g>\n",
              "</svg>\n",
              "  </button>\n",
              "\n",
              "<style>\n",
              "  .colab-df-quickchart {\n",
              "      --bg-color: #E8F0FE;\n",
              "      --fill-color: #1967D2;\n",
              "      --hover-bg-color: #E2EBFA;\n",
              "      --hover-fill-color: #174EA6;\n",
              "      --disabled-fill-color: #AAA;\n",
              "      --disabled-bg-color: #DDD;\n",
              "  }\n",
              "\n",
              "  [theme=dark] .colab-df-quickchart {\n",
              "      --bg-color: #3B4455;\n",
              "      --fill-color: #D2E3FC;\n",
              "      --hover-bg-color: #434B5C;\n",
              "      --hover-fill-color: #FFFFFF;\n",
              "      --disabled-bg-color: #3B4455;\n",
              "      --disabled-fill-color: #666;\n",
              "  }\n",
              "\n",
              "  .colab-df-quickchart {\n",
              "    background-color: var(--bg-color);\n",
              "    border: none;\n",
              "    border-radius: 50%;\n",
              "    cursor: pointer;\n",
              "    display: none;\n",
              "    fill: var(--fill-color);\n",
              "    height: 32px;\n",
              "    padding: 0;\n",
              "    width: 32px;\n",
              "  }\n",
              "\n",
              "  .colab-df-quickchart:hover {\n",
              "    background-color: var(--hover-bg-color);\n",
              "    box-shadow: 0 1px 2px rgba(60, 64, 67, 0.3), 0 1px 3px 1px rgba(60, 64, 67, 0.15);\n",
              "    fill: var(--button-hover-fill-color);\n",
              "  }\n",
              "\n",
              "  .colab-df-quickchart-complete:disabled,\n",
              "  .colab-df-quickchart-complete:disabled:hover {\n",
              "    background-color: var(--disabled-bg-color);\n",
              "    fill: var(--disabled-fill-color);\n",
              "    box-shadow: none;\n",
              "  }\n",
              "\n",
              "  .colab-df-spinner {\n",
              "    border: 2px solid var(--fill-color);\n",
              "    border-color: transparent;\n",
              "    border-bottom-color: var(--fill-color);\n",
              "    animation:\n",
              "      spin 1s steps(1) infinite;\n",
              "  }\n",
              "\n",
              "  @keyframes spin {\n",
              "    0% {\n",
              "      border-color: transparent;\n",
              "      border-bottom-color: var(--fill-color);\n",
              "      border-left-color: var(--fill-color);\n",
              "    }\n",
              "    20% {\n",
              "      border-color: transparent;\n",
              "      border-left-color: var(--fill-color);\n",
              "      border-top-color: var(--fill-color);\n",
              "    }\n",
              "    30% {\n",
              "      border-color: transparent;\n",
              "      border-left-color: var(--fill-color);\n",
              "      border-top-color: var(--fill-color);\n",
              "      border-right-color: var(--fill-color);\n",
              "    }\n",
              "    40% {\n",
              "      border-color: transparent;\n",
              "      border-right-color: var(--fill-color);\n",
              "      border-top-color: var(--fill-color);\n",
              "    }\n",
              "    60% {\n",
              "      border-color: transparent;\n",
              "      border-right-color: var(--fill-color);\n",
              "    }\n",
              "    80% {\n",
              "      border-color: transparent;\n",
              "      border-right-color: var(--fill-color);\n",
              "      border-bottom-color: var(--fill-color);\n",
              "    }\n",
              "    90% {\n",
              "      border-color: transparent;\n",
              "      border-bottom-color: var(--fill-color);\n",
              "    }\n",
              "  }\n",
              "</style>\n",
              "\n",
              "  <script>\n",
              "    async function quickchart(key) {\n",
              "      const quickchartButtonEl =\n",
              "        document.querySelector('#' + key + ' button');\n",
              "      quickchartButtonEl.disabled = true;  // To prevent multiple clicks.\n",
              "      quickchartButtonEl.classList.add('colab-df-spinner');\n",
              "      try {\n",
              "        const charts = await google.colab.kernel.invokeFunction(\n",
              "            'suggestCharts', [key], {});\n",
              "      } catch (error) {\n",
              "        console.error('Error during call to suggestCharts:', error);\n",
              "      }\n",
              "      quickchartButtonEl.classList.remove('colab-df-spinner');\n",
              "      quickchartButtonEl.classList.add('colab-df-quickchart-complete');\n",
              "    }\n",
              "    (() => {\n",
              "      let quickchartButtonEl =\n",
              "        document.querySelector('#df-2e010c29-8e90-4e36-97f0-f8ec49754e00 button');\n",
              "      quickchartButtonEl.style.display =\n",
              "        google.colab.kernel.accessAllowed ? 'block' : 'none';\n",
              "    })();\n",
              "  </script>\n",
              "</div>\n",
              "    </div>\n",
              "  </div>\n"
            ],
            "application/vnd.google.colaboratory.intrinsic+json": {
              "type": "dataframe",
              "variable_name": "A",
              "summary": "{\n  \"name\": \"A\",\n  \"rows\": 9769,\n  \"fields\": [\n    {\n      \"column\": \"Actual\",\n      \"properties\": {\n        \"dtype\": \"number\",\n        \"std\": 0,\n        \"min\": 0,\n        \"max\": 1,\n        \"num_unique_values\": 2,\n        \"samples\": [\n          1,\n          0\n        ],\n        \"semantic_type\": \"\",\n        \"description\": \"\"\n      }\n    },\n    {\n      \"column\": \"Predicted\",\n      \"properties\": {\n        \"dtype\": \"number\",\n        \"std\": 0,\n        \"min\": 0,\n        \"max\": 1,\n        \"num_unique_values\": 2,\n        \"samples\": [\n          1,\n          0\n        ],\n        \"semantic_type\": \"\",\n        \"description\": \"\"\n      }\n    },\n    {\n      \"column\": \"diff\",\n      \"properties\": {\n        \"dtype\": \"number\",\n        \"std\": 0,\n        \"min\": 0,\n        \"max\": 1,\n        \"num_unique_values\": 2,\n        \"samples\": [\n          1,\n          0\n        ],\n        \"semantic_type\": \"\",\n        \"description\": \"\"\n      }\n    }\n  ]\n}"
            }
          },
          "metadata": {},
          "execution_count": 38
        }
      ]
    },
    {
      "cell_type": "code",
      "source": [
        "#residuals\n",
        "sns.residplot(x='Actual',y='Predicted',data=A)\n",
        "plt.show();"
      ],
      "metadata": {
        "colab": {
          "base_uri": "https://localhost:8080/",
          "height": 449
        },
        "id": "P2ZeHVPefGpw",
        "outputId": "db0ef421-2c77-4e7e-af9b-a8ff49f365a7"
      },
      "id": "P2ZeHVPefGpw",
      "execution_count": 39,
      "outputs": [
        {
          "output_type": "display_data",
          "data": {
            "text/plain": [
              "<Figure size 640x480 with 1 Axes>"
            ],
            "image/png": "[encoded data removed]"
          },
          "metadata": {}
        }
      ]
    },
    {
      "cell_type": "code",
      "source": [
        "#Save the model\n",
        "final_model=GaussianNB()\n",
        "final_model.fit(X_train,y_train)\n",
        "dump(final_model, 'adult')"
      ],
      "metadata": {
        "colab": {
          "base_uri": "https://localhost:8080/"
        },
        "id": "eIClMDrPfShP",
        "outputId": "b43b3d20-ca70-44cf-f719-d685aa4c151e"
      },
      "id": "eIClMDrPfShP",
      "execution_count": 40,
      "outputs": [
        {
          "output_type": "execute_result",
          "data": {
            "text/plain": [
              "['adult']"
            ]
          },
          "metadata": {},
          "execution_count": 40
        }
      ]
    },
    {
      "cell_type": "code",
      "source": [
        "# Load the Model:\n",
        "load_model=load('adult')\n",
        "load_model"
      ],
      "metadata": {
        "colab": {
          "base_uri": "https://localhost:8080/",
          "height": 74
        },
        "id": "SQoRYtb6fVvC",
        "outputId": "ed976b61-5fca-41ba-fbf6-f1873dbd9d3c"
      },
      "id": "SQoRYtb6fVvC",
      "execution_count": 41,
      "outputs": [
        {
          "output_type": "execute_result",
          "data": {
            "text/plain": [
              "GaussianNB()"
            ],
            "text/html": [
              "<style>#sk-container-id-4 {color: black;background-color: white;}#sk-container-id-4 pre{padding: 0;}#sk-container-id-4 div.sk-toggleable {background-color: white;}#sk-container-id-4 label.sk-toggleable__label {cursor: pointer;display: block;width: 100%;margin-bottom: 0;padding: 0.3em;box-sizing: border-box;text-align: center;}#sk-container-id-4 label.sk-toggleable__label-arrow:before {content: \"▸\";float: left;margin-right: 0.25em;color: #696969;}#sk-container-id-4 label.sk-toggleable__label-arrow:hover:before {color: black;}#sk-container-id-4 div.sk-estimator:hover label.sk-toggleable__label-arrow:before {color: black;}#sk-container-id-4 div.sk-toggleable__content {max-height: 0;max-width: 0;overflow: hidden;text-align: left;background-color: #f0f8ff;}#sk-container-id-4 div.sk-toggleable__content pre {margin: 0.2em;color: black;border-radius: 0.25em;background-color: #f0f8ff;}#sk-container-id-4 input.sk-toggleable__control:checked~div.sk-toggleable__content {max-height: 200px;max-width: 100%;overflow: auto;}#sk-container-id-4 input.sk-toggleable__control:checked~label.sk-toggleable__label-arrow:before {content: \"▾\";}#sk-container-id-4 div.sk-estimator input.sk-toggleable__control:checked~label.sk-toggleable__label {background-color: #d4ebff;}#sk-container-id-4 div.sk-label input.sk-toggleable__control:checked~label.sk-toggleable__label {background-color: #d4ebff;}#sk-container-id-4 input.sk-hidden--visually {border: 0;clip: rect(1px 1px 1px 1px);clip: rect(1px, 1px, 1px, 1px);height: 1px;margin: -1px;overflow: hidden;padding: 0;position: absolute;width: 1px;}#sk-container-id-4 div.sk-estimator {font-family: monospace;background-color: #f0f8ff;border: 1px dotted black;border-radius: 0.25em;box-sizing: border-box;margin-bottom: 0.5em;}#sk-container-id-4 div.sk-estimator:hover {background-color: #d4ebff;}#sk-container-id-4 div.sk-parallel-item::after {content: \"\";width: 100%;border-bottom: 1px solid gray;flex-grow: 1;}#sk-container-id-4 div.sk-label:hover label.sk-toggleable__label {background-color: #d4ebff;}#sk-container-id-4 div.sk-serial::before {content: \"\";position: absolute;border-left: 1px solid gray;box-sizing: border-box;top: 0;bottom: 0;left: 50%;z-index: 0;}#sk-container-id-4 div.sk-serial {display: flex;flex-direction: column;align-items: center;background-color: white;padding-right: 0.2em;padding-left: 0.2em;position: relative;}#sk-container-id-4 div.sk-item {position: relative;z-index: 1;}#sk-container-id-4 div.sk-parallel {display: flex;align-items: stretch;justify-content: center;background-color: white;position: relative;}#sk-container-id-4 div.sk-item::before, #sk-container-id-4 div.sk-parallel-item::before {content: \"\";position: absolute;border-left: 1px solid gray;box-sizing: border-box;top: 0;bottom: 0;left: 50%;z-index: -1;}#sk-container-id-4 div.sk-parallel-item {display: flex;flex-direction: column;z-index: 1;position: relative;background-color: white;}#sk-container-id-4 div.sk-parallel-item:first-child::after {align-self: flex-end;width: 50%;}#sk-container-id-4 div.sk-parallel-item:last-child::after {align-self: flex-start;width: 50%;}#sk-container-id-4 div.sk-parallel-item:only-child::after {width: 0;}#sk-container-id-4 div.sk-dashed-wrapped {border: 1px dashed gray;margin: 0 0.4em 0.5em 0.4em;box-sizing: border-box;padding-bottom: 0.4em;background-color: white;}#sk-container-id-4 div.sk-label label {font-family: monospace;font-weight: bold;display: inline-block;line-height: 1.2em;}#sk-container-id-4 div.sk-label-container {text-align: center;}#sk-container-id-4 div.sk-container {/* jupyter's `normalize.less` sets `[hidden] { display: none; }` but bootstrap.min.css set `[hidden] { display: none !important; }` so we also need the `!important` here to be able to override the default hidden behavior on the sphinx rendered scikit-learn.org. See: https://github.com/scikit-learn/scikit-learn/issues/21755 */display: inline-block !important;position: relative;}#sk-container-id-4 div.sk-text-repr-fallback {display: none;}</style><div id=\"sk-container-id-4\" class=\"sk-top-container\"><div class=\"sk-text-repr-fallback\"><pre>GaussianNB()</pre><b>In a Jupyter environment, please rerun this cell to show the HTML representation or trust the notebook. <br />On GitHub, the HTML representation is unable to render, please try loading this page with nbviewer.org.</b></div><div class=\"sk-container\" hidden><div class=\"sk-item\"><div class=\"sk-estimator sk-toggleable\"><input class=\"sk-toggleable__control sk-hidden--visually\" id=\"sk-estimator-id-4\" type=\"checkbox\" checked><label for=\"sk-estimator-id-4\" class=\"sk-toggleable__label sk-toggleable__label-arrow\">GaussianNB</label><div class=\"sk-toggleable__content\"><pre>GaussianNB()</pre></div></div></div></div></div>"
            ]
          },
          "metadata": {},
          "execution_count": 41
        }
      ]
    },
    {
      "cell_type": "code",
      "source": [
        "y_pred = load_model.predict(X_test_scale)\n",
        "score = accuracy_score(y_test, y_pred)\n",
        "score"
      ],
      "metadata": {
        "colab": {
          "base_uri": "https://localhost:8080/"
        },
        "id": "0BiUH2vwfbOW",
        "outputId": "f27ac1b3-2511-45de-82e4-1d279792de8a"
      },
      "id": "0BiUH2vwfbOW",
      "execution_count": 42,
      "outputs": [
        {
          "output_type": "execute_result",
          "data": {
            "text/plain": [
              "0.8037670181185382"
            ]
          },
          "metadata": {},
          "execution_count": 42
        }
      ]
    },
    {
      "cell_type": "markdown",
      "source": [
        "#XGBoost"
      ],
      "metadata": {
        "id": "ORrIjiaZ9OLe"
      },
      "id": "ORrIjiaZ9OLe"
    },
    {
      "cell_type": "code",
      "source": [
        "dtrain_reg = xgb.DMatrix(X_train, y_train, enable_categorical=True)\n",
        "dtest_reg = xgb.DMatrix(X_test, y_test, enable_categorical=True)"
      ],
      "metadata": {
        "id": "Xj0abIRXwVg_"
      },
      "id": "Xj0abIRXwVg_",
      "execution_count": 43,
      "outputs": []
    },
    {
      "cell_type": "code",
      "source": [
        "params = {\"model__learning_rate\": 0.1,\n",
        "          \"model__n_estimators\": 200,\n",
        "          \"objective\":'binary:logistic'}"
      ],
      "metadata": {
        "id": "1W1WwELMw9j_"
      },
      "id": "1W1WwELMw9j_",
      "execution_count": 44,
      "outputs": []
    },
    {
      "cell_type": "code",
      "source": [
        "evals = [(dtest_reg, \"validation\"), (dtrain_reg, \"train\")]"
      ],
      "metadata": {
        "id": "2VH1q33Ex7lP"
      },
      "id": "2VH1q33Ex7lP",
      "execution_count": 45,
      "outputs": []
    },
    {
      "cell_type": "code",
      "source": [
        "n = 1000\n",
        "modeloXGBoost = xgb.train(params=params,\n",
        "                          dtrain=dtrain_reg,\n",
        "                          num_boost_round=n,\n",
        "                          evals=evals,\n",
        "                          verbose_eval=100)"
      ],
      "metadata": {
        "colab": {
          "base_uri": "https://localhost:8080/"
        },
        "id": "-q3sB7udyFPb",
        "outputId": "3914fbef-f6e4-422c-8985-1f4063eefd4b"
      },
      "id": "-q3sB7udyFPb",
      "execution_count": 46,
      "outputs": [
        {
          "output_type": "stream",
          "name": "stdout",
          "text": [
            "[0]\tvalidation-logloss:0.45141\ttrain-logloss:0.45431\n",
            "[100]\tvalidation-logloss:0.29804\ttrain-logloss:0.24543\n",
            "[200]\tvalidation-logloss:0.30672\ttrain-logloss:0.21884\n",
            "[300]\tvalidation-logloss:0.31469\ttrain-logloss:0.20365\n",
            "[400]\tvalidation-logloss:0.32507\ttrain-logloss:0.18631\n",
            "[500]\tvalidation-logloss:0.33166\ttrain-logloss:0.17655\n",
            "[600]\tvalidation-logloss:0.34145\ttrain-logloss:0.16507\n",
            "[700]\tvalidation-logloss:0.34872\ttrain-logloss:0.15902\n",
            "[800]\tvalidation-logloss:0.35567\ttrain-logloss:0.15256\n",
            "[900]\tvalidation-logloss:0.36472\ttrain-logloss:0.14415\n",
            "[999]\tvalidation-logloss:0.37350\ttrain-logloss:0.13799\n"
          ]
        }
      ]
    },
    {
      "cell_type": "code",
      "source": [
        "xgb_model = XGBClassifier()\n",
        "xgb_model.fit(X_train, y_train)"
      ],
      "metadata": {
        "colab": {
          "base_uri": "https://localhost:8080/",
          "height": 0
        },
        "id": "GuJ1MDRWyZ5Z",
        "outputId": "58849493-e47b-4d3b-9508-4d1f9d3ef013"
      },
      "id": "GuJ1MDRWyZ5Z",
      "execution_count": 47,
      "outputs": [
        {
          "output_type": "execute_result",
          "data": {
            "text/plain": [
              "XGBClassifier(base_score=None, booster=None, callbacks=None,\n",
              "              colsample_bylevel=None, colsample_bynode=None,\n",
              "              colsample_bytree=None, device=None, early_stopping_rounds=None,\n",
              "              enable_categorical=False, eval_metric=None, feature_types=None,\n",
              "              gamma=None, grow_policy=None, importance_type=None,\n",
              "              interaction_constraints=None, learning_rate=None, max_bin=None,\n",
              "              max_cat_threshold=None, max_cat_to_onehot=None,\n",
              "              max_delta_step=None, max_depth=None, max_leaves=None,\n",
              "              min_child_weight=None, missing=nan, monotone_constraints=None,\n",
              "              multi_strategy=None, n_estimators=None, n_jobs=None,\n",
              "              num_parallel_tree=None, random_state=None, ...)"
            ],
            "text/html": [
              "<style>#sk-container-id-5 {color: black;background-color: white;}#sk-container-id-5 pre{padding: 0;}#sk-container-id-5 div.sk-toggleable {background-color: white;}#sk-container-id-5 label.sk-toggleable__label {cursor: pointer;display: block;width: 100%;margin-bottom: 0;padding: 0.3em;box-sizing: border-box;text-align: center;}#sk-container-id-5 label.sk-toggleable__label-arrow:before {content: \"▸\";float: left;margin-right: 0.25em;color: #696969;}#sk-container-id-5 label.sk-toggleable__label-arrow:hover:before {color: black;}#sk-container-id-5 div.sk-estimator:hover label.sk-toggleable__label-arrow:before {color: black;}#sk-container-id-5 div.sk-toggleable__content {max-height: 0;max-width: 0;overflow: hidden;text-align: left;background-color: #f0f8ff;}#sk-container-id-5 div.sk-toggleable__content pre {margin: 0.2em;color: black;border-radius: 0.25em;background-color: #f0f8ff;}#sk-container-id-5 input.sk-toggleable__control:checked~div.sk-toggleable__content {max-height: 200px;max-width: 100%;overflow: auto;}#sk-container-id-5 input.sk-toggleable__control:checked~label.sk-toggleable__label-arrow:before {content: \"▾\";}#sk-container-id-5 div.sk-estimator input.sk-toggleable__control:checked~label.sk-toggleable__label {background-color: #d4ebff;}#sk-container-id-5 div.sk-label input.sk-toggleable__control:checked~label.sk-toggleable__label {background-color: #d4ebff;}#sk-container-id-5 input.sk-hidden--visually {border: 0;clip: rect(1px 1px 1px 1px);clip: rect(1px, 1px, 1px, 1px);height: 1px;margin: -1px;overflow: hidden;padding: 0;position: absolute;width: 1px;}#sk-container-id-5 div.sk-estimator {font-family: monospace;background-color: #f0f8ff;border: 1px dotted black;border-radius: 0.25em;box-sizing: border-box;margin-bottom: 0.5em;}#sk-container-id-5 div.sk-estimator:hover {background-color: #d4ebff;}#sk-container-id-5 div.sk-parallel-item::after {content: \"\";width: 100%;border-bottom: 1px solid gray;flex-grow: 1;}#sk-container-id-5 div.sk-label:hover label.sk-toggleable__label {background-color: #d4ebff;}#sk-container-id-5 div.sk-serial::before {content: \"\";position: absolute;border-left: 1px solid gray;box-sizing: border-box;top: 0;bottom: 0;left: 50%;z-index: 0;}#sk-container-id-5 div.sk-serial {display: flex;flex-direction: column;align-items: center;background-color: white;padding-right: 0.2em;padding-left: 0.2em;position: relative;}#sk-container-id-5 div.sk-item {position: relative;z-index: 1;}#sk-container-id-5 div.sk-parallel {display: flex;align-items: stretch;justify-content: center;background-color: white;position: relative;}#sk-container-id-5 div.sk-item::before, #sk-container-id-5 div.sk-parallel-item::before {content: \"\";position: absolute;border-left: 1px solid gray;box-sizing: border-box;top: 0;bottom: 0;left: 50%;z-index: -1;}#sk-container-id-5 div.sk-parallel-item {display: flex;flex-direction: column;z-index: 1;position: relative;background-color: white;}#sk-container-id-5 div.sk-parallel-item:first-child::after {align-self: flex-end;width: 50%;}#sk-container-id-5 div.sk-parallel-item:last-child::after {align-self: flex-start;width: 50%;}#sk-container-id-5 div.sk-parallel-item:only-child::after {width: 0;}#sk-container-id-5 div.sk-dashed-wrapped {border: 1px dashed gray;margin: 0 0.4em 0.5em 0.4em;box-sizing: border-box;padding-bottom: 0.4em;background-color: white;}#sk-container-id-5 div.sk-label label {font-family: monospace;font-weight: bold;display: inline-block;line-height: 1.2em;}#sk-container-id-5 div.sk-label-container {text-align: center;}#sk-container-id-5 div.sk-container {/* jupyter's `normalize.less` sets `[hidden] { display: none; }` but bootstrap.min.css set `[hidden] { display: none !important; }` so we also need the `!important` here to be able to override the default hidden behavior on the sphinx rendered scikit-learn.org. See: https://github.com/scikit-learn/scikit-learn/issues/21755 */display: inline-block !important;position: relative;}#sk-container-id-5 div.sk-text-repr-fallback {display: none;}</style><div id=\"sk-container-id-5\" class=\"sk-top-container\"><div class=\"sk-text-repr-fallback\"><pre>XGBClassifier(base_score=None, booster=None, callbacks=None,\n",
              "              colsample_bylevel=None, colsample_bynode=None,\n",
              "              colsample_bytree=None, device=None, early_stopping_rounds=None,\n",
              "              enable_categorical=False, eval_metric=None, feature_types=None,\n",
              "              gamma=None, grow_policy=None, importance_type=None,\n",
              "              interaction_constraints=None, learning_rate=None, max_bin=None,\n",
              "              max_cat_threshold=None, max_cat_to_onehot=None,\n",
              "              max_delta_step=None, max_depth=None, max_leaves=None,\n",
              "              min_child_weight=None, missing=nan, monotone_constraints=None,\n",
              "              multi_strategy=None, n_estimators=None, n_jobs=None,\n",
              "              num_parallel_tree=None, random_state=None, ...)</pre><b>In a Jupyter environment, please rerun this cell to show the HTML representation or trust the notebook. <br />On GitHub, the HTML representation is unable to render, please try loading this page with nbviewer.org.</b></div><div class=\"sk-container\" hidden><div class=\"sk-item\"><div class=\"sk-estimator sk-toggleable\"><input class=\"sk-toggleable__control sk-hidden--visually\" id=\"sk-estimator-id-5\" type=\"checkbox\" checked><label for=\"sk-estimator-id-5\" class=\"sk-toggleable__label sk-toggleable__label-arrow\">XGBClassifier</label><div class=\"sk-toggleable__content\"><pre>XGBClassifier(base_score=None, booster=None, callbacks=None,\n",
              "              colsample_bylevel=None, colsample_bynode=None,\n",
              "              colsample_bytree=None, device=None, early_stopping_rounds=None,\n",
              "              enable_categorical=False, eval_metric=None, feature_types=None,\n",
              "              gamma=None, grow_policy=None, importance_type=None,\n",
              "              interaction_constraints=None, learning_rate=None, max_bin=None,\n",
              "              max_cat_threshold=None, max_cat_to_onehot=None,\n",
              "              max_delta_step=None, max_depth=None, max_leaves=None,\n",
              "              min_child_weight=None, missing=nan, monotone_constraints=None,\n",
              "              multi_strategy=None, n_estimators=None, n_jobs=None,\n",
              "              num_parallel_tree=None, random_state=None, ...)</pre></div></div></div></div></div>"
            ]
          },
          "metadata": {},
          "execution_count": 47
        }
      ]
    },
    {
      "cell_type": "code",
      "source": [
        "y_pred = xgb_model.predict(X_test)"
      ],
      "metadata": {
        "id": "cw4RFHBqymZe"
      },
      "id": "cw4RFHBqymZe",
      "execution_count": 48,
      "outputs": []
    },
    {
      "cell_type": "code",
      "source": [
        "conf_mat = confusion_matrix(y_test, y_pred)\n",
        "print(\"Matriz de confusión:\")\n",
        "print(conf_mat)"
      ],
      "metadata": {
        "colab": {
          "base_uri": "https://localhost:8080/"
        },
        "id": "YZM39Wyvy2jc",
        "outputId": "ce8ea6a2-2bc7-4537-c758-ad8ccdf4fca4"
      },
      "id": "YZM39Wyvy2jc",
      "execution_count": 49,
      "outputs": [
        {
          "output_type": "stream",
          "name": "stdout",
          "text": [
            "Matriz de confusión:\n",
            "[[6953  487]\n",
            " [ 860 1469]]\n"
          ]
        }
      ]
    },
    {
      "cell_type": "code",
      "source": [
        "# Calcula la matriz de confusión\n",
        "conf_mat = confusion_matrix(y_test, y_pred)\n",
        "\n",
        "\n",
        "\n",
        "# Crea la figura y los ejes\n",
        "plt.figure(figsize=(8, 6))\n",
        "sns.set(font_scale=1.2)  # Escala de fuente\n",
        "sns.heatmap(conf_mat, annot=True, fmt='d', cmap='Blues')\n",
        "\n",
        "# Configuración de los ejes y el título\n",
        "plt.xlabel('Predicción')\n",
        "plt.ylabel('Etiqueta Verdadera')\n",
        "plt.title('Matriz de Confusión')\n",
        "\n",
        "# Muestra la gráfica\n",
        "plt.show()"
      ],
      "metadata": {
        "colab": {
          "base_uri": "https://localhost:8080/",
          "height": 0
        },
        "id": "xOYxLcTjzPVW",
        "outputId": "25182546-9d8d-4fe9-aa6b-12ce2008a6a3"
      },
      "id": "xOYxLcTjzPVW",
      "execution_count": 50,
      "outputs": [
        {
          "output_type": "display_data",
          "data": {
            "text/plain": [
              "<Figure size 800x600 with 2 Axes>"
            ],
            "image/png": "[encoded data removed]"
          },
          "metadata": {}
        }
      ]
    },
    {
      "cell_type": "code",
      "source": [
        "accuracy = accuracy_score(y_test, y_pred)\n",
        "print(\"Precisión modelo XGBoost:\", accuracy)"
      ],
      "metadata": {
        "colab": {
          "base_uri": "https://localhost:8080/"
        },
        "id": "yhRBtjYlypyb",
        "outputId": "c73b8c6e-8b68-490c-ae40-49444bc6f446"
      },
      "id": "yhRBtjYlypyb",
      "execution_count": 51,
      "outputs": [
        {
          "output_type": "stream",
          "name": "stdout",
          "text": [
            "Precisión modelo XGBoost: 0.8621148531067663\n"
          ]
        }
      ]
    },
    {
      "cell_type": "markdown",
      "source": [
        "#Arboles de decision"
      ],
      "metadata": {
        "id": "HUX9Qwet9E2m"
      },
      "id": "HUX9Qwet9E2m"
    },
    {
      "cell_type": "code",
      "source": [
        "#Definimos una malla de parametros que serviran para entrenar multiples arboles\n",
        "parametros=ParameterGrid(\n",
        "    {'min_samples_split':[4,6,8,10],\n",
        "     'max_features':[1,2,3,4],\n",
        "     'max_depth':[None,4,6,8],\n",
        "     'criterion':['gini','entropy']})\n",
        "\n",
        "\n",
        "resultados={'pFinal':[],'treeScore':[]}\n"
      ],
      "metadata": {
        "id": "NNloixHAau-e"
      },
      "id": "NNloixHAau-e",
      "execution_count": 52,
      "outputs": []
    },
    {
      "cell_type": "code",
      "source": [
        "#se itera sobre todos los parametros para entrenar arboles con cada uno\n",
        "for parametro in parametros:\n",
        "  modeloArbol=tree.DecisionTreeClassifier(random_state=454,** parametro)\n",
        "  modeloArbol.fit(X_train,y_train)\n",
        "  resultados['pFinal'].append(parametro)\n",
        "  resultados['treeScore'].append(modeloArbol.score(X_test,y_test))\n",
        "  print(f\"Modelo : {parametro} \",modeloArbol.score(X_test, y_test))"
      ],
      "metadata": {
        "colab": {
          "base_uri": "https://localhost:8080/"
        },
        "id": "JopICGLFW7Ro",
        "outputId": "13820199-6df2-415f-b936-365d5361e8c9"
      },
      "id": "JopICGLFW7Ro",
      "execution_count": 53,
      "outputs": [
        {
          "output_type": "stream",
          "name": "stdout",
          "text": [
            "Modelo : {'criterion': 'gini', 'max_depth': None, 'max_features': 1, 'min_samples_split': 4}  0.8096018016173611\n",
            "Modelo : {'criterion': 'gini', 'max_depth': None, 'max_features': 1, 'min_samples_split': 6}  0.8115467294503019\n",
            "Modelo : {'criterion': 'gini', 'max_depth': None, 'max_features': 1, 'min_samples_split': 8}  0.8183027945542021\n",
            "Modelo : {'criterion': 'gini', 'max_depth': None, 'max_features': 1, 'min_samples_split': 10}  0.8305865492885659\n",
            "Modelo : {'criterion': 'gini', 'max_depth': None, 'max_features': 2, 'min_samples_split': 4}  0.8151294912478247\n",
            "Modelo : {'criterion': 'gini', 'max_depth': None, 'max_features': 2, 'min_samples_split': 6}  0.8176886068174839\n",
            "Modelo : {'criterion': 'gini', 'max_depth': None, 'max_features': 2, 'min_samples_split': 8}  0.8238304841846658\n",
            "Modelo : {'criterion': 'gini', 'max_depth': None, 'max_features': 2, 'min_samples_split': 10}  0.8253659535264612\n",
            "Modelo : {'criterion': 'gini', 'max_depth': None, 'max_features': 3, 'min_samples_split': 4}  0.8160507728529021\n",
            "Modelo : {'criterion': 'gini', 'max_depth': None, 'max_features': 3, 'min_samples_split': 6}  0.8240352134302386\n",
            "Modelo : {'criterion': 'gini', 'max_depth': None, 'max_features': 3, 'min_samples_split': 8}  0.8217831917289384\n",
            "Modelo : {'criterion': 'gini', 'max_depth': None, 'max_features': 3, 'min_samples_split': 10}  0.8228068379568021\n",
            "Modelo : {'criterion': 'gini', 'max_depth': None, 'max_features': 4, 'min_samples_split': 4}  0.8166649605896202\n",
            "Modelo : {'criterion': 'gini', 'max_depth': None, 'max_features': 4, 'min_samples_split': 6}  0.8190193469137066\n",
            "Modelo : {'criterion': 'gini', 'max_depth': None, 'max_features': 4, 'min_samples_split': 8}  0.8258777766403931\n",
            "Modelo : {'criterion': 'gini', 'max_depth': None, 'max_features': 4, 'min_samples_split': 10}  0.8285392568328386\n",
            "Modelo : {'criterion': 'gini', 'max_depth': 4, 'max_features': 1, 'min_samples_split': 4}  0.7911761695158154\n",
            "Modelo : {'criterion': 'gini', 'max_depth': 4, 'max_features': 1, 'min_samples_split': 6}  0.7911761695158154\n",
            "Modelo : {'criterion': 'gini', 'max_depth': 4, 'max_features': 1, 'min_samples_split': 8}  0.7911761695158154\n",
            "Modelo : {'criterion': 'gini', 'max_depth': 4, 'max_features': 1, 'min_samples_split': 10}  0.7911761695158154\n",
            "Modelo : {'criterion': 'gini', 'max_depth': 4, 'max_features': 2, 'min_samples_split': 4}  0.8328385709898659\n",
            "Modelo : {'criterion': 'gini', 'max_depth': 4, 'max_features': 2, 'min_samples_split': 6}  0.8328385709898659\n",
            "Modelo : {'criterion': 'gini', 'max_depth': 4, 'max_features': 2, 'min_samples_split': 8}  0.8328385709898659\n",
            "Modelo : {'criterion': 'gini', 'max_depth': 4, 'max_features': 2, 'min_samples_split': 10}  0.8328385709898659\n",
            "Modelo : {'criterion': 'gini', 'max_depth': 4, 'max_features': 3, 'min_samples_split': 4}  0.8397993653393387\n",
            "Modelo : {'criterion': 'gini', 'max_depth': 4, 'max_features': 3, 'min_samples_split': 6}  0.8397993653393387\n",
            "Modelo : {'criterion': 'gini', 'max_depth': 4, 'max_features': 3, 'min_samples_split': 8}  0.8397993653393387\n",
            "Modelo : {'criterion': 'gini', 'max_depth': 4, 'max_features': 3, 'min_samples_split': 10}  0.8397993653393387\n",
            "Modelo : {'criterion': 'gini', 'max_depth': 4, 'max_features': 4, 'min_samples_split': 4}  0.8372402497696796\n",
            "Modelo : {'criterion': 'gini', 'max_depth': 4, 'max_features': 4, 'min_samples_split': 6}  0.8372402497696796\n",
            "Modelo : {'criterion': 'gini', 'max_depth': 4, 'max_features': 4, 'min_samples_split': 8}  0.8372402497696796\n",
            "Modelo : {'criterion': 'gini', 'max_depth': 4, 'max_features': 4, 'min_samples_split': 10}  0.8372402497696796\n",
            "Modelo : {'criterion': 'gini', 'max_depth': 6, 'max_features': 1, 'min_samples_split': 4}  0.7860579383764971\n",
            "Modelo : {'criterion': 'gini', 'max_depth': 6, 'max_features': 1, 'min_samples_split': 6}  0.7860579383764971\n",
            "Modelo : {'criterion': 'gini', 'max_depth': 6, 'max_features': 1, 'min_samples_split': 8}  0.7777664039308015\n",
            "Modelo : {'criterion': 'gini', 'max_depth': 6, 'max_features': 1, 'min_samples_split': 10}  0.7746954652472106\n",
            "Modelo : {'criterion': 'gini', 'max_depth': 6, 'max_features': 2, 'min_samples_split': 4}  0.8328385709898659\n",
            "Modelo : {'criterion': 'gini', 'max_depth': 6, 'max_features': 2, 'min_samples_split': 6}  0.8319172893847886\n",
            "Modelo : {'criterion': 'gini', 'max_depth': 6, 'max_features': 2, 'min_samples_split': 8}  0.8362166035418159\n",
            "Modelo : {'criterion': 'gini', 'max_depth': 6, 'max_features': 2, 'min_samples_split': 10}  0.8362166035418159\n",
            "Modelo : {'criterion': 'gini', 'max_depth': 6, 'max_features': 3, 'min_samples_split': 4}  0.8307912785341386\n",
            "Modelo : {'criterion': 'gini', 'max_depth': 6, 'max_features': 3, 'min_samples_split': 6}  0.8299723615518477\n",
            "Modelo : {'criterion': 'gini', 'max_depth': 6, 'max_features': 3, 'min_samples_split': 8}  0.8301770907974204\n",
            "Modelo : {'criterion': 'gini', 'max_depth': 6, 'max_features': 3, 'min_samples_split': 10}  0.8301770907974204\n",
            "Modelo : {'criterion': 'gini', 'max_depth': 6, 'max_features': 4, 'min_samples_split': 4}  0.8361142389190296\n",
            "Modelo : {'criterion': 'gini', 'max_depth': 6, 'max_features': 4, 'min_samples_split': 6}  0.8448152318558706\n",
            "Modelo : {'criterion': 'gini', 'max_depth': 6, 'max_features': 4, 'min_samples_split': 8}  0.8448152318558706\n",
            "Modelo : {'criterion': 'gini', 'max_depth': 6, 'max_features': 4, 'min_samples_split': 10}  0.8448152318558706\n",
            "Modelo : {'criterion': 'gini', 'max_depth': 8, 'max_features': 1, 'min_samples_split': 4}  0.8018220902855973\n",
            "Modelo : {'criterion': 'gini', 'max_depth': 8, 'max_features': 1, 'min_samples_split': 6}  0.7993653393387246\n",
            "Modelo : {'criterion': 'gini', 'max_depth': 8, 'max_features': 1, 'min_samples_split': 8}  0.8023339133995291\n",
            "Modelo : {'criterion': 'gini', 'max_depth': 8, 'max_features': 1, 'min_samples_split': 10}  0.8117514586958747\n",
            "Modelo : {'criterion': 'gini', 'max_depth': 8, 'max_features': 2, 'min_samples_split': 4}  0.8370355205241069\n",
            "Modelo : {'criterion': 'gini', 'max_depth': 8, 'max_features': 2, 'min_samples_split': 6}  0.8337598525949432\n",
            "Modelo : {'criterion': 'gini', 'max_depth': 8, 'max_features': 2, 'min_samples_split': 8}  0.8364213327873887\n",
            "Modelo : {'criterion': 'gini', 'max_depth': 8, 'max_features': 2, 'min_samples_split': 10}  0.8312007370252841\n",
            "Modelo : {'criterion': 'gini', 'max_depth': 8, 'max_features': 3, 'min_samples_split': 4}  0.8408230115672024\n",
            "Modelo : {'criterion': 'gini', 'max_depth': 8, 'max_features': 3, 'min_samples_split': 6}  0.8402088238304842\n",
            "Modelo : {'criterion': 'gini', 'max_depth': 8, 'max_features': 3, 'min_samples_split': 8}  0.8423584809089979\n",
            "Modelo : {'criterion': 'gini', 'max_depth': 8, 'max_features': 3, 'min_samples_split': 10}  0.8402088238304842\n",
            "Modelo : {'criterion': 'gini', 'max_depth': 8, 'max_features': 4, 'min_samples_split': 4}  0.8409253761899887\n",
            "Modelo : {'criterion': 'gini', 'max_depth': 8, 'max_features': 4, 'min_samples_split': 6}  0.8476814412938888\n",
            "Modelo : {'criterion': 'gini', 'max_depth': 8, 'max_features': 4, 'min_samples_split': 8}  0.8414371993039206\n",
            "Modelo : {'criterion': 'gini', 'max_depth': 8, 'max_features': 4, 'min_samples_split': 10}  0.8477838059166752\n",
            "Modelo : {'criterion': 'entropy', 'max_depth': None, 'max_features': 1, 'min_samples_split': 4}  0.8172791483263384\n",
            "Modelo : {'criterion': 'entropy', 'max_depth': None, 'max_features': 1, 'min_samples_split': 6}  0.8188146176681339\n",
            "Modelo : {'criterion': 'entropy', 'max_depth': None, 'max_features': 1, 'min_samples_split': 8}  0.8249564950353158\n",
            "Modelo : {'criterion': 'entropy', 'max_depth': None, 'max_features': 1, 'min_samples_split': 10}  0.8254683181492476\n",
            "Modelo : {'criterion': 'entropy', 'max_depth': None, 'max_features': 2, 'min_samples_split': 4}  0.8167673252124066\n",
            "Modelo : {'criterion': 'entropy', 'max_depth': None, 'max_features': 2, 'min_samples_split': 6}  0.8189169822909202\n",
            "Modelo : {'criterion': 'entropy', 'max_depth': None, 'max_features': 2, 'min_samples_split': 8}  0.8249564950353158\n",
            "Modelo : {'criterion': 'entropy', 'max_depth': None, 'max_features': 2, 'min_samples_split': 10}  0.8276179752277613\n",
            "Modelo : {'criterion': 'entropy', 'max_depth': None, 'max_features': 3, 'min_samples_split': 4}  0.8151294912478247\n",
            "Modelo : {'criterion': 'entropy', 'max_depth': None, 'max_features': 3, 'min_samples_split': 6}  0.8213737332377931\n",
            "Modelo : {'criterion': 'entropy', 'max_depth': None, 'max_features': 3, 'min_samples_split': 8}  0.8251612242808886\n",
            "Modelo : {'criterion': 'entropy', 'max_depth': None, 'max_features': 3, 'min_samples_split': 10}  0.8288463507011977\n",
            "Modelo : {'criterion': 'entropy', 'max_depth': None, 'max_features': 4, 'min_samples_split': 4}  0.8151294912478247\n",
            "Modelo : {'criterion': 'entropy', 'max_depth': None, 'max_features': 4, 'min_samples_split': 6}  0.8189169822909202\n",
            "Modelo : {'criterion': 'entropy', 'max_depth': None, 'max_features': 4, 'min_samples_split': 8}  0.8208619101238612\n",
            "Modelo : {'criterion': 'entropy', 'max_depth': None, 'max_features': 4, 'min_samples_split': 10}  0.8247517657897431\n",
            "Modelo : {'criterion': 'entropy', 'max_depth': 4, 'max_features': 1, 'min_samples_split': 4}  0.7948612959361244\n",
            "Modelo : {'criterion': 'entropy', 'max_depth': 4, 'max_features': 1, 'min_samples_split': 6}  0.7948612959361244\n",
            "Modelo : {'criterion': 'entropy', 'max_depth': 4, 'max_features': 1, 'min_samples_split': 8}  0.7948612959361244\n",
            "Modelo : {'criterion': 'entropy', 'max_depth': 4, 'max_features': 1, 'min_samples_split': 10}  0.7948612959361244\n",
            "Modelo : {'criterion': 'entropy', 'max_depth': 4, 'max_features': 2, 'min_samples_split': 4}  0.8328385709898659\n",
            "Modelo : {'criterion': 'entropy', 'max_depth': 4, 'max_features': 2, 'min_samples_split': 6}  0.8328385709898659\n",
            "Modelo : {'criterion': 'entropy', 'max_depth': 4, 'max_features': 2, 'min_samples_split': 8}  0.8328385709898659\n",
            "Modelo : {'criterion': 'entropy', 'max_depth': 4, 'max_features': 2, 'min_samples_split': 10}  0.8328385709898659\n",
            "Modelo : {'criterion': 'entropy', 'max_depth': 4, 'max_features': 3, 'min_samples_split': 4}  0.8187122530453476\n",
            "Modelo : {'criterion': 'entropy', 'max_depth': 4, 'max_features': 3, 'min_samples_split': 6}  0.8187122530453476\n",
            "Modelo : {'criterion': 'entropy', 'max_depth': 4, 'max_features': 3, 'min_samples_split': 8}  0.8187122530453476\n",
            "Modelo : {'criterion': 'entropy', 'max_depth': 4, 'max_features': 3, 'min_samples_split': 10}  0.8187122530453476\n",
            "Modelo : {'criterion': 'entropy', 'max_depth': 4, 'max_features': 4, 'min_samples_split': 4}  0.8111372709591566\n",
            "Modelo : {'criterion': 'entropy', 'max_depth': 4, 'max_features': 4, 'min_samples_split': 6}  0.8111372709591566\n",
            "Modelo : {'criterion': 'entropy', 'max_depth': 4, 'max_features': 4, 'min_samples_split': 8}  0.8111372709591566\n",
            "Modelo : {'criterion': 'entropy', 'max_depth': 4, 'max_features': 4, 'min_samples_split': 10}  0.8111372709591566\n",
            "Modelo : {'criterion': 'entropy', 'max_depth': 6, 'max_features': 1, 'min_samples_split': 4}  0.7884123247005835\n",
            "Modelo : {'criterion': 'entropy', 'max_depth': 6, 'max_features': 1, 'min_samples_split': 6}  0.7858532091309244\n",
            "Modelo : {'criterion': 'entropy', 'max_depth': 6, 'max_features': 1, 'min_samples_split': 8}  0.7849319275258471\n",
            "Modelo : {'criterion': 'entropy', 'max_depth': 6, 'max_features': 1, 'min_samples_split': 10}  0.7849319275258471\n",
            "Modelo : {'criterion': 'entropy', 'max_depth': 6, 'max_features': 2, 'min_samples_split': 4}  0.8176886068174839\n",
            "Modelo : {'criterion': 'entropy', 'max_depth': 6, 'max_features': 2, 'min_samples_split': 6}  0.8176886068174839\n",
            "Modelo : {'criterion': 'entropy', 'max_depth': 6, 'max_features': 2, 'min_samples_split': 8}  0.8176886068174839\n",
            "Modelo : {'criterion': 'entropy', 'max_depth': 6, 'max_features': 2, 'min_samples_split': 10}  0.8290510799467704\n",
            "Modelo : {'criterion': 'entropy', 'max_depth': 6, 'max_features': 3, 'min_samples_split': 4}  0.8397993653393387\n",
            "Modelo : {'criterion': 'entropy', 'max_depth': 6, 'max_features': 3, 'min_samples_split': 6}  0.8397993653393387\n",
            "Modelo : {'criterion': 'entropy', 'max_depth': 6, 'max_features': 3, 'min_samples_split': 8}  0.8397993653393387\n",
            "Modelo : {'criterion': 'entropy', 'max_depth': 6, 'max_features': 3, 'min_samples_split': 10}  0.8386733544886887\n",
            "Modelo : {'criterion': 'entropy', 'max_depth': 6, 'max_features': 4, 'min_samples_split': 4}  0.8386733544886887\n",
            "Modelo : {'criterion': 'entropy', 'max_depth': 6, 'max_features': 4, 'min_samples_split': 6}  0.8386733544886887\n",
            "Modelo : {'criterion': 'entropy', 'max_depth': 6, 'max_features': 4, 'min_samples_split': 8}  0.8386733544886887\n",
            "Modelo : {'criterion': 'entropy', 'max_depth': 6, 'max_features': 4, 'min_samples_split': 10}  0.8418466577950661\n",
            "Modelo : {'criterion': 'entropy', 'max_depth': 8, 'max_features': 1, 'min_samples_split': 4}  0.7935305558399017\n",
            "Modelo : {'criterion': 'entropy', 'max_depth': 8, 'max_features': 1, 'min_samples_split': 6}  0.8032551950046064\n",
            "Modelo : {'criterion': 'entropy', 'max_depth': 8, 'max_features': 1, 'min_samples_split': 8}  0.793325826594329\n",
            "Modelo : {'criterion': 'entropy', 'max_depth': 8, 'max_features': 1, 'min_samples_split': 10}  0.7952707544272699\n",
            "Modelo : {'criterion': 'entropy', 'max_depth': 8, 'max_features': 2, 'min_samples_split': 4}  0.8366260620329614\n",
            "Modelo : {'criterion': 'entropy', 'max_depth': 8, 'max_features': 2, 'min_samples_split': 6}  0.8362166035418159\n",
            "Modelo : {'criterion': 'entropy', 'max_depth': 8, 'max_features': 2, 'min_samples_split': 8}  0.8404135530760569\n",
            "Modelo : {'criterion': 'entropy', 'max_depth': 8, 'max_features': 2, 'min_samples_split': 10}  0.8342716757088751\n",
            "Modelo : {'criterion': 'entropy', 'max_depth': 8, 'max_features': 3, 'min_samples_split': 4}  0.8373426143924659\n",
            "Modelo : {'criterion': 'entropy', 'max_depth': 8, 'max_features': 3, 'min_samples_split': 6}  0.8424608455317842\n",
            "Modelo : {'criterion': 'entropy', 'max_depth': 8, 'max_features': 3, 'min_samples_split': 8}  0.8275156106049749\n",
            "Modelo : {'criterion': 'entropy', 'max_depth': 8, 'max_features': 3, 'min_samples_split': 10}  0.8339645818405159\n",
            "Modelo : {'criterion': 'entropy', 'max_depth': 8, 'max_features': 4, 'min_samples_split': 4}  0.8410277408127751\n",
            "Modelo : {'criterion': 'entropy', 'max_depth': 8, 'max_features': 4, 'min_samples_split': 6}  0.8302794554202068\n",
            "Modelo : {'criterion': 'entropy', 'max_depth': 8, 'max_features': 4, 'min_samples_split': 8}  0.8302794554202068\n",
            "Modelo : {'criterion': 'entropy', 'max_depth': 8, 'max_features': 4, 'min_samples_split': 10}  0.8302794554202068\n"
          ]
        }
      ]
    },
    {
      "cell_type": "code",
      "source": [
        "# Analizamos los resultados\n",
        "resultados = pd.DataFrame(resultados)\n",
        "resultados = pd.concat([resultados, resultados['pFinal'].apply(pd.Series)], axis=1)\n",
        "resultados = resultados.sort_values('treeScore', ascending=False)\n",
        "resultados = resultados.drop(columns=('pFinal'))\n",
        "resultados.head(10)"
      ],
      "metadata": {
        "colab": {
          "base_uri": "https://localhost:8080/",
          "height": 0
        },
        "id": "S1fN27_jvdyj",
        "outputId": "b48adf04-1176-4c0f-bee4-dd83b28bd2d0"
      },
      "id": "S1fN27_jvdyj",
      "execution_count": 54,
      "outputs": [
        {
          "output_type": "execute_result",
          "data": {
            "text/plain": [
              "     treeScore criterion  max_depth  max_features  min_samples_split\n",
              "63    0.847784      gini        8.0             4                 10\n",
              "61    0.847681      gini        8.0             4                  6\n",
              "45    0.844815      gini        6.0             4                  6\n",
              "47    0.844815      gini        6.0             4                 10\n",
              "46    0.844815      gini        6.0             4                  8\n",
              "121   0.842461   entropy        8.0             3                  6\n",
              "58    0.842358      gini        8.0             3                  8\n",
              "111   0.841847   entropy        6.0             4                 10\n",
              "62    0.841437      gini        8.0             4                  8\n",
              "124   0.841028   entropy        8.0             4                  4"
            ],
            "text/html": [
              "\n",
              "  <div id=\"df-34e42c28-43a8-4d9b-a66a-cec64001c5de\" class=\"colab-df-container\">\n",
              "    <div>\n",
              "<style scoped>\n",
              "    .dataframe tbody tr th:only-of-type {\n",
              "        vertical-align: middle;\n",
              "    }\n",
              "\n",
              "    .dataframe tbody tr th {\n",
              "        vertical-align: top;\n",
              "    }\n",
              "\n",
              "    .dataframe thead th {\n",
              "        text-align: right;\n",
              "    }\n",
              "</style>\n",
              "<table border=\"1\" class=\"dataframe\">\n",
              "  <thead>\n",
              "    <tr style=\"text-align: right;\">\n",
              "      <th></th>\n",
              "      <th>treeScore</th>\n",
              "      <th>criterion</th>\n",
              "      <th>max_depth</th>\n",
              "      <th>max_features</th>\n",
              "      <th>min_samples_split</th>\n",
              "    </tr>\n",
              "  </thead>\n",
              "  <tbody>\n",
              "    <tr>\n",
              "      <th>63</th>\n",
              "      <td>0.847784</td>\n",
              "      <td>gini</td>\n",
              "      <td>8.0</td>\n",
              "      <td>4</td>\n",
              "      <td>10</td>\n",
              "    </tr>\n",
              "    <tr>\n",
              "      <th>61</th>\n",
              "      <td>0.847681</td>\n",
              "      <td>gini</td>\n",
              "      <td>8.0</td>\n",
              "      <td>4</td>\n",
              "      <td>6</td>\n",
              "    </tr>\n",
              "    <tr>\n",
              "      <th>45</th>\n",
              "      <td>0.844815</td>\n",
              "      <td>gini</td>\n",
              "      <td>6.0</td>\n",
              "      <td>4</td>\n",
              "      <td>6</td>\n",
              "    </tr>\n",
              "    <tr>\n",
              "      <th>47</th>\n",
              "      <td>0.844815</td>\n",
              "      <td>gini</td>\n",
              "      <td>6.0</td>\n",
              "      <td>4</td>\n",
              "      <td>10</td>\n",
              "    </tr>\n",
              "    <tr>\n",
              "      <th>46</th>\n",
              "      <td>0.844815</td>\n",
              "      <td>gini</td>\n",
              "      <td>6.0</td>\n",
              "      <td>4</td>\n",
              "      <td>8</td>\n",
              "    </tr>\n",
              "    <tr>\n",
              "      <th>121</th>\n",
              "      <td>0.842461</td>\n",
              "      <td>entropy</td>\n",
              "      <td>8.0</td>\n",
              "      <td>3</td>\n",
              "      <td>6</td>\n",
              "    </tr>\n",
              "    <tr>\n",
              "      <th>58</th>\n",
              "      <td>0.842358</td>\n",
              "      <td>gini</td>\n",
              "      <td>8.0</td>\n",
              "      <td>3</td>\n",
              "      <td>8</td>\n",
              "    </tr>\n",
              "    <tr>\n",
              "      <th>111</th>\n",
              "      <td>0.841847</td>\n",
              "      <td>entropy</td>\n",
              "      <td>6.0</td>\n",
              "      <td>4</td>\n",
              "      <td>10</td>\n",
              "    </tr>\n",
              "    <tr>\n",
              "      <th>62</th>\n",
              "      <td>0.841437</td>\n",
              "      <td>gini</td>\n",
              "      <td>8.0</td>\n",
              "      <td>4</td>\n",
              "      <td>8</td>\n",
              "    </tr>\n",
              "    <tr>\n",
              "      <th>124</th>\n",
              "      <td>0.841028</td>\n",
              "      <td>entropy</td>\n",
              "      <td>8.0</td>\n",
              "      <td>4</td>\n",
              "      <td>4</td>\n",
              "    </tr>\n",
              "  </tbody>\n",
              "</table>\n",
              "</div>\n",
              "    <div class=\"colab-df-buttons\">\n",
              "\n",
              "  <div class=\"colab-df-container\">\n",
              "    <button class=\"colab-df-convert\" onclick=\"convertToInteractive('df-34e42c28-43a8-4d9b-a66a-cec64001c5de')\"\n",
              "            title=\"Convert this dataframe to an interactive table.\"\n",
              "            style=\"display:none;\">\n",
              "\n",
              "  <svg xmlns=\"http://www.w3.org/2000/svg\" height=\"24px\" viewBox=\"0 -960 960 960\">\n",
              "    <path d=\"M120-120v-720h720v720H120Zm60-500h600v-160H180v160Zm220 220h160v-160H400v160Zm0 220h160v-160H400v160ZM180-400h160v-160H180v160Zm440 0h160v-160H620v160ZM180-180h160v-160H180v160Zm440 0h160v-160H620v160Z\"/>\n",
              "  </svg>\n",
              "    </button>\n",
              "\n",
              "  <style>\n",
              "    .colab-df-container {\n",
              "      display:flex;\n",
              "      gap: 12px;\n",
              "    }\n",
              "\n",
              "    .colab-df-convert {\n",
              "      background-color: #E8F0FE;\n",
              "      border: none;\n",
              "      border-radius: 50%;\n",
              "      cursor: pointer;\n",
              "      display: none;\n",
              "      fill: #1967D2;\n",
              "      height: 32px;\n",
              "      padding: 0 0 0 0;\n",
              "      width: 32px;\n",
              "    }\n",
              "\n",
              "    .colab-df-convert:hover {\n",
              "      background-color: #E2EBFA;\n",
              "      box-shadow: 0px 1px 2px rgba(60, 64, 67, 0.3), 0px 1px 3px 1px rgba(60, 64, 67, 0.15);\n",
              "      fill: #174EA6;\n",
              "    }\n",
              "\n",
              "    .colab-df-buttons div {\n",
              "      margin-bottom: 4px;\n",
              "    }\n",
              "\n",
              "    [theme=dark] .colab-df-convert {\n",
              "      background-color: #3B4455;\n",
              "      fill: #D2E3FC;\n",
              "    }\n",
              "\n",
              "    [theme=dark] .colab-df-convert:hover {\n",
              "      background-color: #434B5C;\n",
              "      box-shadow: 0px 1px 3px 1px rgba(0, 0, 0, 0.15);\n",
              "      filter: drop-shadow(0px 1px 2px rgba(0, 0, 0, 0.3));\n",
              "      fill: #FFFFFF;\n",
              "    }\n",
              "  </style>\n",
              "\n",
              "    <script>\n",
              "      const buttonEl =\n",
              "        document.querySelector('#df-34e42c28-43a8-4d9b-a66a-cec64001c5de button.colab-df-convert');\n",
              "      buttonEl.style.display =\n",
              "        google.colab.kernel.accessAllowed ? 'block' : 'none';\n",
              "\n",
              "      async function convertToInteractive(key) {\n",
              "        const element = document.querySelector('#df-34e42c28-43a8-4d9b-a66a-cec64001c5de');\n",
              "        const dataTable =\n",
              "          await google.colab.kernel.invokeFunction('convertToInteractive',\n",
              "                                                    [key], {});\n",
              "        if (!dataTable) return;\n",
              "\n",
              "        const docLinkHtml = 'Like what you see? Visit the ' +\n",
              "          '<a target=\"_blank\" href=https://colab.research.google.com/notebooks/data_table.ipynb>data table notebook</a>'\n",
              "          + ' to learn more about interactive tables.';\n",
              "        element.innerHTML = '';\n",
              "        dataTable['output_type'] = 'display_data';\n",
              "        await google.colab.output.renderOutput(dataTable, element);\n",
              "        const docLink = document.createElement('div');\n",
              "        docLink.innerHTML = docLinkHtml;\n",
              "        element.appendChild(docLink);\n",
              "      }\n",
              "    </script>\n",
              "  </div>\n",
              "\n",
              "\n",
              "<div id=\"df-7e94401b-3b64-415e-883e-4f773086b136\">\n",
              "  <button class=\"colab-df-quickchart\" onclick=\"quickchart('df-7e94401b-3b64-415e-883e-4f773086b136')\"\n",
              "            title=\"Suggest charts\"\n",
              "            style=\"display:none;\">\n",
              "\n",
              "<svg xmlns=\"http://www.w3.org/2000/svg\" height=\"24px\"viewBox=\"0 0 24 24\"\n",
              "     width=\"24px\">\n",
              "    <g>\n",
              "        <path d=\"M19 3H5c-1.1 0-2 .9-2 2v14c0 1.1.9 2 2 2h14c1.1 0 2-.9 2-2V5c0-1.1-.9-2-2-2zM9 17H7v-7h2v7zm4 0h-2V7h2v10zm4 0h-2v-4h2v4z\"/>\n",
              "    </g>\n",
              "</svg>\n",
              "  </button>\n",
              "\n",
              "<style>\n",
              "  .colab-df-quickchart {\n",
              "      --bg-color: #E8F0FE;\n",
              "      --fill-color: #1967D2;\n",
              "      --hover-bg-color: #E2EBFA;\n",
              "      --hover-fill-color: #174EA6;\n",
              "      --disabled-fill-color: #AAA;\n",
              "      --disabled-bg-color: #DDD;\n",
              "  }\n",
              "\n",
              "  [theme=dark] .colab-df-quickchart {\n",
              "      --bg-color: #3B4455;\n",
              "      --fill-color: #D2E3FC;\n",
              "      --hover-bg-color: #434B5C;\n",
              "      --hover-fill-color: #FFFFFF;\n",
              "      --disabled-bg-color: #3B4455;\n",
              "      --disabled-fill-color: #666;\n",
              "  }\n",
              "\n",
              "  .colab-df-quickchart {\n",
              "    background-color: var(--bg-color);\n",
              "    border: none;\n",
              "    border-radius: 50%;\n",
              "    cursor: pointer;\n",
              "    display: none;\n",
              "    fill: var(--fill-color);\n",
              "    height: 32px;\n",
              "    padding: 0;\n",
              "    width: 32px;\n",
              "  }\n",
              "\n",
              "  .colab-df-quickchart:hover {\n",
              "    background-color: var(--hover-bg-color);\n",
              "    box-shadow: 0 1px 2px rgba(60, 64, 67, 0.3), 0 1px 3px 1px rgba(60, 64, 67, 0.15);\n",
              "    fill: var(--button-hover-fill-color);\n",
              "  }\n",
              "\n",
              "  .colab-df-quickchart-complete:disabled,\n",
              "  .colab-df-quickchart-complete:disabled:hover {\n",
              "    background-color: var(--disabled-bg-color);\n",
              "    fill: var(--disabled-fill-color);\n",
              "    box-shadow: none;\n",
              "  }\n",
              "\n",
              "  .colab-df-spinner {\n",
              "    border: 2px solid var(--fill-color);\n",
              "    border-color: transparent;\n",
              "    border-bottom-color: var(--fill-color);\n",
              "    animation:\n",
              "      spin 1s steps(1) infinite;\n",
              "  }\n",
              "\n",
              "  @keyframes spin {\n",
              "    0% {\n",
              "      border-color: transparent;\n",
              "      border-bottom-color: var(--fill-color);\n",
              "      border-left-color: var(--fill-color);\n",
              "    }\n",
              "    20% {\n",
              "      border-color: transparent;\n",
              "      border-left-color: var(--fill-color);\n",
              "      border-top-color: var(--fill-color);\n",
              "    }\n",
              "    30% {\n",
              "      border-color: transparent;\n",
              "      border-left-color: var(--fill-color);\n",
              "      border-top-color: var(--fill-color);\n",
              "      border-right-color: var(--fill-color);\n",
              "    }\n",
              "    40% {\n",
              "      border-color: transparent;\n",
              "      border-right-color: var(--fill-color);\n",
              "      border-top-color: var(--fill-color);\n",
              "    }\n",
              "    60% {\n",
              "      border-color: transparent;\n",
              "      border-right-color: var(--fill-color);\n",
              "    }\n",
              "    80% {\n",
              "      border-color: transparent;\n",
              "      border-right-color: var(--fill-color);\n",
              "      border-bottom-color: var(--fill-color);\n",
              "    }\n",
              "    90% {\n",
              "      border-color: transparent;\n",
              "      border-bottom-color: var(--fill-color);\n",
              "    }\n",
              "  }\n",
              "</style>\n",
              "\n",
              "  <script>\n",
              "    async function quickchart(key) {\n",
              "      const quickchartButtonEl =\n",
              "        document.querySelector('#' + key + ' button');\n",
              "      quickchartButtonEl.disabled = true;  // To prevent multiple clicks.\n",
              "      quickchartButtonEl.classList.add('colab-df-spinner');\n",
              "      try {\n",
              "        const charts = await google.colab.kernel.invokeFunction(\n",
              "            'suggestCharts', [key], {});\n",
              "      } catch (error) {\n",
              "        console.error('Error during call to suggestCharts:', error);\n",
              "      }\n",
              "      quickchartButtonEl.classList.remove('colab-df-spinner');\n",
              "      quickchartButtonEl.classList.add('colab-df-quickchart-complete');\n",
              "    }\n",
              "    (() => {\n",
              "      let quickchartButtonEl =\n",
              "        document.querySelector('#df-7e94401b-3b64-415e-883e-4f773086b136 button');\n",
              "      quickchartButtonEl.style.display =\n",
              "        google.colab.kernel.accessAllowed ? 'block' : 'none';\n",
              "    })();\n",
              "  </script>\n",
              "</div>\n",
              "    </div>\n",
              "  </div>\n"
            ],
            "application/vnd.google.colaboratory.intrinsic+json": {
              "type": "dataframe",
              "variable_name": "resultados",
              "summary": "{\n  \"name\": \"resultados\",\n  \"rows\": 128,\n  \"fields\": [\n    {\n      \"column\": \"treeScore\",\n      \"properties\": {\n        \"dtype\": \"number\",\n        \"std\": 0.017511175576773234,\n        \"min\": 0.7746954652472106,\n        \"max\": 0.8477838059166752,\n        \"num_unique_values\": 79,\n        \"samples\": [\n          0.8301770907974204,\n          0.8477838059166752,\n          0.8339645818405159\n        ],\n        \"semantic_type\": \"\",\n        \"description\": \"\"\n      }\n    },\n    {\n      \"column\": \"criterion\",\n      \"properties\": {\n        \"dtype\": \"category\",\n        \"num_unique_values\": 2,\n        \"samples\": [\n          \"entropy\",\n          \"gini\"\n        ],\n        \"semantic_type\": \"\",\n        \"description\": \"\"\n      }\n    },\n    {\n      \"column\": \"max_depth\",\n      \"properties\": {\n        \"dtype\": \"number\",\n        \"std\": 1.6415653633362466,\n        \"min\": 4.0,\n        \"max\": 8.0,\n        \"num_unique_values\": 3,\n        \"samples\": [\n          8.0,\n          6.0\n        ],\n        \"semantic_type\": \"\",\n        \"description\": \"\"\n      }\n    },\n    {\n      \"column\": \"max_features\",\n      \"properties\": {\n        \"dtype\": \"number\",\n        \"std\": 1,\n        \"min\": 1,\n        \"max\": 4,\n        \"num_unique_values\": 4,\n        \"samples\": [\n          3,\n          1\n        ],\n        \"semantic_type\": \"\",\n        \"description\": \"\"\n      }\n    },\n    {\n      \"column\": \"min_samples_split\",\n      \"properties\": {\n        \"dtype\": \"number\",\n        \"std\": 2,\n        \"min\": 4,\n        \"max\": 10,\n        \"num_unique_values\": 4,\n        \"samples\": [\n          6,\n          4\n        ],\n        \"semantic_type\": \"\",\n        \"description\": \"\"\n      }\n    }\n  ]\n}"
            }
          },
          "metadata": {},
          "execution_count": 54
        }
      ]
    },
    {
      "cell_type": "markdown",
      "source": [
        "**creamos** un modelo con el mejor arbol"
      ],
      "metadata": {
        "id": "i-q37lQfyqgK"
      },
      "id": "i-q37lQfyqgK"
    },
    {
      "cell_type": "code",
      "source": [
        "#creamos el arbol\n",
        "mejorArbol=tree.DecisionTreeClassifier(min_samples_split=10, max_features=4, max_depth=8, criterion='gini', random_state=454)"
      ],
      "metadata": {
        "id": "ey6yt4eGx0Ss"
      },
      "id": "ey6yt4eGx0Ss",
      "execution_count": 55,
      "outputs": []
    },
    {
      "cell_type": "code",
      "source": [
        "#Entrenar el modelo, fit()\n",
        "mejorArbol.fit(X_train,y_train)"
      ],
      "metadata": {
        "colab": {
          "base_uri": "https://localhost:8080/",
          "height": 0
        },
        "id": "aQZtvB6RysXr",
        "outputId": "452fe43c-5593-4a26-dec6-39fa7290fe48"
      },
      "id": "aQZtvB6RysXr",
      "execution_count": 56,
      "outputs": [
        {
          "output_type": "execute_result",
          "data": {
            "text/plain": [
              "DecisionTreeClassifier(max_depth=8, max_features=4, min_samples_split=10,\n",
              "                       random_state=454)"
            ],
            "text/html": [
              "<style>#sk-container-id-6 {color: black;background-color: white;}#sk-container-id-6 pre{padding: 0;}#sk-container-id-6 div.sk-toggleable {background-color: white;}#sk-container-id-6 label.sk-toggleable__label {cursor: pointer;display: block;width: 100%;margin-bottom: 0;padding: 0.3em;box-sizing: border-box;text-align: center;}#sk-container-id-6 label.sk-toggleable__label-arrow:before {content: \"▸\";float: left;margin-right: 0.25em;color: #696969;}#sk-container-id-6 label.sk-toggleable__label-arrow:hover:before {color: black;}#sk-container-id-6 div.sk-estimator:hover label.sk-toggleable__label-arrow:before {color: black;}#sk-container-id-6 div.sk-toggleable__content {max-height: 0;max-width: 0;overflow: hidden;text-align: left;background-color: #f0f8ff;}#sk-container-id-6 div.sk-toggleable__content pre {margin: 0.2em;color: black;border-radius: 0.25em;background-color: #f0f8ff;}#sk-container-id-6 input.sk-toggleable__control:checked~div.sk-toggleable__content {max-height: 200px;max-width: 100%;overflow: auto;}#sk-container-id-6 input.sk-toggleable__control:checked~label.sk-toggleable__label-arrow:before {content: \"▾\";}#sk-container-id-6 div.sk-estimator input.sk-toggleable__control:checked~label.sk-toggleable__label {background-color: #d4ebff;}#sk-container-id-6 div.sk-label input.sk-toggleable__control:checked~label.sk-toggleable__label {background-color: #d4ebff;}#sk-container-id-6 input.sk-hidden--visually {border: 0;clip: rect(1px 1px 1px 1px);clip: rect(1px, 1px, 1px, 1px);height: 1px;margin: -1px;overflow: hidden;padding: 0;position: absolute;width: 1px;}#sk-container-id-6 div.sk-estimator {font-family: monospace;background-color: #f0f8ff;border: 1px dotted black;border-radius: 0.25em;box-sizing: border-box;margin-bottom: 0.5em;}#sk-container-id-6 div.sk-estimator:hover {background-color: #d4ebff;}#sk-container-id-6 div.sk-parallel-item::after {content: \"\";width: 100%;border-bottom: 1px solid gray;flex-grow: 1;}#sk-container-id-6 div.sk-label:hover label.sk-toggleable__label {background-color: #d4ebff;}#sk-container-id-6 div.sk-serial::before {content: \"\";position: absolute;border-left: 1px solid gray;box-sizing: border-box;top: 0;bottom: 0;left: 50%;z-index: 0;}#sk-container-id-6 div.sk-serial {display: flex;flex-direction: column;align-items: center;background-color: white;padding-right: 0.2em;padding-left: 0.2em;position: relative;}#sk-container-id-6 div.sk-item {position: relative;z-index: 1;}#sk-container-id-6 div.sk-parallel {display: flex;align-items: stretch;justify-content: center;background-color: white;position: relative;}#sk-container-id-6 div.sk-item::before, #sk-container-id-6 div.sk-parallel-item::before {content: \"\";position: absolute;border-left: 1px solid gray;box-sizing: border-box;top: 0;bottom: 0;left: 50%;z-index: -1;}#sk-container-id-6 div.sk-parallel-item {display: flex;flex-direction: column;z-index: 1;position: relative;background-color: white;}#sk-container-id-6 div.sk-parallel-item:first-child::after {align-self: flex-end;width: 50%;}#sk-container-id-6 div.sk-parallel-item:last-child::after {align-self: flex-start;width: 50%;}#sk-container-id-6 div.sk-parallel-item:only-child::after {width: 0;}#sk-container-id-6 div.sk-dashed-wrapped {border: 1px dashed gray;margin: 0 0.4em 0.5em 0.4em;box-sizing: border-box;padding-bottom: 0.4em;background-color: white;}#sk-container-id-6 div.sk-label label {font-family: monospace;font-weight: bold;display: inline-block;line-height: 1.2em;}#sk-container-id-6 div.sk-label-container {text-align: center;}#sk-container-id-6 div.sk-container {/* jupyter's `normalize.less` sets `[hidden] { display: none; }` but bootstrap.min.css set `[hidden] { display: none !important; }` so we also need the `!important` here to be able to override the default hidden behavior on the sphinx rendered scikit-learn.org. See: https://github.com/scikit-learn/scikit-learn/issues/21755 */display: inline-block !important;position: relative;}#sk-container-id-6 div.sk-text-repr-fallback {display: none;}</style><div id=\"sk-container-id-6\" class=\"sk-top-container\"><div class=\"sk-text-repr-fallback\"><pre>DecisionTreeClassifier(max_depth=8, max_features=4, min_samples_split=10,\n",
              "                       random_state=454)</pre><b>In a Jupyter environment, please rerun this cell to show the HTML representation or trust the notebook. <br />On GitHub, the HTML representation is unable to render, please try loading this page with nbviewer.org.</b></div><div class=\"sk-container\" hidden><div class=\"sk-item\"><div class=\"sk-estimator sk-toggleable\"><input class=\"sk-toggleable__control sk-hidden--visually\" id=\"sk-estimator-id-6\" type=\"checkbox\" checked><label for=\"sk-estimator-id-6\" class=\"sk-toggleable__label sk-toggleable__label-arrow\">DecisionTreeClassifier</label><div class=\"sk-toggleable__content\"><pre>DecisionTreeClassifier(max_depth=8, max_features=4, min_samples_split=10,\n",
              "                       random_state=454)</pre></div></div></div></div></div>"
            ]
          },
          "metadata": {},
          "execution_count": 56
        }
      ]
    },
    {
      "cell_type": "code",
      "source": [
        "#obtener la exactitud del arbol\n",
        "scoreArbol=modeloArbol.score(X_train, y_train)\n",
        "print(scoreArbol)\n",
        "score=modeloArbol.score(X_test, y_test)\n",
        "print(score)"
      ],
      "metadata": {
        "colab": {
          "base_uri": "https://localhost:8080/"
        },
        "id": "BNiC4fbQy6lE",
        "outputId": "05a53dd2-5aa9-4b99-f936-1bbdd40adc05"
      },
      "id": "BNiC4fbQy6lE",
      "execution_count": 57,
      "outputs": [
        {
          "output_type": "stream",
          "name": "stdout",
          "text": [
            "0.8358634608634609\n",
            "0.8302794554202068\n"
          ]
        }
      ]
    },
    {
      "cell_type": "code",
      "source": [
        "#crear un DF con las prediccionesy sus valores reales\n",
        "y_predictArbol=mejorArbol.predict(X_test)\n",
        "y_predictArboldf=pd.DataFrame(y_predictArbol,columns=[\"prediccion\"])\n",
        "y_test_ordenado=y_test.reset_index(drop=True)\n",
        "comparativo=pd.concat([y_test_ordenado,y_predictArboldf],axis=1)\n",
        "print(comparativo.head(20))"
      ],
      "metadata": {
        "colab": {
          "base_uri": "https://localhost:8080/"
        },
        "id": "jysRIQy5z5Fe",
        "outputId": "b5a5914f-67cd-4c69-dc3d-d5ca3a98281b"
      },
      "id": "jysRIQy5z5Fe",
      "execution_count": 58,
      "outputs": [
        {
          "output_type": "stream",
          "name": "stdout",
          "text": [
            "    income  prediccion\n",
            "0        0           0\n",
            "1        0           0\n",
            "2        0           0\n",
            "3        0           0\n",
            "4        0           0\n",
            "5        0           0\n",
            "6        0           0\n",
            "7        0           1\n",
            "8        0           0\n",
            "9        0           0\n",
            "10       0           0\n",
            "11       0           0\n",
            "12       0           0\n",
            "13       1           0\n",
            "14       0           0\n",
            "15       0           0\n",
            "16       1           0\n",
            "17       0           0\n",
            "18       1           0\n",
            "19       0           0\n"
          ]
        }
      ]
    },
    {
      "cell_type": "markdown",
      "source": [
        "crear la matriz de confusion\n"
      ],
      "metadata": {
        "id": "LjZ36J5P1O3J"
      },
      "id": "LjZ36J5P1O3J"
    },
    {
      "cell_type": "code",
      "source": [
        "#Se crea una tabla con los datos de la matriz\n",
        "matrixArbol=confusion_matrix(y_test,y_predictArbol)\n",
        "#Grafica la matriz\n",
        "mostrarMatrixArbol=ConfusionMatrixDisplay(confusion_matrix=matrixArbol,display_labels=mejorArbol.classes_)\n",
        "mostrarMatrixArbol.plot()"
      ],
      "metadata": {
        "colab": {
          "base_uri": "https://localhost:8080/",
          "height": 0
        },
        "id": "MX2pWeq21Q5J",
        "outputId": "6dadf756-5d48-47ae-c039-aaca8dc5c0b4"
      },
      "id": "MX2pWeq21Q5J",
      "execution_count": 59,
      "outputs": [
        {
          "output_type": "execute_result",
          "data": {
            "text/plain": [
              "<sklearn.metrics._plot.confusion_matrix.ConfusionMatrixDisplay at 0x78033dbba620>"
            ]
          },
          "metadata": {},
          "execution_count": 59
        },
        {
          "output_type": "display_data",
          "data": {
            "text/plain": [
              "<Figure size 640x480 with 2 Axes>"
            ],
            "image/png": "[encoded data removed]"
          },
          "metadata": {}
        }
      ]
    },
    {
      "cell_type": "code",
      "source": [
        "print(classification_report(y_test,y_predictArbol))"
      ],
      "metadata": {
        "colab": {
          "base_uri": "https://localhost:8080/"
        },
        "id": "lt6UKaBk2VtT",
        "outputId": "1dad35f7-1a3c-4126-8457-6754b170a399"
      },
      "id": "lt6UKaBk2VtT",
      "execution_count": 60,
      "outputs": [
        {
          "output_type": "stream",
          "name": "stdout",
          "text": [
            "              precision    recall  f1-score   support\n",
            "\n",
            "           0       0.86      0.95      0.91      7440\n",
            "           1       0.77      0.51      0.62      2329\n",
            "\n",
            "    accuracy                           0.85      9769\n",
            "   macro avg       0.82      0.73      0.76      9769\n",
            "weighted avg       0.84      0.85      0.84      9769\n",
            "\n"
          ]
        }
      ]
    },
    {
      "cell_type": "code",
      "source": [
        "fprArbol,tprArbol,umbral=roc_curve(y_test,y_predictArbol)\n",
        "#graficar la curva ROC\n",
        "plt.plot(fprArbol,tprArbol)\n",
        "plt.plot([0,1],[0,1],\"--\")\n",
        "plt.xlabel(\"Tasa Falso Positivos\")\n",
        "plt.ylabel(\"Tasa de verdaderos positivos\")\n",
        "plt.title(\"CURVA ROC\")\n",
        "plt.show()"
      ],
      "metadata": {
        "colab": {
          "base_uri": "https://localhost:8080/",
          "height": 0
        },
        "id": "VLNSvGZ82ZY6",
        "outputId": "5a7c105d-03d7-4dc0-a447-b660f7fb62b1"
      },
      "id": "VLNSvGZ82ZY6",
      "execution_count": 61,
      "outputs": [
        {
          "output_type": "display_data",
          "data": {
            "text/plain": [
              "<Figure size 640x480 with 1 Axes>"
            ],
            "image/png": "[encoded data removed]"
          },
          "metadata": {}
        }
      ]
    },
    {
      "cell_type": "code",
      "source": [
        "#Area bajo la curva\n",
        "print (\"Area bajo la curva\", auc(fprArbol,tprArbol))"
      ],
      "metadata": {
        "colab": {
          "base_uri": "https://localhost:8080/"
        },
        "id": "A18S-ZE92gzb",
        "outputId": "1d3d6be1-bf92-448e-95c6-a346678007ac"
      },
      "id": "A18S-ZE92gzb",
      "execution_count": 62,
      "outputs": [
        {
          "output_type": "stream",
          "name": "stdout",
          "text": [
            "Area bajo la curva 0.7319398756677147\n"
          ]
        }
      ]
    },
    {
      "cell_type": "markdown",
      "source": [
        "#Random Forest"
      ],
      "metadata": {
        "id": "WAPV4tAh8_zN"
      },
      "id": "WAPV4tAh8_zN"
    },
    {
      "cell_type": "code",
      "source": [
        "#definir los parametros para el bosque\n",
        "param_grid= ParameterGrid(\n",
        "    {'n_estimators':[60,80,100,120,150],\n",
        "     'max_features':[3,4,5,7],\n",
        "     'max_depth':[None,2,3,4,5],\n",
        "     'criterion':['gini','entropy']})\n",
        "\n",
        "resultadosBosque={'paramBosque':[],'rfScore':[]}\n",
        "\n",
        "\n",
        "\n"
      ],
      "metadata": {
        "id": "pQAfWMcUEs8K"
      },
      "id": "pQAfWMcUEs8K",
      "execution_count": 63,
      "outputs": []
    },
    {
      "cell_type": "code",
      "source": [
        "i=0\n",
        "for p in param_grid:\n",
        "   i+=1\n",
        "   modeloBosque = RandomForestClassifier( oob_score=True,random_state=444,** p)\n",
        "   modeloBosque.fit(X_train,y_train)\n",
        "   resultadosBosque['paramBosque'].append(p)\n",
        "   resultadosBosque['rfScore'].append(modeloBosque.oob_score_)\n",
        "   print(f\"Modelo {i} : {p} \\u2713\", modeloBosque.oob_score_)"
      ],
      "metadata": {
        "colab": {
          "base_uri": "https://localhost:8080/"
        },
        "id": "Ij9wK_RpIWCb",
        "outputId": "7a1e526e-5398-41fb-c293-489395797e81"
      },
      "id": "Ij9wK_RpIWCb",
      "execution_count": 64,
      "outputs": [
        {
          "output_type": "stream",
          "name": "stdout",
          "text": [
            "Modelo 1 : {'criterion': 'gini', 'max_depth': None, 'max_features': 3, 'n_estimators': 60} ✓ 0.8366970866970866\n",
            "Modelo 2 : {'criterion': 'gini', 'max_depth': None, 'max_features': 3, 'n_estimators': 80} ✓ 0.836960336960337\n",
            "Modelo 3 : {'criterion': 'gini', 'max_depth': None, 'max_features': 3, 'n_estimators': 100} ✓ 0.8363460863460863\n",
            "Modelo 4 : {'criterion': 'gini', 'max_depth': None, 'max_features': 3, 'n_estimators': 120} ✓ 0.8365654615654615\n",
            "Modelo 5 : {'criterion': 'gini', 'max_depth': None, 'max_features': 3, 'n_estimators': 150} ✓ 0.8371797121797122\n",
            "Modelo 6 : {'criterion': 'gini', 'max_depth': None, 'max_features': 4, 'n_estimators': 60} ✓ 0.8325289575289575\n",
            "Modelo 7 : {'criterion': 'gini', 'max_depth': None, 'max_features': 4, 'n_estimators': 80} ✓ 0.8344155844155844\n",
            "Modelo 8 : {'criterion': 'gini', 'max_depth': None, 'max_features': 4, 'n_estimators': 100} ✓ 0.8355124605124605\n",
            "Modelo 9 : {'criterion': 'gini', 'max_depth': None, 'max_features': 4, 'n_estimators': 120} ✓ 0.8352053352053352\n",
            "Modelo 10 : {'criterion': 'gini', 'max_depth': None, 'max_features': 4, 'n_estimators': 150} ✓ 0.8356879606879607\n",
            "Modelo 11 : {'criterion': 'gini', 'max_depth': None, 'max_features': 5, 'n_estimators': 60} ✓ 0.832002457002457\n",
            "Modelo 12 : {'criterion': 'gini', 'max_depth': None, 'max_features': 5, 'n_estimators': 80} ✓ 0.8327922077922078\n",
            "Modelo 13 : {'criterion': 'gini', 'max_depth': None, 'max_features': 5, 'n_estimators': 100} ✓ 0.8335380835380836\n",
            "Modelo 14 : {'criterion': 'gini', 'max_depth': None, 'max_features': 5, 'n_estimators': 120} ✓ 0.8345033345033345\n",
            "Modelo 15 : {'criterion': 'gini', 'max_depth': None, 'max_features': 5, 'n_estimators': 150} ✓ 0.8338890838890839\n",
            "Modelo 16 : {'criterion': 'gini', 'max_depth': None, 'max_features': 7, 'n_estimators': 60} ✓ 0.8291505791505791\n",
            "Modelo 17 : {'criterion': 'gini', 'max_depth': None, 'max_features': 7, 'n_estimators': 80} ✓ 0.8298087048087048\n",
            "Modelo 18 : {'criterion': 'gini', 'max_depth': None, 'max_features': 7, 'n_estimators': 100} ✓ 0.8317392067392068\n",
            "Modelo 19 : {'criterion': 'gini', 'max_depth': None, 'max_features': 7, 'n_estimators': 120} ✓ 0.8308617058617058\n",
            "Modelo 20 : {'criterion': 'gini', 'max_depth': None, 'max_features': 7, 'n_estimators': 150} ✓ 0.8314320814320815\n",
            "Modelo 21 : {'criterion': 'gini', 'max_depth': 2, 'max_features': 3, 'n_estimators': 60} ✓ 0.8008950508950509\n",
            "Modelo 22 : {'criterion': 'gini', 'max_depth': 2, 'max_features': 3, 'n_estimators': 80} ✓ 0.8012021762021762\n",
            "Modelo 23 : {'criterion': 'gini', 'max_depth': 2, 'max_features': 3, 'n_estimators': 100} ✓ 0.8012460512460512\n",
            "Modelo 24 : {'criterion': 'gini', 'max_depth': 2, 'max_features': 3, 'n_estimators': 120} ✓ 0.8014654264654265\n",
            "Modelo 25 : {'criterion': 'gini', 'max_depth': 2, 'max_features': 3, 'n_estimators': 150} ✓ 0.8015093015093016\n",
            "Modelo 26 : {'criterion': 'gini', 'max_depth': 2, 'max_features': 4, 'n_estimators': 60} ✓ 0.8012460512460512\n",
            "Modelo 27 : {'criterion': 'gini', 'max_depth': 2, 'max_features': 4, 'n_estimators': 80} ✓ 0.8015093015093016\n",
            "Modelo 28 : {'criterion': 'gini', 'max_depth': 2, 'max_features': 4, 'n_estimators': 100} ✓ 0.8013776763776764\n",
            "Modelo 29 : {'criterion': 'gini', 'max_depth': 2, 'max_features': 4, 'n_estimators': 120} ✓ 0.8015970515970516\n",
            "Modelo 30 : {'criterion': 'gini', 'max_depth': 2, 'max_features': 4, 'n_estimators': 150} ✓ 0.8014654264654265\n",
            "Modelo 31 : {'criterion': 'gini', 'max_depth': 2, 'max_features': 5, 'n_estimators': 60} ✓ 0.803044928044928\n",
            "Modelo 32 : {'criterion': 'gini', 'max_depth': 2, 'max_features': 5, 'n_estimators': 80} ✓ 0.8014215514215515\n",
            "Modelo 33 : {'criterion': 'gini', 'max_depth': 2, 'max_features': 5, 'n_estimators': 100} ✓ 0.8015093015093016\n",
            "Modelo 34 : {'criterion': 'gini', 'max_depth': 2, 'max_features': 5, 'n_estimators': 120} ✓ 0.8014654264654265\n",
            "Modelo 35 : {'criterion': 'gini', 'max_depth': 2, 'max_features': 5, 'n_estimators': 150} ✓ 0.8013776763776764\n",
            "Modelo 36 : {'criterion': 'gini', 'max_depth': 2, 'max_features': 7, 'n_estimators': 60} ✓ 0.801026676026676\n",
            "Modelo 37 : {'criterion': 'gini', 'max_depth': 2, 'max_features': 7, 'n_estimators': 80} ✓ 0.801026676026676\n",
            "Modelo 38 : {'criterion': 'gini', 'max_depth': 2, 'max_features': 7, 'n_estimators': 100} ✓ 0.8012460512460512\n",
            "Modelo 39 : {'criterion': 'gini', 'max_depth': 2, 'max_features': 7, 'n_estimators': 120} ✓ 0.8014654264654265\n",
            "Modelo 40 : {'criterion': 'gini', 'max_depth': 2, 'max_features': 7, 'n_estimators': 150} ✓ 0.8013776763776764\n",
            "Modelo 41 : {'criterion': 'gini', 'max_depth': 3, 'max_features': 3, 'n_estimators': 60} ✓ 0.8255528255528255\n",
            "Modelo 42 : {'criterion': 'gini', 'max_depth': 3, 'max_features': 3, 'n_estimators': 80} ✓ 0.8244120744120744\n",
            "Modelo 43 : {'criterion': 'gini', 'max_depth': 3, 'max_features': 3, 'n_estimators': 100} ✓ 0.8253334503334503\n",
            "Modelo 44 : {'criterion': 'gini', 'max_depth': 3, 'max_features': 3, 'n_estimators': 120} ✓ 0.8238855738855739\n",
            "Modelo 45 : {'criterion': 'gini', 'max_depth': 3, 'max_features': 3, 'n_estimators': 150} ✓ 0.8242804492804493\n",
            "Modelo 46 : {'criterion': 'gini', 'max_depth': 3, 'max_features': 4, 'n_estimators': 60} ✓ 0.8319147069147069\n",
            "Modelo 47 : {'criterion': 'gini', 'max_depth': 3, 'max_features': 4, 'n_estimators': 80} ✓ 0.829018954018954\n",
            "Modelo 48 : {'criterion': 'gini', 'max_depth': 3, 'max_features': 4, 'n_estimators': 100} ✓ 0.8309494559494559\n",
            "Modelo 49 : {'criterion': 'gini', 'max_depth': 3, 'max_features': 4, 'n_estimators': 120} ✓ 0.8306862056862057\n",
            "Modelo 50 : {'criterion': 'gini', 'max_depth': 3, 'max_features': 4, 'n_estimators': 150} ✓ 0.829018954018954\n",
            "Modelo 51 : {'criterion': 'gini', 'max_depth': 3, 'max_features': 5, 'n_estimators': 60} ✓ 0.8395489645489645\n",
            "Modelo 52 : {'criterion': 'gini', 'max_depth': 3, 'max_features': 5, 'n_estimators': 80} ✓ 0.8402509652509652\n",
            "Modelo 53 : {'criterion': 'gini', 'max_depth': 3, 'max_features': 5, 'n_estimators': 100} ✓ 0.839987714987715\n",
            "Modelo 54 : {'criterion': 'gini', 'max_depth': 3, 'max_features': 5, 'n_estimators': 120} ✓ 0.8409090909090909\n",
            "Modelo 55 : {'criterion': 'gini', 'max_depth': 3, 'max_features': 5, 'n_estimators': 150} ✓ 0.8409090909090909\n",
            "Modelo 56 : {'criterion': 'gini', 'max_depth': 3, 'max_features': 7, 'n_estimators': 60} ✓ 0.8413478413478414\n",
            "Modelo 57 : {'criterion': 'gini', 'max_depth': 3, 'max_features': 7, 'n_estimators': 80} ✓ 0.8422253422253422\n",
            "Modelo 58 : {'criterion': 'gini', 'max_depth': 3, 'max_features': 7, 'n_estimators': 100} ✓ 0.8422253422253422\n",
            "Modelo 59 : {'criterion': 'gini', 'max_depth': 3, 'max_features': 7, 'n_estimators': 120} ✓ 0.8421375921375921\n",
            "Modelo 60 : {'criterion': 'gini', 'max_depth': 3, 'max_features': 7, 'n_estimators': 150} ✓ 0.8421375921375921\n",
            "Modelo 61 : {'criterion': 'gini', 'max_depth': 4, 'max_features': 3, 'n_estimators': 60} ✓ 0.8304229554229554\n",
            "Modelo 62 : {'criterion': 'gini', 'max_depth': 4, 'max_features': 3, 'n_estimators': 80} ✓ 0.8341962091962092\n",
            "Modelo 63 : {'criterion': 'gini', 'max_depth': 4, 'max_features': 3, 'n_estimators': 100} ✓ 0.8338890838890839\n",
            "Modelo 64 : {'criterion': 'gini', 'max_depth': 4, 'max_features': 3, 'n_estimators': 120} ✓ 0.8327922077922078\n",
            "Modelo 65 : {'criterion': 'gini', 'max_depth': 4, 'max_features': 3, 'n_estimators': 150} ✓ 0.831958581958582\n",
            "Modelo 66 : {'criterion': 'gini', 'max_depth': 4, 'max_features': 4, 'n_estimators': 60} ✓ 0.8405580905580906\n",
            "Modelo 67 : {'criterion': 'gini', 'max_depth': 4, 'max_features': 4, 'n_estimators': 80} ✓ 0.8405580905580906\n",
            "Modelo 68 : {'criterion': 'gini', 'max_depth': 4, 'max_features': 4, 'n_estimators': 100} ✓ 0.8398999648999649\n",
            "Modelo 69 : {'criterion': 'gini', 'max_depth': 4, 'max_features': 4, 'n_estimators': 120} ✓ 0.8403825903825903\n",
            "Modelo 70 : {'criterion': 'gini', 'max_depth': 4, 'max_features': 4, 'n_estimators': 150} ✓ 0.8393295893295893\n",
            "Modelo 71 : {'criterion': 'gini', 'max_depth': 4, 'max_features': 5, 'n_estimators': 60} ✓ 0.8427518427518428\n",
            "Modelo 72 : {'criterion': 'gini', 'max_depth': 4, 'max_features': 5, 'n_estimators': 80} ✓ 0.8427957177957178\n",
            "Modelo 73 : {'criterion': 'gini', 'max_depth': 4, 'max_features': 5, 'n_estimators': 100} ✓ 0.8428834678834679\n",
            "Modelo 74 : {'criterion': 'gini', 'max_depth': 4, 'max_features': 5, 'n_estimators': 120} ✓ 0.8426640926640927\n",
            "Modelo 75 : {'criterion': 'gini', 'max_depth': 4, 'max_features': 5, 'n_estimators': 150} ✓ 0.8428395928395929\n",
            "Modelo 76 : {'criterion': 'gini', 'max_depth': 4, 'max_features': 7, 'n_estimators': 60} ✓ 0.842049842049842\n",
            "Modelo 77 : {'criterion': 'gini', 'max_depth': 4, 'max_features': 7, 'n_estimators': 80} ✓ 0.8421375921375921\n",
            "Modelo 78 : {'criterion': 'gini', 'max_depth': 4, 'max_features': 7, 'n_estimators': 100} ✓ 0.842049842049842\n",
            "Modelo 79 : {'criterion': 'gini', 'max_depth': 4, 'max_features': 7, 'n_estimators': 120} ✓ 0.842049842049842\n",
            "Modelo 80 : {'criterion': 'gini', 'max_depth': 4, 'max_features': 7, 'n_estimators': 150} ✓ 0.842093717093717\n",
            "Modelo 81 : {'criterion': 'gini', 'max_depth': 5, 'max_features': 3, 'n_estimators': 60} ✓ 0.8388030888030888\n",
            "Modelo 82 : {'criterion': 'gini', 'max_depth': 5, 'max_features': 3, 'n_estimators': 80} ✓ 0.840075465075465\n",
            "Modelo 83 : {'criterion': 'gini', 'max_depth': 5, 'max_features': 3, 'n_estimators': 100} ✓ 0.8393734643734644\n",
            "Modelo 84 : {'criterion': 'gini', 'max_depth': 5, 'max_features': 3, 'n_estimators': 120} ✓ 0.8410407160407161\n",
            "Modelo 85 : {'criterion': 'gini', 'max_depth': 5, 'max_features': 3, 'n_estimators': 150} ✓ 0.8409090909090909\n",
            "Modelo 86 : {'criterion': 'gini', 'max_depth': 5, 'max_features': 4, 'n_estimators': 60} ✓ 0.8415672165672166\n",
            "Modelo 87 : {'criterion': 'gini', 'max_depth': 5, 'max_features': 4, 'n_estimators': 80} ✓ 0.8417865917865918\n",
            "Modelo 88 : {'criterion': 'gini', 'max_depth': 5, 'max_features': 4, 'n_estimators': 100} ✓ 0.8419620919620919\n",
            "Modelo 89 : {'criterion': 'gini', 'max_depth': 5, 'max_features': 4, 'n_estimators': 120} ✓ 0.8422253422253422\n",
            "Modelo 90 : {'criterion': 'gini', 'max_depth': 5, 'max_features': 4, 'n_estimators': 150} ✓ 0.8421814671814671\n",
            "Modelo 91 : {'criterion': 'gini', 'max_depth': 5, 'max_features': 5, 'n_estimators': 60} ✓ 0.8428395928395929\n",
            "Modelo 92 : {'criterion': 'gini', 'max_depth': 5, 'max_features': 5, 'n_estimators': 80} ✓ 0.8432344682344682\n",
            "Modelo 93 : {'criterion': 'gini', 'max_depth': 5, 'max_features': 5, 'n_estimators': 100} ✓ 0.842927342927343\n",
            "Modelo 94 : {'criterion': 'gini', 'max_depth': 5, 'max_features': 5, 'n_estimators': 120} ✓ 0.8433222183222183\n",
            "Modelo 95 : {'criterion': 'gini', 'max_depth': 5, 'max_features': 5, 'n_estimators': 150} ✓ 0.8434099684099684\n",
            "Modelo 96 : {'criterion': 'gini', 'max_depth': 5, 'max_features': 7, 'n_estimators': 60} ✓ 0.8438925938925939\n",
            "Modelo 97 : {'criterion': 'gini', 'max_depth': 5, 'max_features': 7, 'n_estimators': 80} ✓ 0.8436732186732187\n",
            "Modelo 98 : {'criterion': 'gini', 'max_depth': 5, 'max_features': 7, 'n_estimators': 100} ✓ 0.8430589680589681\n",
            "Modelo 99 : {'criterion': 'gini', 'max_depth': 5, 'max_features': 7, 'n_estimators': 120} ✓ 0.8434538434538434\n",
            "Modelo 100 : {'criterion': 'gini', 'max_depth': 5, 'max_features': 7, 'n_estimators': 150} ✓ 0.8434538434538434\n",
            "Modelo 101 : {'criterion': 'entropy', 'max_depth': None, 'max_features': 3, 'n_estimators': 60} ✓ 0.8352930852930853\n",
            "Modelo 102 : {'criterion': 'entropy', 'max_depth': None, 'max_features': 3, 'n_estimators': 80} ✓ 0.836038961038961\n",
            "Modelo 103 : {'criterion': 'entropy', 'max_depth': None, 'max_features': 3, 'n_estimators': 100} ✓ 0.8366532116532116\n",
            "Modelo 104 : {'criterion': 'entropy', 'max_depth': None, 'max_features': 3, 'n_estimators': 120} ✓ 0.8360828360828361\n",
            "Modelo 105 : {'criterion': 'entropy', 'max_depth': None, 'max_features': 3, 'n_estimators': 150} ✓ 0.8373990873990874\n",
            "Modelo 106 : {'criterion': 'entropy', 'max_depth': None, 'max_features': 4, 'n_estimators': 60} ✓ 0.8344155844155844\n",
            "Modelo 107 : {'criterion': 'entropy', 'max_depth': None, 'max_features': 4, 'n_estimators': 80} ✓ 0.834942084942085\n",
            "Modelo 108 : {'criterion': 'entropy', 'max_depth': None, 'max_features': 4, 'n_estimators': 100} ✓ 0.8345033345033345\n",
            "Modelo 109 : {'criterion': 'entropy', 'max_depth': None, 'max_features': 4, 'n_estimators': 120} ✓ 0.8355124605124605\n",
            "Modelo 110 : {'criterion': 'entropy', 'max_depth': None, 'max_features': 4, 'n_estimators': 150} ✓ 0.8355124605124605\n",
            "Modelo 111 : {'criterion': 'entropy', 'max_depth': None, 'max_features': 5, 'n_estimators': 60} ✓ 0.8335380835380836\n",
            "Modelo 112 : {'criterion': 'entropy', 'max_depth': None, 'max_features': 5, 'n_estimators': 80} ✓ 0.833011583011583\n",
            "Modelo 113 : {'criterion': 'entropy', 'max_depth': None, 'max_features': 5, 'n_estimators': 100} ✓ 0.8327483327483327\n",
            "Modelo 114 : {'criterion': 'entropy', 'max_depth': None, 'max_features': 5, 'n_estimators': 120} ✓ 0.8342839592839593\n",
            "Modelo 115 : {'criterion': 'entropy', 'max_depth': None, 'max_features': 5, 'n_estimators': 150} ✓ 0.8356440856440857\n",
            "Modelo 116 : {'criterion': 'entropy', 'max_depth': None, 'max_features': 7, 'n_estimators': 60} ✓ 0.8309494559494559\n",
            "Modelo 117 : {'criterion': 'entropy', 'max_depth': None, 'max_features': 7, 'n_estimators': 80} ✓ 0.8313443313443314\n",
            "Modelo 118 : {'criterion': 'entropy', 'max_depth': None, 'max_features': 7, 'n_estimators': 100} ✓ 0.8315637065637066\n",
            "Modelo 119 : {'criterion': 'entropy', 'max_depth': None, 'max_features': 7, 'n_estimators': 120} ✓ 0.8323534573534573\n",
            "Modelo 120 : {'criterion': 'entropy', 'max_depth': None, 'max_features': 7, 'n_estimators': 150} ✓ 0.8338890838890839\n",
            "Modelo 121 : {'criterion': 'entropy', 'max_depth': 2, 'max_features': 3, 'n_estimators': 60} ✓ 0.7985696735696736\n",
            "Modelo 122 : {'criterion': 'entropy', 'max_depth': 2, 'max_features': 3, 'n_estimators': 80} ✓ 0.7993594243594243\n",
            "Modelo 123 : {'criterion': 'entropy', 'max_depth': 2, 'max_features': 3, 'n_estimators': 100} ✓ 0.799052299052299\n",
            "Modelo 124 : {'criterion': 'entropy', 'max_depth': 2, 'max_features': 3, 'n_estimators': 120} ✓ 0.7992277992277992\n",
            "Modelo 125 : {'criterion': 'entropy', 'max_depth': 2, 'max_features': 3, 'n_estimators': 150} ✓ 0.7987451737451737\n",
            "Modelo 126 : {'criterion': 'entropy', 'max_depth': 2, 'max_features': 4, 'n_estimators': 60} ✓ 0.7983941733941734\n",
            "Modelo 127 : {'criterion': 'entropy', 'max_depth': 2, 'max_features': 4, 'n_estimators': 80} ✓ 0.7987890487890488\n",
            "Modelo 128 : {'criterion': 'entropy', 'max_depth': 2, 'max_features': 4, 'n_estimators': 100} ✓ 0.7988767988767989\n",
            "Modelo 129 : {'criterion': 'entropy', 'max_depth': 2, 'max_features': 4, 'n_estimators': 120} ✓ 0.7989645489645489\n",
            "Modelo 130 : {'criterion': 'entropy', 'max_depth': 2, 'max_features': 4, 'n_estimators': 150} ✓ 0.7995787995787996\n",
            "Modelo 131 : {'criterion': 'entropy', 'max_depth': 2, 'max_features': 5, 'n_estimators': 60} ✓ 0.7999297999298\n",
            "Modelo 132 : {'criterion': 'entropy', 'max_depth': 2, 'max_features': 5, 'n_estimators': 80} ✓ 0.7997104247104247\n",
            "Modelo 133 : {'criterion': 'entropy', 'max_depth': 2, 'max_features': 5, 'n_estimators': 100} ✓ 0.7998420498420499\n",
            "Modelo 134 : {'criterion': 'entropy', 'max_depth': 2, 'max_features': 5, 'n_estimators': 120} ✓ 0.7997981747981748\n",
            "Modelo 135 : {'criterion': 'entropy', 'max_depth': 2, 'max_features': 5, 'n_estimators': 150} ✓ 0.799973674973675\n",
            "Modelo 136 : {'criterion': 'entropy', 'max_depth': 2, 'max_features': 7, 'n_estimators': 60} ✓ 0.8016848016848017\n",
            "Modelo 137 : {'criterion': 'entropy', 'max_depth': 2, 'max_features': 7, 'n_estimators': 80} ✓ 0.8008511758511758\n",
            "Modelo 138 : {'criterion': 'entropy', 'max_depth': 2, 'max_features': 7, 'n_estimators': 100} ✓ 0.8007634257634257\n",
            "Modelo 139 : {'criterion': 'entropy', 'max_depth': 2, 'max_features': 7, 'n_estimators': 120} ✓ 0.8005879255879256\n",
            "Modelo 140 : {'criterion': 'entropy', 'max_depth': 2, 'max_features': 7, 'n_estimators': 150} ✓ 0.8009389259389259\n",
            "Modelo 141 : {'criterion': 'entropy', 'max_depth': 3, 'max_features': 3, 'n_estimators': 60} ✓ 0.820989820989821\n",
            "Modelo 142 : {'criterion': 'entropy', 'max_depth': 3, 'max_features': 3, 'n_estimators': 80} ✓ 0.8168655668655669\n",
            "Modelo 143 : {'criterion': 'entropy', 'max_depth': 3, 'max_features': 3, 'n_estimators': 100} ✓ 0.8193225693225693\n",
            "Modelo 144 : {'criterion': 'entropy', 'max_depth': 3, 'max_features': 3, 'n_estimators': 120} ✓ 0.818006318006318\n",
            "Modelo 145 : {'criterion': 'entropy', 'max_depth': 3, 'max_features': 3, 'n_estimators': 150} ✓ 0.8206826956826957\n",
            "Modelo 146 : {'criterion': 'entropy', 'max_depth': 3, 'max_features': 4, 'n_estimators': 60} ✓ 0.8278782028782029\n",
            "Modelo 147 : {'criterion': 'entropy', 'max_depth': 3, 'max_features': 4, 'n_estimators': 80} ✓ 0.8243681993681994\n",
            "Modelo 148 : {'criterion': 'entropy', 'max_depth': 3, 'max_features': 4, 'n_estimators': 100} ✓ 0.8281414531414532\n",
            "Modelo 149 : {'criterion': 'entropy', 'max_depth': 3, 'max_features': 4, 'n_estimators': 120} ✓ 0.8287995787995788\n",
            "Modelo 150 : {'criterion': 'entropy', 'max_depth': 3, 'max_features': 4, 'n_estimators': 150} ✓ 0.8262548262548263\n",
            "Modelo 151 : {'criterion': 'entropy', 'max_depth': 3, 'max_features': 5, 'n_estimators': 60} ✓ 0.8397244647244647\n",
            "Modelo 152 : {'criterion': 'entropy', 'max_depth': 3, 'max_features': 5, 'n_estimators': 80} ✓ 0.8396367146367146\n",
            "Modelo 153 : {'criterion': 'entropy', 'max_depth': 3, 'max_features': 5, 'n_estimators': 100} ✓ 0.8392418392418393\n",
            "Modelo 154 : {'criterion': 'entropy', 'max_depth': 3, 'max_features': 5, 'n_estimators': 120} ✓ 0.8397244647244647\n",
            "Modelo 155 : {'criterion': 'entropy', 'max_depth': 3, 'max_features': 5, 'n_estimators': 150} ✓ 0.8402509652509652\n",
            "Modelo 156 : {'criterion': 'entropy', 'max_depth': 3, 'max_features': 7, 'n_estimators': 60} ✓ 0.8410407160407161\n",
            "Modelo 157 : {'criterion': 'entropy', 'max_depth': 3, 'max_features': 7, 'n_estimators': 80} ✓ 0.8416549666549666\n",
            "Modelo 158 : {'criterion': 'entropy', 'max_depth': 3, 'max_features': 7, 'n_estimators': 100} ✓ 0.8417427167427167\n",
            "Modelo 159 : {'criterion': 'entropy', 'max_depth': 3, 'max_features': 7, 'n_estimators': 120} ✓ 0.842049842049842\n",
            "Modelo 160 : {'criterion': 'entropy', 'max_depth': 3, 'max_features': 7, 'n_estimators': 150} ✓ 0.8418743418743418\n",
            "Modelo 161 : {'criterion': 'entropy', 'max_depth': 4, 'max_features': 3, 'n_estimators': 60} ✓ 0.8253334503334503\n",
            "Modelo 162 : {'criterion': 'entropy', 'max_depth': 4, 'max_features': 3, 'n_estimators': 80} ✓ 0.8300719550719551\n",
            "Modelo 163 : {'criterion': 'entropy', 'max_depth': 4, 'max_features': 3, 'n_estimators': 100} ✓ 0.8316075816075816\n",
            "Modelo 164 : {'criterion': 'entropy', 'max_depth': 4, 'max_features': 3, 'n_estimators': 120} ✓ 0.8314320814320815\n",
            "Modelo 165 : {'criterion': 'entropy', 'max_depth': 4, 'max_features': 3, 'n_estimators': 150} ✓ 0.830993330993331\n",
            "Modelo 166 : {'criterion': 'entropy', 'max_depth': 4, 'max_features': 4, 'n_estimators': 60} ✓ 0.8397683397683398\n",
            "Modelo 167 : {'criterion': 'entropy', 'max_depth': 4, 'max_features': 4, 'n_estimators': 80} ✓ 0.840075465075465\n",
            "Modelo 168 : {'criterion': 'entropy', 'max_depth': 4, 'max_features': 4, 'n_estimators': 100} ✓ 0.8401193401193401\n",
            "Modelo 169 : {'criterion': 'entropy', 'max_depth': 4, 'max_features': 4, 'n_estimators': 120} ✓ 0.8402509652509652\n",
            "Modelo 170 : {'criterion': 'entropy', 'max_depth': 4, 'max_features': 4, 'n_estimators': 150} ✓ 0.8403825903825903\n",
            "Modelo 171 : {'criterion': 'entropy', 'max_depth': 4, 'max_features': 5, 'n_estimators': 60} ✓ 0.8411723411723412\n",
            "Modelo 172 : {'criterion': 'entropy', 'max_depth': 4, 'max_features': 5, 'n_estimators': 80} ✓ 0.8422253422253422\n",
            "Modelo 173 : {'criterion': 'entropy', 'max_depth': 4, 'max_features': 5, 'n_estimators': 100} ✓ 0.8416988416988417\n",
            "Modelo 174 : {'criterion': 'entropy', 'max_depth': 4, 'max_features': 5, 'n_estimators': 120} ✓ 0.8415233415233415\n",
            "Modelo 175 : {'criterion': 'entropy', 'max_depth': 4, 'max_features': 5, 'n_estimators': 150} ✓ 0.8419620919620919\n",
            "Modelo 176 : {'criterion': 'entropy', 'max_depth': 4, 'max_features': 7, 'n_estimators': 60} ✓ 0.8421814671814671\n",
            "Modelo 177 : {'criterion': 'entropy', 'max_depth': 4, 'max_features': 7, 'n_estimators': 80} ✓ 0.842093717093717\n",
            "Modelo 178 : {'criterion': 'entropy', 'max_depth': 4, 'max_features': 7, 'n_estimators': 100} ✓ 0.8421814671814671\n",
            "Modelo 179 : {'criterion': 'entropy', 'max_depth': 4, 'max_features': 7, 'n_estimators': 120} ✓ 0.8422253422253422\n",
            "Modelo 180 : {'criterion': 'entropy', 'max_depth': 4, 'max_features': 7, 'n_estimators': 150} ✓ 0.8421375921375921\n",
            "Modelo 181 : {'criterion': 'entropy', 'max_depth': 5, 'max_features': 3, 'n_estimators': 60} ✓ 0.8384520884520884\n",
            "Modelo 182 : {'criterion': 'entropy', 'max_depth': 5, 'max_features': 3, 'n_estimators': 80} ✓ 0.8383643383643383\n",
            "Modelo 183 : {'criterion': 'entropy', 'max_depth': 5, 'max_features': 3, 'n_estimators': 100} ✓ 0.8394173394173394\n",
            "Modelo 184 : {'criterion': 'entropy', 'max_depth': 5, 'max_features': 3, 'n_estimators': 120} ✓ 0.8404264654264654\n",
            "Modelo 185 : {'criterion': 'entropy', 'max_depth': 5, 'max_features': 3, 'n_estimators': 150} ✓ 0.8417865917865918\n",
            "Modelo 186 : {'criterion': 'entropy', 'max_depth': 5, 'max_features': 4, 'n_estimators': 60} ✓ 0.8419620919620919\n",
            "Modelo 187 : {'criterion': 'entropy', 'max_depth': 5, 'max_features': 4, 'n_estimators': 80} ✓ 0.8422253422253422\n",
            "Modelo 188 : {'criterion': 'entropy', 'max_depth': 5, 'max_features': 4, 'n_estimators': 100} ✓ 0.8424447174447175\n",
            "Modelo 189 : {'criterion': 'entropy', 'max_depth': 5, 'max_features': 4, 'n_estimators': 120} ✓ 0.8424008424008425\n",
            "Modelo 190 : {'criterion': 'entropy', 'max_depth': 5, 'max_features': 4, 'n_estimators': 150} ✓ 0.8427079677079677\n",
            "Modelo 191 : {'criterion': 'entropy', 'max_depth': 5, 'max_features': 5, 'n_estimators': 60} ✓ 0.8428834678834679\n",
            "Modelo 192 : {'criterion': 'entropy', 'max_depth': 5, 'max_features': 5, 'n_estimators': 80} ✓ 0.8424885924885925\n",
            "Modelo 193 : {'criterion': 'entropy', 'max_depth': 5, 'max_features': 5, 'n_estimators': 100} ✓ 0.8428834678834679\n",
            "Modelo 194 : {'criterion': 'entropy', 'max_depth': 5, 'max_features': 5, 'n_estimators': 120} ✓ 0.8431905931905932\n",
            "Modelo 195 : {'criterion': 'entropy', 'max_depth': 5, 'max_features': 5, 'n_estimators': 150} ✓ 0.842971217971218\n",
            "Modelo 196 : {'criterion': 'entropy', 'max_depth': 5, 'max_features': 7, 'n_estimators': 60} ✓ 0.8424885924885925\n",
            "Modelo 197 : {'criterion': 'entropy', 'max_depth': 5, 'max_features': 7, 'n_estimators': 80} ✓ 0.8427518427518428\n",
            "Modelo 198 : {'criterion': 'entropy', 'max_depth': 5, 'max_features': 7, 'n_estimators': 100} ✓ 0.8427957177957178\n",
            "Modelo 199 : {'criterion': 'entropy', 'max_depth': 5, 'max_features': 7, 'n_estimators': 120} ✓ 0.8430589680589681\n",
            "Modelo 200 : {'criterion': 'entropy', 'max_depth': 5, 'max_features': 7, 'n_estimators': 150} ✓ 0.842927342927343\n"
          ]
        }
      ]
    },
    {
      "cell_type": "code",
      "source": [
        "# Resultados del Bosque Aleatorio\n",
        "resultadosBosque = pd.DataFrame(resultadosBosque)\n",
        "resultadosBosque = pd.concat([resultadosBosque, resultadosBosque['paramBosque'].apply(pd.Series)], axis=1)\n",
        "resultadosBosque = resultadosBosque.sort_values('rfScore', ascending=False)\n",
        "resultadosBosque = resultadosBosque.drop(columns=('paramBosque'))\n",
        "resultadosBosque.head()"
      ],
      "metadata": {
        "colab": {
          "base_uri": "https://localhost:8080/",
          "height": 206
        },
        "id": "DwZx5njKIV_C",
        "outputId": "95729375-f39a-46df-b4ff-e619c66044a6"
      },
      "id": "DwZx5njKIV_C",
      "execution_count": 65,
      "outputs": [
        {
          "output_type": "execute_result",
          "data": {
            "text/plain": [
              "     rfScore criterion  max_depth  max_features  n_estimators\n",
              "95  0.843893      gini        5.0             7            60\n",
              "96  0.843673      gini        5.0             7            80\n",
              "98  0.843454      gini        5.0             7           120\n",
              "99  0.843454      gini        5.0             7           150\n",
              "94  0.843410      gini        5.0             5           150"
            ],
            "text/html": [
              "\n",
              "  <div id=\"df-52c2a1a2-5339-4d27-90ea-9a2ea62d9bf9\" class=\"colab-df-container\">\n",
              "    <div>\n",
              "<style scoped>\n",
              "    .dataframe tbody tr th:only-of-type {\n",
              "        vertical-align: middle;\n",
              "    }\n",
              "\n",
              "    .dataframe tbody tr th {\n",
              "        vertical-align: top;\n",
              "    }\n",
              "\n",
              "    .dataframe thead th {\n",
              "        text-align: right;\n",
              "    }\n",
              "</style>\n",
              "<table border=\"1\" class=\"dataframe\">\n",
              "  <thead>\n",
              "    <tr style=\"text-align: right;\">\n",
              "      <th></th>\n",
              "      <th>rfScore</th>\n",
              "      <th>criterion</th>\n",
              "      <th>max_depth</th>\n",
              "      <th>max_features</th>\n",
              "      <th>n_estimators</th>\n",
              "    </tr>\n",
              "  </thead>\n",
              "  <tbody>\n",
              "    <tr>\n",
              "      <th>95</th>\n",
              "      <td>0.843893</td>\n",
              "      <td>gini</td>\n",
              "      <td>5.0</td>\n",
              "      <td>7</td>\n",
              "      <td>60</td>\n",
              "    </tr>\n",
              "    <tr>\n",
              "      <th>96</th>\n",
              "      <td>0.843673</td>\n",
              "      <td>gini</td>\n",
              "      <td>5.0</td>\n",
              "      <td>7</td>\n",
              "      <td>80</td>\n",
              "    </tr>\n",
              "    <tr>\n",
              "      <th>98</th>\n",
              "      <td>0.843454</td>\n",
              "      <td>gini</td>\n",
              "      <td>5.0</td>\n",
              "      <td>7</td>\n",
              "      <td>120</td>\n",
              "    </tr>\n",
              "    <tr>\n",
              "      <th>99</th>\n",
              "      <td>0.843454</td>\n",
              "      <td>gini</td>\n",
              "      <td>5.0</td>\n",
              "      <td>7</td>\n",
              "      <td>150</td>\n",
              "    </tr>\n",
              "    <tr>\n",
              "      <th>94</th>\n",
              "      <td>0.843410</td>\n",
              "      <td>gini</td>\n",
              "      <td>5.0</td>\n",
              "      <td>5</td>\n",
              "      <td>150</td>\n",
              "    </tr>\n",
              "  </tbody>\n",
              "</table>\n",
              "</div>\n",
              "    <div class=\"colab-df-buttons\">\n",
              "\n",
              "  <div class=\"colab-df-container\">\n",
              "    <button class=\"colab-df-convert\" onclick=\"convertToInteractive('df-52c2a1a2-5339-4d27-90ea-9a2ea62d9bf9')\"\n",
              "            title=\"Convert this dataframe to an interactive table.\"\n",
              "            style=\"display:none;\">\n",
              "\n",
              "  <svg xmlns=\"http://www.w3.org/2000/svg\" height=\"24px\" viewBox=\"0 -960 960 960\">\n",
              "    <path d=\"M120-120v-720h720v720H120Zm60-500h600v-160H180v160Zm220 220h160v-160H400v160Zm0 220h160v-160H400v160ZM180-400h160v-160H180v160Zm440 0h160v-160H620v160ZM180-180h160v-160H180v160Zm440 0h160v-160H620v160Z\"/>\n",
              "  </svg>\n",
              "    </button>\n",
              "\n",
              "  <style>\n",
              "    .colab-df-container {\n",
              "      display:flex;\n",
              "      gap: 12px;\n",
              "    }\n",
              "\n",
              "    .colab-df-convert {\n",
              "      background-color: #E8F0FE;\n",
              "      border: none;\n",
              "      border-radius: 50%;\n",
              "      cursor: pointer;\n",
              "      display: none;\n",
              "      fill: #1967D2;\n",
              "      height: 32px;\n",
              "      padding: 0 0 0 0;\n",
              "      width: 32px;\n",
              "    }\n",
              "\n",
              "    .colab-df-convert:hover {\n",
              "      background-color: #E2EBFA;\n",
              "      box-shadow: 0px 1px 2px rgba(60, 64, 67, 0.3), 0px 1px 3px 1px rgba(60, 64, 67, 0.15);\n",
              "      fill: #174EA6;\n",
              "    }\n",
              "\n",
              "    .colab-df-buttons div {\n",
              "      margin-bottom: 4px;\n",
              "    }\n",
              "\n",
              "    [theme=dark] .colab-df-convert {\n",
              "      background-color: #3B4455;\n",
              "      fill: #D2E3FC;\n",
              "    }\n",
              "\n",
              "    [theme=dark] .colab-df-convert:hover {\n",
              "      background-color: #434B5C;\n",
              "      box-shadow: 0px 1px 3px 1px rgba(0, 0, 0, 0.15);\n",
              "      filter: drop-shadow(0px 1px 2px rgba(0, 0, 0, 0.3));\n",
              "      fill: #FFFFFF;\n",
              "    }\n",
              "  </style>\n",
              "\n",
              "    <script>\n",
              "      const buttonEl =\n",
              "        document.querySelector('#df-52c2a1a2-5339-4d27-90ea-9a2ea62d9bf9 button.colab-df-convert');\n",
              "      buttonEl.style.display =\n",
              "        google.colab.kernel.accessAllowed ? 'block' : 'none';\n",
              "\n",
              "      async function convertToInteractive(key) {\n",
              "        const element = document.querySelector('#df-52c2a1a2-5339-4d27-90ea-9a2ea62d9bf9');\n",
              "        const dataTable =\n",
              "          await google.colab.kernel.invokeFunction('convertToInteractive',\n",
              "                                                    [key], {});\n",
              "        if (!dataTable) return;\n",
              "\n",
              "        const docLinkHtml = 'Like what you see? Visit the ' +\n",
              "          '<a target=\"_blank\" href=https://colab.research.google.com/notebooks/data_table.ipynb>data table notebook</a>'\n",
              "          + ' to learn more about interactive tables.';\n",
              "        element.innerHTML = '';\n",
              "        dataTable['output_type'] = 'display_data';\n",
              "        await google.colab.output.renderOutput(dataTable, element);\n",
              "        const docLink = document.createElement('div');\n",
              "        docLink.innerHTML = docLinkHtml;\n",
              "        element.appendChild(docLink);\n",
              "      }\n",
              "    </script>\n",
              "  </div>\n",
              "\n",
              "\n",
              "<div id=\"df-56b057f8-c9ed-4896-acfd-de3d80c4005c\">\n",
              "  <button class=\"colab-df-quickchart\" onclick=\"quickchart('df-56b057f8-c9ed-4896-acfd-de3d80c4005c')\"\n",
              "            title=\"Suggest charts\"\n",
              "            style=\"display:none;\">\n",
              "\n",
              "<svg xmlns=\"http://www.w3.org/2000/svg\" height=\"24px\"viewBox=\"0 0 24 24\"\n",
              "     width=\"24px\">\n",
              "    <g>\n",
              "        <path d=\"M19 3H5c-1.1 0-2 .9-2 2v14c0 1.1.9 2 2 2h14c1.1 0 2-.9 2-2V5c0-1.1-.9-2-2-2zM9 17H7v-7h2v7zm4 0h-2V7h2v10zm4 0h-2v-4h2v4z\"/>\n",
              "    </g>\n",
              "</svg>\n",
              "  </button>\n",
              "\n",
              "<style>\n",
              "  .colab-df-quickchart {\n",
              "      --bg-color: #E8F0FE;\n",
              "      --fill-color: #1967D2;\n",
              "      --hover-bg-color: #E2EBFA;\n",
              "      --hover-fill-color: #174EA6;\n",
              "      --disabled-fill-color: #AAA;\n",
              "      --disabled-bg-color: #DDD;\n",
              "  }\n",
              "\n",
              "  [theme=dark] .colab-df-quickchart {\n",
              "      --bg-color: #3B4455;\n",
              "      --fill-color: #D2E3FC;\n",
              "      --hover-bg-color: #434B5C;\n",
              "      --hover-fill-color: #FFFFFF;\n",
              "      --disabled-bg-color: #3B4455;\n",
              "      --disabled-fill-color: #666;\n",
              "  }\n",
              "\n",
              "  .colab-df-quickchart {\n",
              "    background-color: var(--bg-color);\n",
              "    border: none;\n",
              "    border-radius: 50%;\n",
              "    cursor: pointer;\n",
              "    display: none;\n",
              "    fill: var(--fill-color);\n",
              "    height: 32px;\n",
              "    padding: 0;\n",
              "    width: 32px;\n",
              "  }\n",
              "\n",
              "  .colab-df-quickchart:hover {\n",
              "    background-color: var(--hover-bg-color);\n",
              "    box-shadow: 0 1px 2px rgba(60, 64, 67, 0.3), 0 1px 3px 1px rgba(60, 64, 67, 0.15);\n",
              "    fill: var(--button-hover-fill-color);\n",
              "  }\n",
              "\n",
              "  .colab-df-quickchart-complete:disabled,\n",
              "  .colab-df-quickchart-complete:disabled:hover {\n",
              "    background-color: var(--disabled-bg-color);\n",
              "    fill: var(--disabled-fill-color);\n",
              "    box-shadow: none;\n",
              "  }\n",
              "\n",
              "  .colab-df-spinner {\n",
              "    border: 2px solid var(--fill-color);\n",
              "    border-color: transparent;\n",
              "    border-bottom-color: var(--fill-color);\n",
              "    animation:\n",
              "      spin 1s steps(1) infinite;\n",
              "  }\n",
              "\n",
              "  @keyframes spin {\n",
              "    0% {\n",
              "      border-color: transparent;\n",
              "      border-bottom-color: var(--fill-color);\n",
              "      border-left-color: var(--fill-color);\n",
              "    }\n",
              "    20% {\n",
              "      border-color: transparent;\n",
              "      border-left-color: var(--fill-color);\n",
              "      border-top-color: var(--fill-color);\n",
              "    }\n",
              "    30% {\n",
              "      border-color: transparent;\n",
              "      border-left-color: var(--fill-color);\n",
              "      border-top-color: var(--fill-color);\n",
              "      border-right-color: var(--fill-color);\n",
              "    }\n",
              "    40% {\n",
              "      border-color: transparent;\n",
              "      border-right-color: var(--fill-color);\n",
              "      border-top-color: var(--fill-color);\n",
              "    }\n",
              "    60% {\n",
              "      border-color: transparent;\n",
              "      border-right-color: var(--fill-color);\n",
              "    }\n",
              "    80% {\n",
              "      border-color: transparent;\n",
              "      border-right-color: var(--fill-color);\n",
              "      border-bottom-color: var(--fill-color);\n",
              "    }\n",
              "    90% {\n",
              "      border-color: transparent;\n",
              "      border-bottom-color: var(--fill-color);\n",
              "    }\n",
              "  }\n",
              "</style>\n",
              "\n",
              "  <script>\n",
              "    async function quickchart(key) {\n",
              "      const quickchartButtonEl =\n",
              "        document.querySelector('#' + key + ' button');\n",
              "      quickchartButtonEl.disabled = true;  // To prevent multiple clicks.\n",
              "      quickchartButtonEl.classList.add('colab-df-spinner');\n",
              "      try {\n",
              "        const charts = await google.colab.kernel.invokeFunction(\n",
              "            'suggestCharts', [key], {});\n",
              "      } catch (error) {\n",
              "        console.error('Error during call to suggestCharts:', error);\n",
              "      }\n",
              "      quickchartButtonEl.classList.remove('colab-df-spinner');\n",
              "      quickchartButtonEl.classList.add('colab-df-quickchart-complete');\n",
              "    }\n",
              "    (() => {\n",
              "      let quickchartButtonEl =\n",
              "        document.querySelector('#df-56b057f8-c9ed-4896-acfd-de3d80c4005c button');\n",
              "      quickchartButtonEl.style.display =\n",
              "        google.colab.kernel.accessAllowed ? 'block' : 'none';\n",
              "    })();\n",
              "  </script>\n",
              "</div>\n",
              "    </div>\n",
              "  </div>\n"
            ],
            "application/vnd.google.colaboratory.intrinsic+json": {
              "type": "dataframe",
              "variable_name": "resultadosBosque",
              "summary": "{\n  \"name\": \"resultadosBosque\",\n  \"rows\": 200,\n  \"fields\": [\n    {\n      \"column\": \"rfScore\",\n      \"properties\": {\n        \"dtype\": \"number\",\n        \"std\": 0.015649950014976745,\n        \"min\": 0.7983941733941734,\n        \"max\": 0.8438925938925939,\n        \"num_unique_values\": 143,\n        \"samples\": [\n          0.8014654264654265,\n          0.8422253422253422,\n          0.831958581958582\n        ],\n        \"semantic_type\": \"\",\n        \"description\": \"\"\n      }\n    },\n    {\n      \"column\": \"criterion\",\n      \"properties\": {\n        \"dtype\": \"category\",\n        \"num_unique_values\": 2,\n        \"samples\": [\n          \"entropy\",\n          \"gini\"\n        ],\n        \"semantic_type\": \"\",\n        \"description\": \"\"\n      }\n    },\n    {\n      \"column\": \"max_depth\",\n      \"properties\": {\n        \"dtype\": \"number\",\n        \"std\": 1.1215443081840886,\n        \"min\": 2.0,\n        \"max\": 5.0,\n        \"num_unique_values\": 4,\n        \"samples\": [\n          4.0,\n          2.0\n        ],\n        \"semantic_type\": \"\",\n        \"description\": \"\"\n      }\n    },\n    {\n      \"column\": \"max_features\",\n      \"properties\": {\n        \"dtype\": \"number\",\n        \"std\": 1,\n        \"min\": 3,\n        \"max\": 7,\n        \"num_unique_values\": 4,\n        \"samples\": [\n          5,\n          3\n        ],\n        \"semantic_type\": \"\",\n        \"description\": \"\"\n      }\n    },\n    {\n      \"column\": \"n_estimators\",\n      \"properties\": {\n        \"dtype\": \"number\",\n        \"std\": 31,\n        \"min\": 60,\n        \"max\": 150,\n        \"num_unique_values\": 5,\n        \"samples\": [\n          80,\n          100\n        ],\n        \"semantic_type\": \"\",\n        \"description\": \"\"\n      }\n    }\n  ]\n}"
            }
          },
          "metadata": {},
          "execution_count": 65
        }
      ]
    },
    {
      "cell_type": "markdown",
      "source": [
        "Elegimos el mejor modelo"
      ],
      "metadata": {
        "id": "NHzaQMS2ldtM"
      },
      "id": "NHzaQMS2ldtM"
    },
    {
      "cell_type": "code",
      "source": [
        "finalBosque = RandomForestClassifier(n_estimators=120,criterion=\"gini\",max_features=5,max_depth=14,oob_score=True,random_state=444)\n",
        "finalBosque.fit(X,y)\n",
        "\n",
        "print(f\"Modelo {i} : {p} \\u2713\", finalBosque.oob_score_)"
      ],
      "metadata": {
        "colab": {
          "base_uri": "https://localhost:8080/"
        },
        "id": "NwWz65YwIV8q",
        "outputId": "9f4fb437-e114-46cd-e230-b32c4fa79aca"
      },
      "id": "NwWz65YwIV8q",
      "execution_count": 66,
      "outputs": [
        {
          "output_type": "stream",
          "name": "stdout",
          "text": [
            "Modelo 200 : {'criterion': 'entropy', 'max_depth': 5, 'max_features': 7, 'n_estimators': 150} ✓ 0.8559319431221399\n"
          ]
        }
      ]
    },
    {
      "cell_type": "code",
      "source": [
        "#Ver una grafica con la importancia de cada variable en este modelo\n",
        "importancia=finalBosque.feature_importances_\n",
        "features=finalBosque.feature_names_in_\n",
        "importancia_pronostico=pd.Series(importancia,index=features)\n",
        "fig,ax=plt.subplots(figsize=(10,4))\n",
        "ax.bar(features,importancia)\n",
        "ax.set_title(\"Importancia de las caracteristicas\")\n",
        "ax.set_ylabel(\"Importancia de las caracteriticas basado el impurity\")\n",
        "fig.tight_layout()"
      ],
      "metadata": {
        "colab": {
          "base_uri": "https://localhost:8080/",
          "height": 393
        },
        "id": "94G_gH2qIV5S",
        "outputId": "9d4e8bfc-64c4-47da-9dfa-d9e95f154c1a"
      },
      "id": "94G_gH2qIV5S",
      "execution_count": 67,
      "outputs": [
        {
          "output_type": "display_data",
          "data": {
            "text/plain": [
              "<Figure size 1000x400 with 1 Axes>"
            ],
            "image/png": "[encoded data removed]"
          },
          "metadata": {}
        }
      ]
    },
    {
      "cell_type": "code",
      "source": [
        "#obtener la exactitud del Bosque\n",
        "scoreBosque=finalBosque.score(X_train, y_train)\n",
        "print(scoreBosque)\n",
        "score=finalBosque.score(X_test, y_test)\n",
        "print(score)"
      ],
      "metadata": {
        "colab": {
          "base_uri": "https://localhost:8080/"
        },
        "id": "WHhst7jUIVni",
        "outputId": "e319ec6e-5736-436e-bec2-e9fad1140e0e"
      },
      "id": "WHhst7jUIVni",
      "execution_count": 68,
      "outputs": [
        {
          "output_type": "stream",
          "name": "stdout",
          "text": [
            "0.8916286416286416\n",
            "0.8920053229603849\n"
          ]
        }
      ]
    },
    {
      "cell_type": "code",
      "source": [
        "#crear un DF con las prediccionesy sus valores reales\n",
        "y_predictBosque=mejorArbol.predict(X_test)\n",
        "y_predictBosquedf=pd.DataFrame(y_predictBosque,columns=[\"prediccion\"])\n",
        "y_test_ordenado=y_test.reset_index(drop=True)\n",
        "comparativo=pd.concat([y_test_ordenado,y_predictBosquedf],axis=1)\n",
        "print(comparativo.head(20))"
      ],
      "metadata": {
        "colab": {
          "base_uri": "https://localhost:8080/"
        },
        "id": "ASKpmEgt7Kbp",
        "outputId": "0972c38c-57e4-41bb-fbcc-4565669c423a"
      },
      "id": "ASKpmEgt7Kbp",
      "execution_count": 69,
      "outputs": [
        {
          "output_type": "stream",
          "name": "stdout",
          "text": [
            "    income  prediccion\n",
            "0        0           0\n",
            "1        0           0\n",
            "2        0           0\n",
            "3        0           0\n",
            "4        0           0\n",
            "5        0           0\n",
            "6        0           0\n",
            "7        0           1\n",
            "8        0           0\n",
            "9        0           0\n",
            "10       0           0\n",
            "11       0           0\n",
            "12       0           0\n",
            "13       1           0\n",
            "14       0           0\n",
            "15       0           0\n",
            "16       1           0\n",
            "17       0           0\n",
            "18       1           0\n",
            "19       0           0\n"
          ]
        }
      ]
    },
    {
      "cell_type": "code",
      "source": [
        "#Se crea una tabla con los datos de la matriz\n",
        "matrixBosque=confusion_matrix(y_test,y_predictBosque)\n",
        "#Grafica la matriz\n",
        "mostrarMatrixBosque=ConfusionMatrixDisplay(confusion_matrix=matrixBosque,display_labels=mejorArbol.classes_)\n",
        "mostrarMatrixBosque.plot()"
      ],
      "metadata": {
        "colab": {
          "base_uri": "https://localhost:8080/",
          "height": 481
        },
        "id": "GXRX5AEP7lY6",
        "outputId": "86c503a8-945e-42b0-e8f0-5d46ddcb1bfc"
      },
      "id": "GXRX5AEP7lY6",
      "execution_count": 70,
      "outputs": [
        {
          "output_type": "execute_result",
          "data": {
            "text/plain": [
              "<sklearn.metrics._plot.confusion_matrix.ConfusionMatrixDisplay at 0x78033b417c10>"
            ]
          },
          "metadata": {},
          "execution_count": 70
        },
        {
          "output_type": "display_data",
          "data": {
            "text/plain": [
              "<Figure size 640x480 with 2 Axes>"
            ],
            "image/png": "[encoded data removed]"
          },
          "metadata": {}
        }
      ]
    },
    {
      "cell_type": "code",
      "source": [
        "print(classification_report(y_test,y_predictBosque))"
      ],
      "metadata": {
        "colab": {
          "base_uri": "https://localhost:8080/"
        },
        "id": "9gqPZAaB8x3S",
        "outputId": "22245722-d80d-4973-d9c9-b541aa8343f2"
      },
      "id": "9gqPZAaB8x3S",
      "execution_count": 71,
      "outputs": [
        {
          "output_type": "stream",
          "name": "stdout",
          "text": [
            "              precision    recall  f1-score   support\n",
            "\n",
            "           0       0.86      0.95      0.91      7440\n",
            "           1       0.77      0.51      0.62      2329\n",
            "\n",
            "    accuracy                           0.85      9769\n",
            "   macro avg       0.82      0.73      0.76      9769\n",
            "weighted avg       0.84      0.85      0.84      9769\n",
            "\n"
          ]
        }
      ]
    },
    {
      "cell_type": "code",
      "source": [
        "fprBosque,tprBosque,umbral=roc_curve(y_test,y_predictBosque)\n",
        "#graficar la curva ROC\n",
        "plt.plot(fprBosque,tprBosque)\n",
        "plt.plot([0,1],[0,1],\"--\")\n",
        "plt.xlabel(\"Tasa Falso Positivos\")\n",
        "plt.ylabel(\"Tasa de verdaderos positivos\")\n",
        "plt.title(\"CURVA ROC\")\n",
        "plt.show()"
      ],
      "metadata": {
        "colab": {
          "base_uri": "https://localhost:8080/",
          "height": 485
        },
        "id": "jqChYDLK82j5",
        "outputId": "ecf6543c-133b-46be-f8b0-f1370cd397c2"
      },
      "id": "jqChYDLK82j5",
      "execution_count": 72,
      "outputs": [
        {
          "output_type": "display_data",
          "data": {
            "text/plain": [
              "<Figure size 640x480 with 1 Axes>"
            ],
            "image/png": "[encoded data removed]"
          },
          "metadata": {}
        }
      ]
    },
    {
      "cell_type": "code",
      "source": [
        "#Area bajo la curva\n",
        "print (\"Area bajo la curva Bosque\", auc(fprBosque,tprBosque))"
      ],
      "metadata": {
        "colab": {
          "base_uri": "https://localhost:8080/"
        },
        "id": "ur5icX8v9HPl",
        "outputId": "81eb9058-1e72-4214-d95b-0aa28c0db9d8"
      },
      "id": "ur5icX8v9HPl",
      "execution_count": 73,
      "outputs": [
        {
          "output_type": "stream",
          "name": "stdout",
          "text": [
            "Area bajo la curva Bosque 0.7319398756677147\n"
          ]
        }
      ]
    },
    {
      "cell_type": "code",
      "source": [
        "#Area bajo la curva\n",
        "print (\"Area bajo la curva Arbol\", auc(fprArbol,tprArbol))"
      ],
      "metadata": {
        "colab": {
          "base_uri": "https://localhost:8080/"
        },
        "id": "hNAxJ63T_A6B",
        "outputId": "e90a44f5-3db9-4cfd-a707-190ec9e68d6c"
      },
      "id": "hNAxJ63T_A6B",
      "execution_count": 74,
      "outputs": [
        {
          "output_type": "stream",
          "name": "stdout",
          "text": [
            "Area bajo la curva Arbol 0.7319398756677147\n"
          ]
        }
      ]
    },
    {
      "cell_type": "markdown",
      "source": [
        "Conclusión General:\n",
        "\n",
        "XGBoost: Con una precisión de 0.862, el modelo XGBoost supera significativamente a los otros modelos en términos de precisión. Esto sugiere que XGBoost es el modelo más efectivo para este problema de predicción en particular.\n",
        "\n",
        "Random Forest y Árboles de Decisión: Ambos modelos tienen una precisión similar de alrededor de 0.732. Esto indica que, aunque estos modelos pueden ser efectivos, su rendimiento es inferior al de XGBoost en este caso.\n",
        "\n",
        "Naive Bayes: Con una precisión de 0.804, el modelo Naive Bayes se encuentra en una posición intermedia entre XGBoost y los modelos de árboles de decisión. Aunque supera a los modelos de árboles de decisión y bosque aleatorio, no alcanza la precisión del modelo XGBoost.\n",
        "\n",
        "Conclusiones Específicas:\n",
        "\n",
        "XGBoost: Este modelo demostró ser el más efectivo en términos de precisión. Su capacidad para aprender relaciones complejas en los datos y evitar el sobreajuste lo hace destacar en este problema de predicción.\n",
        "\n",
        "Random Forest y Árboles de Decisión: Aunque estos modelos ofrecen una precisión razonable, su rendimiento es inferior al de XGBoost. Sin embargo, pueden ser opciones viables si se prefiere un modelo más simple y fácil de interpretar.\n",
        "\n",
        "Naive Bayes: Aunque el modelo Naive Bayes no alcanza la precisión de XGBoost, su desempeño es respetable y puede ser una opción adecuada si se busca un modelo más ligero computacionalmente y con menos requisitos de ajuste.\n",
        "\n",
        "En resumen, la elección del modelo dependerá de diversos factores, como la precisión requerida, la complejidad del problema y las limitaciones computacionales. En este caso, XGBoost emerge como el modelo preferido debido a su alta precisión, pero siempre es importante considerar otros factores antes de tomar una decisión final"
      ],
      "metadata": {
        "id": "1VZuK_9r3Cl0"
      },
      "id": "1VZuK_9r3Cl0"
    }
  ],
  "metadata": {
    "kernelspec": {
      "display_name": "sagemaker-distribution:Python",
      "language": "python",
      "name": "conda-env-sagemaker-distribution-py"
    },
    "language_info": {
      "codemirror_mode": {
        "name": "ipython",
        "version": 3
      },
      "file_extension": ".py",
      "mimetype": "text/x-python",
      "name": "python",
      "nbconvert_exporter": "python",
      "pygments_lexer": "ipython3",
      "version": "3.8.17"
    },
    "colab": {
      "provenance": []
    }
  },
  "nbformat": 4,
  "nbformat_minor": 5
}